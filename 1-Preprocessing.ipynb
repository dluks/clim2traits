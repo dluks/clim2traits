{
    "cells": [
        {
            "attachments": {},
            "cell_type": "markdown",
            "id": "e2f642f2-ef7d-4eb2-83db-d03875c8cc5a",
            "metadata": {},
            "source": [
                "# 1: Setup and Data Exploration\n",
                "\n",
                "Author: Daniel Lusk"
            ]
        },
        {
            "attachments": {},
            "cell_type": "markdown",
            "id": "6a1a7a0f-4293-4dd7-a907-bfafb226d0ab",
            "metadata": {},
            "source": [
                "## Imports"
            ]
        },
        {
            "cell_type": "code",
            "execution_count": null,
            "id": "52ee0a07-5d34-478c-8f9b-0be892664591",
            "metadata": {},
            "outputs": [],
            "source": [
                "import os\n",
                "\n",
                "import rioxarray as riox\n",
                "import utils.geodata as geodata\n",
                "from PreprocessingConfig import PreprocessingConfig\n",
                "from utils.datasets import Dataset, Unit, resample_dataset, CollectionName\n",
                "\n",
                "from utils.visualize import plot_traits\n",
                "\n",
                "%load_ext autoreload\n",
                "%autoreload 2\n",
                "\n",
                "# Load configuration\n",
                "config = PreprocessingConfig()"
            ]
        },
        {
            "attachments": {},
            "cell_type": "markdown",
            "id": "715fefce",
            "metadata": {},
            "source": [
                "## Try/iNaturalist trait maps"
            ]
        },
        {
            "attachments": {},
            "cell_type": "markdown",
            "id": "2bc43c4b-2ea7-4a0f-b226-3b08bae3dad7",
            "metadata": {},
            "source": [
                "### Visualize TRY/iNaturalist trait maps\n",
                "\n",
                "First, let's look at the trait maps generated from TRY/iNaturalist observations by [Wolf, et al. (2022)](https://doi.org/10.1038/s41559-022-01904-x)."
            ]
        },
        {
            "cell_type": "code",
            "execution_count": null,
            "id": "1b142789",
            "metadata": {},
            "outputs": [],
            "source": [
                "if config.plot_traits:\n",
                "    inat_fns_2deg = config.iNat_fns(\"2\")\n",
                "\n",
                "    plot_traits(inat_fns_2deg, 4)"
            ]
        },
        {
            "attachments": {},
            "cell_type": "markdown",
            "id": "b4d783cd",
            "metadata": {},
            "source": [
                "### Convert to GeoDataFrames and merge"
            ]
        },
        {
            "cell_type": "code",
            "execution_count": null,
            "id": "24459b3e",
            "metadata": {},
            "outputs": [],
            "source": [
                "trait_fns = config.iNat_fns\n",
                "\n",
                "trait_gdfs = []\n",
                "for trait_fn in trait_fns:\n",
                "    gdf = geodata.tif2gdf(trait_fn)\n",
                "    trait_gdfs.append(gdf)\n",
                "\n",
                "trait_gdfs = geodata.merge_gdfs(trait_gdfs)\n",
                "trait_gdfs.head(5)"
            ]
        },
        {
            "attachments": {},
            "cell_type": "markdown",
            "id": "5d31196e",
            "metadata": {},
            "source": [
                "## WorldClim data"
            ]
        },
        {
            "attachments": {},
            "cell_type": "markdown",
            "id": "f0a12e00",
            "metadata": {},
            "source": [
                "Load the tifs and resample to all resolutions needed"
            ]
        },
        {
            "cell_type": "code",
            "execution_count": null,
            "id": "fe6e8a99",
            "metadata": {},
            "outputs": [],
            "source": [
                "wc = Dataset(\n",
                "    res=0.5,\n",
                "    unit=Unit.DEGREE,\n",
                "    parent_dir=config.WC_dir,\n",
                "    collection_name=config.WC_name,\n",
                "    # bio_ids=config.WC_bio_ids,\n",
                ")\n",
                "\n",
                "if config.resamp_to_disk:\n",
                "    resample_dataset(dataset=wc, resolution=2, unit=Unit.DEGREE)"
            ]
        },
        {
            "attachments": {},
            "cell_type": "markdown",
            "id": "1184b967",
            "metadata": {},
            "source": [
                "Convert to GeoDataFrames and merge"
            ]
        },
        {
            "cell_type": "code",
            "execution_count": null,
            "id": "7a4d19b8",
            "metadata": {},
            "outputs": [],
            "source": [
                "bio_fns = config.WC_fns\n",
                "\n",
                "bios = []\n",
                "for bio_fn in bio_fns:\n",
                "    name = os.path.splitext(os.path.basename(bio_fn))[0]\n",
                "    bio = riox.open_rasterio(bio_fn, masked=True)\n",
                "    bio.name = name\n",
                "    bios.append(bio)\n",
                "    \n",
                "bio_gdfs = geodata.merge_gdfs([geodata.tif2gdf(bio) for bio in bios])\n",
                "bio_gdfs.head(5)"
            ]
        },
        {
            "attachments": {},
            "cell_type": "markdown",
            "id": "2f793fff",
            "metadata": {},
            "source": [
                "Compute Preciptation Annual Range by subtracting BIO14 from BIO13"
            ]
        },
        {
            "cell_type": "code",
            "execution_count": null,
            "id": "56668ae3",
            "metadata": {},
            "outputs": [],
            "source": [
                "bio_13 = bio_gdfs.loc[:, [\"bio_13\" in x for x in bio_gdfs.columns]].values\n",
                "bio_14 = bio_gdfs.loc[:, [\"bio_14\" in x for x in bio_gdfs.columns]].values\n",
                "bio_gdfs[\"wc2.1_10m_bio_13-14\"] = bio_13 - bio_14"
            ]
        },
        {
            "attachments": {},
            "cell_type": "markdown",
            "id": "4c691317",
            "metadata": {},
            "source": [
                "## MODIS Terra Surface Reflectance bands 1-5"
            ]
        },
        {
            "attachments": {},
            "cell_type": "markdown",
            "id": "dbedb66d",
            "metadata": {},
            "source": [
                "1. Get bands 1-5 of MODIS Terra Surface Reflectance dataset\n",
                "2. mask clouds\n",
                "3. aggregate into monthly collections\n",
                "4. export to Google Drive with a target resolution of ~1km at the equator (0.008983152841195, -0.008983152841195)"
            ]
        },
        {
            "cell_type": "code",
            "execution_count": null,
            "id": "22f37e38",
            "metadata": {},
            "outputs": [],
            "source": [
                "if config.gee_export:\n",
                "    import ee\n",
                "    import utils.gee as gee\n",
                "\n",
                "    # ee.Authenticate() # Uncomment if not already authenticated\n",
                "    ee.Initialize()\n",
                "\n",
                "    # Get MODIS Terra Surface Reflectance image collection for its first five years of operation\n",
                "    # (2000-03-01 - 2001-03-01)\n",
                "    ds, de = \"2000-03-01\", \"2005-03-02\"\n",
                "    bands = [\n",
                "        \"sur_refl_b01\",\n",
                "        \"sur_refl_b02\",\n",
                "        \"sur_refl_b03\",\n",
                "        \"sur_refl_b04\",\n",
                "        \"sur_refl_b05\",\n",
                "    ]\n",
                "    modis_tsr = ee.ImageCollection(\"MODIS/061/MOD09GA\").filterDate(ds, de)\n",
                "\n",
                "    # Mask clouds\n",
                "    qa_band = \"state_1km\"\n",
                "    modis_tsr_masked = gee.mask_clouds(modis_tsr, qa_band)\n",
                "\n",
                "    # Aggregate the image collection into monthly averages for each band\n",
                "    tsr_bands_monthly = []\n",
                "    for band in bands:\n",
                "        monthly = gee.aggregate_ic(modis_tsr_masked.select(band), ds, de)\n",
                "        tsr_bands_monthly.append(monthly)\n",
                "\n",
                "    tsr_monthly_means = []\n",
                "    for band_ic in tsr_bands_monthly:\n",
                "        tsr_monthly_means.append(gee.aggregate_ic_monthly(band_ic, ds, de))\n",
                "\n",
                "    # Combine the five bands into a single image collection\n",
                "    tsr_monthly_means = (\n",
                "        tsr_monthly_means[0]\n",
                "        .combine(tsr_monthly_means[1])\n",
                "        .combine(tsr_monthly_means[2])\n",
                "        .combine(tsr_monthly_means[3])\n",
                "        .combine(tsr_monthly_means[4])\n",
                "    )\n",
                "\n",
                "    # Reproject the image collection to EPSG:4326 with a scale of 1km\n",
                "    tsr_monthly_means = tsr_monthly_means.map(lambda x: x.reproject(\"EPSG:4326\", None, 1000))\n",
                "\n",
                "    # Unmask the image collection and convert to int16 (because NoData values are replaced with 0 when converting to int16)\n",
                "    tsr_monthly_means = tsr_monthly_means.map(lambda x: x.unmask(-32768))\n",
                "    tsr_monthly_means = tsr_monthly_means.map(lambda x: x.toInt16())\n",
                "\n",
                "    # Export images to Google Drive\n",
                "    gee.export_collection(\n",
                "        collection=tsr_monthly_means, folder=\"multiband_monthly_averages\"\n",
                "    )"
            ]
        },
        {
            "attachments": {},
            "cell_type": "markdown",
            "id": "07c7c667",
            "metadata": {},
            "source": [
                "5. Merge semi-global observations for each band/month (See `scripts/merge_files.py`)"
            ]
        },
        {
            "attachments": {},
            "cell_type": "markdown",
            "id": "9d14b191",
            "metadata": {},
            "source": [
                "6. Downsample to match resolution of trait maps (0.5 deg)"
            ]
        },
        {
            "cell_type": "code",
            "execution_count": null,
            "id": "81239eed",
            "metadata": {},
            "outputs": [],
            "source": [
                "modis = Dataset(\n",
                "    res=0.5,\n",
                "    unit=Unit.DEGREE,\n",
                "    collection_name=CollectionName.MODIS,\n",
                ")\n",
                "\n",
                "# Uncomment to resample the MODIS dataset to another resolution\n",
                "# resample_dataset(dataset=modis, resolution=2, unit=Unit.DEGREE)"
            ]
        },
        {
            "attachments": {},
            "cell_type": "markdown",
            "id": "ebe9636f",
            "metadata": {},
            "source": [
                "## ISRIC soil data"
            ]
        },
        {
            "attachments": {},
            "cell_type": "markdown",
            "id": "da8eed9e",
            "metadata": {},
            "source": [
                "1. Download soil data from [ISRIC](https://files.isric.org/soilgrids/latest/data/)\n",
                "2. Reproject to WGS84, and resample to ~1km resolution"
            ]
        },
        {
            "attachments": {},
            "cell_type": "markdown",
            "id": "bfd7ac1e",
            "metadata": {},
            "source": [
                "See `get_soil_data_multi.py`"
            ]
        },
        {
            "attachments": {},
            "cell_type": "markdown",
            "id": "a97934b9",
            "metadata": {},
            "source": [
                "3. Reproject and downsample to Wolf trait maps CRS"
            ]
        },
        {
            "cell_type": "code",
            "execution_count": null,
            "id": "4ece07ee",
            "metadata": {},
            "outputs": [],
            "source": [
                "soil = Dataset(\n",
                "    res=0.5,\n",
                "    unit=Unit.DEGREE,\n",
                "    collection_name=config.soil_name,\n",
                ")\n",
                "\n",
                "# Uncomment to resample the ISRIC dataset to another resolution\n",
                "# resample_dataset(dataset=soil, resolution=2, unit=Unit.DEGREE)"
            ]
        },
        {
            "cell_type": "markdown",
            "id": "5834f9be",
            "metadata": {},
            "source": [
                "# VODCA"
            ]
        },
        {
            "cell_type": "markdown",
            "id": "9e835a92",
            "metadata": {},
            "source": [
                "Downsample all three bands spatially, resample to monthly, and save to disk"
            ]
        },
        {
            "cell_type": "code",
            "execution_count": null,
            "id": "d048e69c",
            "metadata": {},
            "outputs": [],
            "source": [
                "import xarray as xr\n",
                "\n",
                "\n",
                "def daily_to_multiyear_monthly(\n",
                "    ds: xr.Dataset, band_name: str, out_name: str, p_dir: str\n",
                ") -> None:\n",
                "    \"\"\"Converts daily data to multiyear monthly data and saves to disk\"\"\"\n",
                "    ds = ds.drop_vars([\"sensor_flag\", \"processing_flag\"])\n",
                "    ds = ds.rename({\"vod\": band_name})\n",
                "    ds_05 = (\n",
                "        ds.coarsen(lon=2, lat=2, boundary=\"exact\")\n",
                "        .mean()\n",
                "        .resample(time=\"1MS\")\n",
                "        .mean()\n",
                "        .groupby(\"time.month\")\n",
                "        .mean(\"time\")\n",
                "    )\n",
                "    ds_05.attrs[\"geospatiallatresolution\"] = \"0.5 degree\"\n",
                "    ds_05.attrs[\"geospatiallonresolution\"] = \"0.5 degree\"\n",
                "\n",
                "    ds_025 = ds.resample(time=\"1MS\").mean().groupby(\"time.month\").mean(\"time\")\n",
                "\n",
                "    ds_05.to_netcdf(f\"{p_dir}/0.5_deg/{out_name}_multiyear_monthly_0.5_deg.nc\")\n",
                "    ds_025.to_netcdf(f\"{p_dir}/0.25_deg/{out_name}_multiyear_monthly_0.25_deg.nc\")"
            ]
        },
        {
            "cell_type": "markdown",
            "id": "73c25214",
            "metadata": {},
            "source": [
                "## C-band (2002-2004)"
            ]
        },
        {
            "cell_type": "code",
            "execution_count": null,
            "id": "8b1cb17c",
            "metadata": {},
            "outputs": [],
            "source": [
                "c_band = xr.open_mfdataset(\n",
                "    \"./data/vodca/source/C-Band/200*/*.nc\",\n",
                "    engine=\"h5netcdf\",\n",
                "    parallel=True,\n",
                "    chunks={\"time\": 15},\n",
                ")\n",
                "daily_to_multiyear_monthly(c_band, \"c_band\", \"C_2002-2004\", \"./data/vodca\")"
            ]
        },
        {
            "cell_type": "markdown",
            "id": "7276ed53",
            "metadata": {},
            "source": [
                "## Ku-band (2000-2004)"
            ]
        },
        {
            "cell_type": "code",
            "execution_count": null,
            "id": "9da95c5a",
            "metadata": {},
            "outputs": [],
            "source": [
                "ku_band = xr.open_mfdataset(\n",
                "    \"./data/vodca/source/Ku-band/200*/*.nc\",\n",
                "    engine=\"h5netcdf\",\n",
                "    parallel=True,\n",
                "    chunks={\"time\": 15},\n",
                ")\n",
                "daily_to_multiyear_monthly(ku_band, \"ku_band\", \"Ku_2000-2004\", \"./data/vodca\")"
            ]
        },
        {
            "cell_type": "markdown",
            "id": "9ada5ed0",
            "metadata": {},
            "source": [
                "## X-band (2000-2004)"
            ]
        },
        {
            "cell_type": "code",
            "execution_count": null,
            "id": "2a389f02",
            "metadata": {},
            "outputs": [],
            "source": [
                "x_band = xr.open_mfdataset(\n",
                "    \"./data/vodca/source/X-band/200*/*.nc\",\n",
                "    engine=\"h5netcdf\",\n",
                "    parallel=True,\n",
                "    chunks={\"time\": 15},\n",
                ")\n",
                "daily_to_multiyear_monthly(x_band, \"x_band\", \"X_2000-2004\", \"./data/vodca\")"
            ]
        }
    ],
    "metadata": {
        "kernelspec": {
            "display_name": "Python 3.9.16 ('traits')",
            "language": "python",
            "name": "python3"
        },
        "language_info": {
            "codemirror_mode": {
                "name": "ipython",
                "version": 3
            },
            "file_extension": ".py",
            "mimetype": "text/x-python",
            "name": "python",
            "nbconvert_exporter": "python",
            "pygments_lexer": "ipython3",
            "version": "3.9.16"
        },
        "vscode": {
            "interpreter": {
                "hash": "d702e750d8b358819936c8b060548e616866de69d14cd2a9420f356953ccfb27"
            }
        }
    },
    "nbformat": 4,
    "nbformat_minor": 5
}
