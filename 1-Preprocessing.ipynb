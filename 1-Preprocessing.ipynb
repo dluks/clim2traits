{
 "cells": [
  {
   "attachments": {},
   "cell_type": "markdown",
   "id": "e2f642f2-ef7d-4eb2-83db-d03875c8cc5a",
   "metadata": {},
   "source": [
    "# 1: Setup and Data Exploration\n",
    "\n",
    "Author: Daniel Lusk"
   ]
  },
  {
   "attachments": {},
   "cell_type": "markdown",
   "id": "6a1a7a0f-4293-4dd7-a907-bfafb226d0ab",
   "metadata": {},
   "source": [
    "## Imports"
   ]
  },
  {
   "cell_type": "code",
   "execution_count": null,
   "id": "52ee0a07-5d34-478c-8f9b-0be892664591",
   "metadata": {},
   "outputs": [],
   "source": [
    "import glob\n",
    "import os\n",
    "\n",
    "import ee\n",
    "import rioxarray as riox\n",
    "import utils.geodata as geodata\n",
    "# import utils.gee as gee\n",
    "import utils.gdal as gdal\n",
    "from PreprocessingConfig import PreprocessingConfig\n",
    "from tqdm.notebook import tqdm\n",
    "from utils.datasets import Dataset, Unit, resample_dataset\n",
    "\n",
    "from utils.visualize import plot_traits, plot_rasterio\n",
    "\n",
    "%load_ext autoreload\n",
    "%autoreload 2\n",
    "\n",
    "# ee.Authenticate() # Uncomment if not already authenticated\n",
    "# ee.Initialize()\n",
    "\n",
    "# Load configuration\n",
    "config = PreprocessingConfig()"
   ]
  },
  {
   "attachments": {},
   "cell_type": "markdown",
   "id": "715fefce",
   "metadata": {},
   "source": [
    "## Try/iNaturalist trait maps"
   ]
  },
  {
   "attachments": {},
   "cell_type": "markdown",
   "id": "2bc43c4b-2ea7-4a0f-b226-3b08bae3dad7",
   "metadata": {},
   "source": [
    "### Visualize TRY/iNaturalist trait maps\n",
    "\n",
    "First, let's look at the trait maps generated from TRY/iNaturalist observations by [Wolf, et al. (2022)](https://doi.org/10.1038/s41559-022-01904-x)."
   ]
  },
  {
   "cell_type": "code",
   "execution_count": null,
   "id": "1b142789",
   "metadata": {},
   "outputs": [],
   "source": [
    "if config.plot_traits:\n",
    "    inat_fns_2deg = config.iNat_fns(\"2\")\n",
    "\n",
    "    plot_traits(inat_fns_2deg, 4)"
   ]
  },
  {
   "attachments": {},
   "cell_type": "markdown",
   "id": "b4d783cd",
   "metadata": {},
   "source": [
    "### Convert to GeoDataFrames and merge"
   ]
  },
  {
   "cell_type": "code",
   "execution_count": null,
   "id": "24459b3e",
   "metadata": {},
   "outputs": [],
   "source": [
    "trait_fns = config.iNat_fns\n",
    "\n",
    "trait_gdfs = []\n",
    "for trait_fn in trait_fns:\n",
    "    gdf = geodata.tif2gdf(trait_fn)\n",
    "    trait_gdfs.append(gdf)\n",
    "\n",
    "trait_gdfs = geodata.merge_gdfs(trait_gdfs)\n",
    "trait_gdfs.head(5)"
   ]
  },
  {
   "attachments": {},
   "cell_type": "markdown",
   "id": "5d31196e",
   "metadata": {},
   "source": [
    "## WorldClim data"
   ]
  },
  {
   "attachments": {},
   "cell_type": "markdown",
   "id": "f0a12e00",
   "metadata": {},
   "source": [
    "Load the tifs and resample to all resolutions needed"
   ]
  },
  {
   "cell_type": "code",
   "execution_count": null,
   "id": "fe6e8a99",
   "metadata": {},
   "outputs": [],
   "source": [
    "wc = Dataset(\n",
    "    res=0.5,\n",
    "    unit=Unit.DEGREE,\n",
    "    parent_dir=config.WC_dir,\n",
    "    collection_name=config.WC_name,\n",
    "    # bio_ids=config.WC_bio_ids,\n",
    ")\n",
    "\n",
    "if config.resamp_to_disk:\n",
    "    resample_dataset(dataset=wc, resolution=2, unit=Unit.DEGREE)"
   ]
  },
  {
   "attachments": {},
   "cell_type": "markdown",
   "id": "1184b967",
   "metadata": {},
   "source": [
    "Convert to GeoDataFrames and merge"
   ]
  },
  {
   "cell_type": "code",
   "execution_count": null,
   "id": "7a4d19b8",
   "metadata": {},
   "outputs": [],
   "source": [
    "bio_fns = config.WC_fns\n",
    "\n",
    "bios = []\n",
    "for bio_fn in bio_fns:\n",
    "    name = os.path.splitext(os.path.basename(bio_fn))[0]\n",
    "    bio = riox.open_rasterio(bio_fn, masked=True)\n",
    "    bio.name = name\n",
    "    bios.append(bio)\n",
    "    \n",
    "bio_gdfs = geodata.merge_gdfs([geodata.tif2gdf(bio) for bio in bios])\n",
    "bio_gdfs.head(5)"
   ]
  },
  {
   "attachments": {},
   "cell_type": "markdown",
   "id": "2f793fff",
   "metadata": {},
   "source": [
    "Compute Preciptation Annual Range by subtracting BIO14 from BIO13"
   ]
  },
  {
   "cell_type": "code",
   "execution_count": null,
   "id": "56668ae3",
   "metadata": {},
   "outputs": [],
   "source": [
    "bio_13 = bio_gdfs.loc[:, [\"bio_13\" in x for x in bio_gdfs.columns]].values\n",
    "bio_14 = bio_gdfs.loc[:, [\"bio_14\" in x for x in bio_gdfs.columns]].values\n",
    "bio_gdfs[\"wc2.1_10m_bio_13-14\"] = bio_13 - bio_14"
   ]
  },
  {
   "attachments": {},
   "cell_type": "markdown",
   "id": "4c691317",
   "metadata": {},
   "source": [
    "## MODIS Terra Surface Reflectance bands 1-5"
   ]
  },
  {
   "attachments": {},
   "cell_type": "markdown",
   "id": "dbedb66d",
   "metadata": {},
   "source": [
    "1. Get bands 1-5 of MODIS Terra Surface Reflectance dataset\n",
    "2. mask clouds\n",
    "3. aggregate into monthly collections\n",
    "4. export to Google Drive with a target resolution of ~1km at the equator (0.008983152841195, -0.008983152841195)"
   ]
  },
  {
   "cell_type": "code",
   "execution_count": null,
   "id": "22f37e38",
   "metadata": {},
   "outputs": [],
   "source": [
    "if config.gee_export:\n",
    "    # Get MODIS Terra Surface Reflectance image collection for its first year of operation\n",
    "    # (2000-03-01 - 2001-03-01)\n",
    "    ds, de = \"2000-03-01\", \"2001-03-02\"\n",
    "    bands = [\"sur_refl_b01\", \"sur_refl_b02\", \"sur_refl_b03\", \"sur_refl_b04\", \"sur_refl_b05\"]\n",
    "    modis_tsr = ee.ImageCollection(\"MODIS/061/MOD09GA\").filterDate(ds, de)\n",
    "\n",
    "    # Mask clouds\n",
    "    qa_band = \"state_1km\"\n",
    "    modis_tsr_masked = gee.mask_clouds(modis_tsr, qa_band)\n",
    "\n",
    "    # Aggregate the image collection into monthly averages for each band\n",
    "    tsr_bands_monthly = []\n",
    "    for band in bands:\n",
    "        monthly = gee.aggregate_ic(modis_tsr_masked.select(band), ds, de)\n",
    "        tsr_bands_monthly.append(monthly)\n",
    "        \n",
    "    # Export images to Google Drive\n",
    "    for band in tsr_bands_monthly:\n",
    "        gee.export_collection(band, \"MODIS\")"
   ]
  },
  {
   "attachments": {},
   "cell_type": "markdown",
   "id": "07c7c667",
   "metadata": {},
   "source": [
    "5. Merge semi-global observations for each band/month (See `scripts/merge_files.py`)"
   ]
  },
  {
   "attachments": {},
   "cell_type": "markdown",
   "id": "9d14b191",
   "metadata": {},
   "source": [
    "6. Downsample to match resolution of trait maps (0.5 deg)"
   ]
  },
  {
   "cell_type": "code",
   "execution_count": null,
   "id": "81239eed",
   "metadata": {},
   "outputs": [],
   "source": [
    "modis = Dataset(\n",
    "    res=0.5,\n",
    "    unit=Unit.DEGREE,\n",
    "    parent_dir=config.MODIS_dir,\n",
    "    collection_name=config.MODIS_name,\n",
    ")\n",
    "\n",
    "\n",
    "if config.resamp_to_disk:\n",
    "    resample_dataset(dataset=modis, resolution=2, unit=Unit.DEGREE)"
   ]
  },
  {
   "attachments": {},
   "cell_type": "markdown",
   "id": "ebe9636f",
   "metadata": {},
   "source": [
    "## ISRIC soil data"
   ]
  },
  {
   "attachments": {},
   "cell_type": "markdown",
   "id": "da8eed9e",
   "metadata": {},
   "source": [
    "1. Download soil data from [ISRIC](https://files.isric.org/soilgrids/latest/data/)\n",
    "2. Reproject to WGS84, and resample to ~1km resolution"
   ]
  },
  {
   "attachments": {},
   "cell_type": "markdown",
   "id": "bfd7ac1e",
   "metadata": {},
   "source": [
    "See `get_soil_data_multi.py`"
   ]
  },
  {
   "attachments": {},
   "cell_type": "markdown",
   "id": "a97934b9",
   "metadata": {},
   "source": [
    "3. Reproject and downsample to Wolf trait maps CRS"
   ]
  },
  {
   "cell_type": "code",
   "execution_count": null,
   "id": "4ece07ee",
   "metadata": {},
   "outputs": [],
   "source": [
    "soil = Dataset(\n",
    "    res=0.5,\n",
    "    unit=Unit.DEGREE,\n",
    "    parent_dir=config.soil_dir,\n",
    "    collection_name=config.soil_name,\n",
    ")\n",
    "\n",
    "if config.resamp_to_disk:\n",
    "    resample_dataset(dataset=soil, resolution=2, unit=Unit.DEGREE)"
   ]
  },
  {
   "attachments": {},
   "cell_type": "markdown",
   "id": "8409b8e1",
   "metadata": {},
   "source": [
    "4. Convert to GeoDataFrames and merge"
   ]
  },
  {
   "cell_type": "code",
   "execution_count": null,
   "id": "0f496a89",
   "metadata": {},
   "outputs": [],
   "source": [
    "soil_fns = config.soil_fns\n",
    "\n",
    "soils = []\n",
    "for soil_fn in soil_fns:\n",
    "    name = os.path.splitext(os.path.basename(soil_fn))[0]\n",
    "    obs = riox.open_rasterio(soil_fn, masked=True)\n",
    "    obs.name = name\n",
    "    soils.append(obs)\n",
    "\n",
    "soil_gdfs = geodata.merge_gdfs([geodata.tif2gdf(obs) for obs in soils])\n",
    "soil_gdfs.head(5)"
   ]
  },
  {
   "attachments": {},
   "cell_type": "markdown",
   "id": "a9e9640f",
   "metadata": {},
   "source": [
    "# Combine all into a single GeoDataFrame"
   ]
  },
  {
   "cell_type": "code",
   "execution_count": null,
   "id": "1bb73a14",
   "metadata": {},
   "outputs": [],
   "source": [
    "all_gdfs = geodata.merge_gdfs([trait_gdfs, bio_gdfs, modis_gdfs, soil_gdfs])\n",
    "print(\"Combined dataframe shape:\", all_gdfs.shape)\n",
    "all_gdfs.head()"
   ]
  }
 ],
 "metadata": {
  "kernelspec": {
   "display_name": "Python 3.9.16 ('traits')",
   "language": "python",
   "name": "python3"
  },
  "language_info": {
   "codemirror_mode": {
    "name": "ipython",
    "version": 3
   },
   "file_extension": ".py",
   "mimetype": "text/x-python",
   "name": "python",
   "nbconvert_exporter": "python",
   "pygments_lexer": "ipython3",
   "version": "3.9.16"
  },
  "vscode": {
   "interpreter": {
    "hash": "d702e750d8b358819936c8b060548e616866de69d14cd2a9420f356953ccfb27"
   }
  }
 },
 "nbformat": 4,
 "nbformat_minor": 5
}
