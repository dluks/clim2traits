{
    "cells": [
        {
            "attachments": {},
            "cell_type": "markdown",
            "id": "e2f642f2-ef7d-4eb2-83db-d03875c8cc5a",
            "metadata": {},
            "source": [
                "# 1: Setup and Data Exploration\n",
                "\n",
                "Author: Daniel Lusk"
            ]
        },
        {
            "attachments": {},
            "cell_type": "markdown",
            "id": "6a1a7a0f-4293-4dd7-a907-bfafb226d0ab",
            "metadata": {},
            "source": [
                "## Imports"
            ]
        },
        {
            "cell_type": "code",
            "execution_count": null,
            "id": "52ee0a07-5d34-478c-8f9b-0be892664591",
            "metadata": {},
            "outputs": [],
            "source": [
                "import os\n",
                "from pathlib import Path\n",
                "\n",
                "import rioxarray as riox\n",
                "import numpy as np\n",
                "import geopandas as gpd\n",
                "import pandas as pd\n",
                "from PreprocessingConfig import PreprocessingConfig\n",
                "from utils.datasets import Dataset, Unit, resample_dataset, CollectionName, GBIFBand\n",
                "\n",
                "from utils.visualize import plot_distributions\n",
                "\n",
                "%load_ext autoreload\n",
                "%autoreload 2\n",
                "\n",
                "# Load configuration\n",
                "config = PreprocessingConfig()"
            ]
        },
        {
            "attachments": {},
            "cell_type": "markdown",
            "id": "715fefce",
            "metadata": {},
            "source": [
                "## TRY + GBIF/iNaturalist trait maps"
            ]
        },
        {
            "attachments": {},
            "cell_type": "markdown",
            "id": "2bc43c4b-2ea7-4a0f-b226-3b08bae3dad7",
            "metadata": {},
            "source": [
                "### Visualize TRY + GBIF/iNaturalist trait maps\n",
                "\n",
                "First, let's look at the trait maps generated from TRY/iNaturalist observations by [Wolf, et al. (2022)](https://doi.org/10.1038/s41559-022-01904-x)."
            ]
        },
        {
            "cell_type": "code",
            "execution_count": null,
            "id": "1b142789",
            "metadata": {},
            "outputs": [],
            "source": [
                "gbif = Dataset(\n",
                "    res=0.5,\n",
                "    collection_name=CollectionName.GBIF,\n",
                "    band=GBIFBand.MEAN\n",
                ")\n",
                "\n",
                "splot = Dataset(\n",
                "    res=0.5,\n",
                "    collection_name=CollectionName.SPLOT,\n",
                "    band=GBIFBand.MEAN\n",
                ")"
            ]
        },
        {
            "cell_type": "markdown",
            "id": "e4b4d36e",
            "metadata": {},
            "source": [
                "### GBIF trait distributions"
            ]
        },
        {
            "cell_type": "code",
            "execution_count": null,
            "id": "91add9cf",
            "metadata": {},
            "outputs": [],
            "source": [
                "df = gbif.df.drop(columns=[\"geometry\"])\n",
                "\n",
                "plot_distributions(df)\n"
            ]
        },
        {
            "cell_type": "markdown",
            "id": "6c0a9731",
            "metadata": {},
            "source": [
                "### sPlotOpen trait distributions"
            ]
        },
        {
            "cell_type": "code",
            "execution_count": null,
            "id": "7c587986",
            "metadata": {},
            "outputs": [],
            "source": [
                "df = splot.df.drop(columns=[\"geometry\"])\n",
                "\n",
                "plot_distributions(df)"
            ]
        },
        {
            "cell_type": "markdown",
            "id": "d1cc6d5d",
            "metadata": {},
            "source": [
                "### Log-transform GBIF and sPlotOpen data"
            ]
        },
        {
            "cell_type": "code",
            "execution_count": null,
            "id": "482b5824",
            "metadata": {},
            "outputs": [],
            "source": [
                "# Log-transform the GBIF data\n",
                "gbif_ln = pd.DataFrame(np.log(gbif.df[gbif.cols]), columns=gbif.cols)\n",
                "gbif_ln.columns = [f\"{col}_ln\" for col in gbif_ln.columns]\n",
                "gbif_ln = gpd.GeoDataFrame(gbif_ln, geometry=gbif.df.geometry, crs=gbif.df.crs)\n",
                "\n",
                "splot_ln = pd.DataFrame(np.log(splot.df[splot.cols]), columns=splot.cols)\n",
                "splot_ln.columns = [f\"{col}_ln\" for col in splot_ln.columns]\n",
                "splot_ln = gpd.GeoDataFrame(splot_ln, geometry=splot.df.geometry, crs=splot.df.crs)\n",
                "\n",
                "plot_distributions(gbif_ln.drop(columns=[\"geometry\"]))\n",
                "plot_distributions(splot_ln.drop(columns=[\"geometry\"]))"
            ]
        },
        {
            "cell_type": "markdown",
            "id": "c4e8abb0",
            "metadata": {},
            "source": [
                "Save the data to disk"
            ]
        },
        {
            "cell_type": "code",
            "execution_count": null,
            "id": "f15b2df1",
            "metadata": {},
            "outputs": [],
            "source": [
                "gbif_out_path = Path(\"data/gbif_ln/0.5_deg/gbif_ln_mean_0.5_deg.parq\")\n",
                "gbif_out_path.parent.mkdir(parents=True, exist_ok=True)\n",
                "gbif_ln.to_parquet(gbif_out_path, compression=\"zstd\", compression_level=2)\n",
                "\n",
                "splot_out_path = Path(\"data/splot_ln/0.5_deg/splot_ln_mean_0.5_deg.parq\")\n",
                "splot_out_path.parent.mkdir(parents=True, exist_ok=True)\n",
                "splot_ln.to_parquet(splot_out_path, compression=\"zstd\", compression_level=2)"
            ]
        },
        {
            "attachments": {},
            "cell_type": "markdown",
            "id": "5d31196e",
            "metadata": {},
            "source": [
                "## WorldClim data"
            ]
        },
        {
            "attachments": {},
            "cell_type": "markdown",
            "id": "f0a12e00",
            "metadata": {},
            "source": [
                "Load the tifs and resample to all resolutions needed"
            ]
        },
        {
            "cell_type": "code",
            "execution_count": null,
            "id": "fe6e8a99",
            "metadata": {},
            "outputs": [],
            "source": [
                "wc = Dataset(\n",
                "    res=0.5,\n",
                "    unit=Unit.DEGREE,\n",
                "    collection_name=config.WC_name,\n",
                "    bio_ids=None,\n",
                ")\n",
                "\n",
                "# resample_dataset(dataset=wc, resolution=0.01, unit=Unit.DEGREE, resample_alg=4)"
            ]
        },
        {
            "cell_type": "markdown",
            "id": "58ba1795",
            "metadata": {},
            "source": [
                "Standardize files to uniform GeoTIFF layout"
            ]
        },
        {
            "cell_type": "code",
            "execution_count": null,
            "id": "fd4e2326",
            "metadata": {},
            "outputs": [],
            "source": [
                "for fp in wc.fpaths:\n",
                "    fp = Path(fp)\n",
                "    parent_dir = fp.parent\n",
                "    out_dir = parent_dir / \"standardized\"\n",
                "    out_dir.mkdir(exist_ok=True)\n",
                "\n",
                "    ds = riox.open_rasterio(fp)\n",
                "    ds.rio.set_crs(ds.rio.crs, inplace=True)\n",
                "    ds = ds.astype(\"float32\")\n",
                "    ds = ds.where(ds != ds.rio.nodata)\n",
                "    ds.rio.write_nodata(ds.rio.nodata, encoded=True, inplace=True)\n",
                "\n",
                "    ds.rio.to_raster(\n",
                "        out_dir / f\"{fp.stem}.tif\",\n",
                "        dtype=\"float32\",\n",
                "        compress=\"zstd\",\n",
                "        tiled=True,\n",
                "        blockxsize=256,\n",
                "        blockysize=256,\n",
                "        predictor=2,\n",
                "        num_threads=18,\n",
                "    )"
            ]
        },
        {
            "attachments": {},
            "cell_type": "markdown",
            "id": "2f793fff",
            "metadata": {},
            "source": [
                "Compute Preciptation Annual Range by subtracting BIO14 from BIO13"
            ]
        },
        {
            "cell_type": "code",
            "execution_count": null,
            "id": "56668ae3",
            "metadata": {},
            "outputs": [],
            "source": [
                "bio_13 = bio_gdfs.loc[:, [\"bio_13\" in x for x in bio_gdfs.columns]].values\n",
                "bio_14 = bio_gdfs.loc[:, [\"bio_14\" in x for x in bio_gdfs.columns]].values\n",
                "bio_gdfs[\"wc2.1_10m_bio_13-14\"] = bio_13 - bio_14"
            ]
        },
        {
            "attachments": {},
            "cell_type": "markdown",
            "id": "4c691317",
            "metadata": {},
            "source": [
                "## MODIS Terra Surface Reflectance bands 1-5"
            ]
        },
        {
            "attachments": {},
            "cell_type": "markdown",
            "id": "dbedb66d",
            "metadata": {},
            "source": [
                "1. Get bands 1-5 of MODIS Terra Surface Reflectance dataset\n",
                "2. mask clouds\n",
                "3. aggregate into monthly collections\n",
                "4. export to Google Drive with a target resolution of ~1km at the equator (0.008983152841195, -0.008983152841195)"
            ]
        },
        {
            "cell_type": "code",
            "execution_count": null,
            "id": "22f37e38",
            "metadata": {},
            "outputs": [],
            "source": [
                "if config.gee_export:\n",
                "    import ee\n",
                "    import utils.gee as gee\n",
                "\n",
                "    # ee.Authenticate() # Uncomment if not already authenticated\n",
                "    ee.Initialize()\n",
                "\n",
                "    # Get MODIS Terra Surface Reflectance image collection for its first five years of operation\n",
                "    # (2000-03-01 - 2001-03-01)\n",
                "    ds, de = \"2000-03-01\", \"2005-03-02\"\n",
                "    bands = [\n",
                "        \"sur_refl_b01\",\n",
                "        \"sur_refl_b02\",\n",
                "        \"sur_refl_b03\",\n",
                "        \"sur_refl_b04\",\n",
                "        \"sur_refl_b05\",\n",
                "    ]\n",
                "    modis_tsr = ee.ImageCollection(\"MODIS/061/MOD09GA\").filterDate(ds, de)\n",
                "\n",
                "    # Mask clouds\n",
                "    qa_band = \"state_1km\"\n",
                "    modis_tsr_masked = gee.mask_clouds(modis_tsr, qa_band)\n",
                "\n",
                "    # Aggregate the image collection into monthly averages for each band\n",
                "    tsr_bands_monthly = []\n",
                "    for ds in bands:\n",
                "        monthly = gee.aggregate_ic(modis_tsr_masked.select(ds), ds, de)\n",
                "        tsr_bands_monthly.append(monthly)\n",
                "\n",
                "    tsr_monthly_means = []\n",
                "    for band_ic in tsr_bands_monthly:\n",
                "        tsr_monthly_means.append(gee.aggregate_ic_monthly(band_ic, ds, de))\n",
                "\n",
                "    # Combine the five bands into a single image collection\n",
                "    tsr_monthly_means = (\n",
                "        tsr_monthly_means[0]\n",
                "        .combine(tsr_monthly_means[1])\n",
                "        .combine(tsr_monthly_means[2])\n",
                "        .combine(tsr_monthly_means[3])\n",
                "        .combine(tsr_monthly_means[4])\n",
                "    )\n",
                "\n",
                "    # Reproject the image collection to EPSG:4326 with a scale of 1km\n",
                "    tsr_monthly_means = tsr_monthly_means.map(lambda x: x.reproject(\"EPSG:4326\", None, 1000))\n",
                "\n",
                "    # Unmask the image collection and convert to int16 (because NoData values are replaced with 0 when converting to int16)\n",
                "    tsr_monthly_means = tsr_monthly_means.map(lambda x: x.unmask(-32768))\n",
                "    tsr_monthly_means = tsr_monthly_means.map(lambda x: x.toInt16())\n",
                "\n",
                "    # Export images to Google Drive\n",
                "    gee.export_collection(\n",
                "        collection=tsr_monthly_means, folder=\"multiband_monthly_averages\"\n",
                "    )"
            ]
        },
        {
            "attachments": {},
            "cell_type": "markdown",
            "id": "07c7c667",
            "metadata": {},
            "source": [
                "5. Merge semi-global observations for each band/month (See `scripts/merge_files.py`)"
            ]
        },
        {
            "attachments": {},
            "cell_type": "markdown",
            "id": "9d14b191",
            "metadata": {},
            "source": [
                "6. Downsample to match resolution of trait maps (0.5 deg)"
            ]
        },
        {
            "cell_type": "code",
            "execution_count": null,
            "id": "81239eed",
            "metadata": {},
            "outputs": [],
            "source": [
                "modis = Dataset(\n",
                "    res=0.5,\n",
                "    unit=Unit.DEGREE,\n",
                "    collection_name=CollectionName.MODIS,\n",
                ")\n",
                "\n",
                "# Uncomment to resample the MODIS dataset to another resolution\n",
                "# resample_dataset(dataset=modis, resolution=0.01, unit=Unit.DEGREE)"
            ]
        },
        {
            "cell_type": "code",
            "execution_count": null,
            "id": "4d80deb1",
            "metadata": {},
            "outputs": [],
            "source": [
                "for fp in modis.fpaths:\n",
                "    fp = Path(fp)\n",
                "    parent_dir = fp.parent\n",
                "    out_dir = parent_dir / \"standardized\"\n",
                "    out_dir.mkdir(exist_ok=True)\n",
                "\n",
                "    ds = riox.open_rasterio(fp)\n",
                "    ds.rio.set_crs(ds.rio.crs, inplace=True)\n",
                "    ds = ds.astype(\"float32\")\n",
                "    ds = ds.where(ds != ds.rio.nodata)\n",
                "    ds.rio.write_nodata(ds.rio.nodata, encoded=True, inplace=True)\n",
                "\n",
                "    ds.rio.to_raster(\n",
                "        out_dir / f\"{fp.stem}.tif\",\n",
                "        dtype=\"float32\",\n",
                "        compress=\"zstd\",\n",
                "        tiled=True,\n",
                "        blockxsize=256,\n",
                "        blockysize=256,\n",
                "        predictor=2,\n",
                "        num_threads=18,\n",
                "    )"
            ]
        },
        {
            "attachments": {},
            "cell_type": "markdown",
            "id": "ebe9636f",
            "metadata": {},
            "source": [
                "## ISRIC soil data"
            ]
        },
        {
            "attachments": {},
            "cell_type": "markdown",
            "id": "da8eed9e",
            "metadata": {},
            "source": [
                "1. Download soil data from [ISRIC](https://files.isric.org/soilgrids/latest/data/)\n",
                "2. Reproject to WGS84, and resample to ~1km resolution"
            ]
        },
        {
            "attachments": {},
            "cell_type": "markdown",
            "id": "bfd7ac1e",
            "metadata": {},
            "source": [
                "See `get_soil_data_multi.py`"
            ]
        },
        {
            "attachments": {},
            "cell_type": "markdown",
            "id": "a97934b9",
            "metadata": {},
            "source": [
                "3. Reproject and downsample to Wolf trait maps CRS"
            ]
        },
        {
            "cell_type": "code",
            "execution_count": null,
            "id": "4ece07ee",
            "metadata": {},
            "outputs": [],
            "source": [
                "soil = Dataset(\n",
                "    res=0.5,\n",
                "    unit=Unit.DEGREE,\n",
                "    collection_name=CollectionName.SOIL,\n",
                ")\n",
                "\n",
                "# Uncomment to resample the ISRIC dataset to another resolution\n",
                "# resample_dataset(dataset=soil, resolution=0.01, unit=Unit.DEGREE)"
            ]
        },
        {
            "cell_type": "code",
            "execution_count": null,
            "id": "a0b417e4",
            "metadata": {},
            "outputs": [],
            "source": [
                "for fp in soil.fpaths:\n",
                "    fp = Path(fp)\n",
                "    parent_dir = fp.parent\n",
                "    out_dir = parent_dir / \"standardized\"\n",
                "    out_dir.mkdir(exist_ok=True)\n",
                "\n",
                "    ds = riox.open_rasterio(fp)\n",
                "    ds.rio.set_crs(ds.rio.crs, inplace=True)\n",
                "    ds = ds.astype(\"int16\")\n",
                "    ds = ds.where(ds != ds.rio.nodata)\n",
                "    ds.rio.write_nodata(ds.rio.nodata, encoded=True, inplace=True)\n",
                "    ds.rio.to_raster(\n",
                "        out_dir / f\"{fp.stem}.tif\",\n",
                "        dtype=\"int16\",\n",
                "        compress=\"zstd\",\n",
                "        tiled=True,\n",
                "        blockxsize=256,\n",
                "        blockysize=256,\n",
                "        predictor=2,\n",
                "        num_threads=18,\n",
                "    )"
            ]
        },
        {
            "cell_type": "markdown",
            "id": "5834f9be",
            "metadata": {},
            "source": [
                "# VODCA"
            ]
        },
        {
            "cell_type": "markdown",
            "id": "9e835a92",
            "metadata": {},
            "source": [
                "Downsample all three bands spatially, resample to monthly, and save to disk"
            ]
        },
        {
            "cell_type": "code",
            "execution_count": null,
            "id": "d048e69c",
            "metadata": {},
            "outputs": [],
            "source": [
                "import xarray as xr\n",
                "import numpy as np\n",
                "import geopandas as gpd\n",
                "\n",
                "def daily_to_multiyear_monthly(\n",
                "    ds: xr.Dataset, band_name: str, out_name: str, p_dir: str\n",
                ") -> None:\n",
                "    \"\"\"Converts daily data to multiyear monthly data and saves to disk\"\"\"\n",
                "    ds = ds.drop_vars([\"sensor_flag\", \"processing_flag\"])\n",
                "    ds = ds.rename({\"vod\": band_name})\n",
                "\n",
                "\n",
                "    # ds_05 = (\n",
                "    #     ds.coarsen(lon=2, lat=2, boundary=\"exact\")\n",
                "    #     .mean()\n",
                "    #     .resample(time=\"1MS\")\n",
                "    #     .mean()\n",
                "    #     .groupby(\"time.month\")\n",
                "    #     .mean(\"time\")\n",
                "    # )\n",
                "    # ds_05.attrs[\"geospatiallatresolution\"] = \"0.5 degree\"\n",
                "    # ds_05.attrs[\"geospatiallonresolution\"] = \"0.5 degree\"\n",
                "\n",
                "    ds_025 = ds.resample(time=\"1MS\").mean().groupby(\"time.month\").mean(\"time\")\n",
                "    ds_025 = ds_025.rename({\"lat\": \"y\", \"lon\": \"x\"})\n",
                "    \n",
                "    target_grid = xr.open_dataarray(\"data/modis/0.01_deg/2000-2004_sur_refl_b01-b05_multiyear_mean_m10_0.01_deg.tif\", masked=True)\n",
                "\n",
                "    # Interpolate to a 0.01 degree grid\n",
                "    # ds_001 = ds_025.interp(\n",
                "    #     lon=np.arange(-180, 180, 0.01), lat=np.arange(-90, 90, 0.01), method=\"cubic\"\n",
                "    # )\n",
                "\n",
                "    # Match modis target_grid and using rioxarray's reproject_match\n",
                "    # Make sure the dataset has the same CRS as the target grid\n",
                "    ds_025.rio.write_crs(target_grid.rio.crs, inplace=True)\n",
                "    # ds_025 = ds_025.rio.interpolate_na(method=\"cubic\")\n",
                "    ds_001 = ds_025.rio.reproject_match(target_grid, resampling=2)  # 4 = lanczos\n",
                "\n",
                "    ds_001.attrs[\"geospatiallatresolution\"] = \"0.01 degree\"\n",
                "    ds_001.attrs[\"geospatiallonresolution\"] = \"0.01 degree\"\n",
                "\n",
                "    # ds_05.to_netcdf(f\"{p_dir}/0.5_deg/{out_name}_multiyear_monthly_0.5_deg.nc\")\n",
                "    # ds_025.to_netcdf(f\"{p_dir}/0.25_deg/{out_name}_multiyear_monthly_0.25_deg.nc\")\n",
                "    ds_001.to_netcdf(f\"{p_dir}/0.01_deg/{out_name}_multiyear_monthly_0.01_deg.nc\")"
            ]
        },
        {
            "cell_type": "markdown",
            "id": "73c25214",
            "metadata": {},
            "source": [
                "## C-band (2002-2004)"
            ]
        },
        {
            "cell_type": "code",
            "execution_count": null,
            "id": "8b1cb17c",
            "metadata": {},
            "outputs": [],
            "source": [
                "import xarray as xr\n",
                "\n",
                "c_band = xr.open_mfdataset(\n",
                "    \"./data/vodca/source/C-Band/200*/*.nc\",\n",
                "    engine=\"h5netcdf\",\n",
                "    parallel=True,\n",
                "    chunks={\"time\": 15},\n",
                ")\n",
                "\n",
                "daily_to_multiyear_monthly(c_band, \"c_band\", \"C_2002-2004\", \"./data/vodca\")"
            ]
        },
        {
            "cell_type": "markdown",
            "id": "7276ed53",
            "metadata": {},
            "source": [
                "## Ku-band (2000-2004)"
            ]
        },
        {
            "cell_type": "code",
            "execution_count": null,
            "id": "9da95c5a",
            "metadata": {},
            "outputs": [],
            "source": [
                "ku_band = xr.open_mfdataset(\n",
                "    \"./data/vodca/source/Ku-band/200*/*.nc\",\n",
                "    engine=\"h5netcdf\",\n",
                "    parallel=True,\n",
                "    chunks={\"time\": 15},\n",
                ")\n",
                "daily_to_multiyear_monthly(ku_band, \"ku_band\", \"Ku_2000-2004\", \"./data/vodca\")"
            ]
        },
        {
            "cell_type": "markdown",
            "id": "9ada5ed0",
            "metadata": {},
            "source": [
                "## X-band (2000-2004)"
            ]
        },
        {
            "cell_type": "code",
            "execution_count": null,
            "id": "2a389f02",
            "metadata": {},
            "outputs": [],
            "source": [
                "x_band = xr.open_mfdataset(\n",
                "    \"./data/vodca/source/X-band/200*/*.nc\",\n",
                "    engine=\"h5netcdf\",\n",
                "    parallel=True,\n",
                "    chunks={\"time\": 15},\n",
                ")\n",
                "daily_to_multiyear_monthly(x_band, \"x_band\", \"X_2000-2004\", \"./data/vodca\")"
            ]
        },
        {
            "cell_type": "markdown",
            "id": "461ccdbf",
            "metadata": {},
            "source": [
                "Split monthly averages into single-band GeoTIFFs"
            ]
        },
        {
            "cell_type": "code",
            "execution_count": null,
            "id": "3ca00f3d",
            "metadata": {},
            "outputs": [],
            "source": [
                "vodca = Dataset(\n",
                "    res=0.25,\n",
                "    unit=Unit.DEGREE,\n",
                "    collection_name=CollectionName.VODCA,\n",
                ")"
            ]
        },
        {
            "cell_type": "code",
            "execution_count": null,
            "id": "7f3f89af",
            "metadata": {},
            "outputs": [],
            "source": [
                "vodca = Dataset(\n",
                "    res=0.25,\n",
                "    unit=Unit.DEGREE,\n",
                "    collection_name=CollectionName.VODCA,\n",
                ")\n",
                "\n",
                "# Uncomment to resample the VODCA dataset to another resolution\n",
                "resample_dataset(\n",
                "    dataset=vodca,\n",
                "    resolution=0.01,\n",
                "    unit=Unit.DEGREE,\n",
                "    format=\"GTiff\",\n",
                ")"
            ]
        },
        {
            "cell_type": "markdown",
            "id": "0cdb67e7",
            "metadata": {},
            "source": [
                "## Split all predictor datasets into single GeoTIFFs for ease of processing"
            ]
        },
        {
            "cell_type": "markdown",
            "id": "b2c236e4",
            "metadata": {},
            "source": [
                "1. Make single-band directory in source data directory (original resolution)\n",
                "2. Split each band and save to single-band directory with:\n",
                "    - Appropriate datatype\n",
                "    - NaN as nodata value\n",
                "    - GeoTIFF\n",
                "    - other creationOptions\n",
                "        - tiled=True\n",
                "        - blockxsize = 256\n",
                "        - blockysize = 256\n",
                "        - Compress = ZSTD\n",
                "        - predictor=2\n",
                "        - num_threads = 15\n",
                "3. Reproject each file to 0.01 degree resolution and save\n",
                "4. Clip each file with landmask and save\n",
                "5. Tile all files into 5x5 degree blocks and save"
            ]
        },
        {
            "cell_type": "markdown",
            "id": "96a5213c",
            "metadata": {},
            "source": [
                "### MODIS"
            ]
        },
        {
            "cell_type": "code",
            "execution_count": null,
            "id": "9797457d",
            "metadata": {},
            "outputs": [],
            "source": [
                "from pathlib import Path\n",
                "import xarray as xr\n",
                "import rioxarray as riox\n",
                "from utils.datasets import Dataset, Unit, CollectionName"
            ]
        },
        {
            "cell_type": "code",
            "execution_count": null,
            "id": "2128f3f4",
            "metadata": {},
            "outputs": [],
            "source": [
                "modis = Dataset(\n",
                "    res=0.5,\n",
                "    unit=Unit.DEGREE,\n",
                "    collection_name=CollectionName.MODIS,\n",
                ")"
            ]
        },
        {
            "cell_type": "code",
            "execution_count": null,
            "id": "57c4f42f",
            "metadata": {},
            "outputs": [],
            "source": [
                "crs = \"EPSG:4326\"\n",
                "\n",
                "for fp in modis.fpaths:\n",
                "    parent_dir = Path(fp).parent\n",
                "    out_dir = Path(parent_dir, \"single-band\")\n",
                "    out_dir.mkdir(exist_ok=True)\n",
                "    month = fp.split(\"_\")[-3]\n",
                "    ds = riox.open_rasterio(fp)\n",
                "\n",
                "    for i, ds in enumerate(ds):\n",
                "        band_num = f\"{i + 1:02d}\"\n",
                "        ds.rio.set_crs(crs, inplace=True)\n",
                "        ds = ds.where(ds != ds.rio.nodata)\n",
                "        ds.rio.write_nodata(ds.rio.nodata, encoded=True, inplace=True)\n",
                "        ds.attrs[\"long_name\"] = f\"sur_refl_band{band_num}mean_{month}\"\n",
                "\n",
                "        ds.rio.to_raster(\n",
                "            out_dir / f\"2000-2004_sur_refl_multiyear_mean_{month}_band{band_num}.tif\",\n",
                "            dtype=\"int16\",\n",
                "            compress=\"zstd\",\n",
                "            tiled=True,\n",
                "            blockxsize=256,\n",
                "            blockysize=256,\n",
                "            predictor=2,\n",
                "            num_threads=18,\n",
                "        )"
            ]
        },
        {
            "cell_type": "markdown",
            "id": "720893b3",
            "metadata": {},
            "source": [
                "### ISRIC Soil"
            ]
        },
        {
            "cell_type": "markdown",
            "id": "77c9be7b",
            "metadata": {},
            "source": [
                "### WorldClim Bio"
            ]
        },
        {
            "cell_type": "markdown",
            "id": "db72bff3",
            "metadata": {},
            "source": [
                "### VODCA"
            ]
        },
        {
            "cell_type": "code",
            "execution_count": null,
            "id": "5847e569",
            "metadata": {},
            "outputs": [],
            "source": [
                "vodca = Dataset(\n",
                "    res=0.5,\n",
                "    unit=Unit.DEGREE,\n",
                "    collection_name=CollectionName.VODCA,\n",
                ")"
            ]
        },
        {
            "cell_type": "code",
            "execution_count": null,
            "id": "7bdb64d8",
            "metadata": {},
            "outputs": [],
            "source": [
                "from pathlib import Path\n",
                "\n",
                "\n",
                "for fp in vodca.fpaths:\n",
                "    parent_dir = Path(fp).parent\n",
                "    out_dir = Path(parent_dir, \"single-band\")\n",
                "    out_dir.mkdir(exist_ok=True)\n",
                "\n",
                "    fp = Path(fp)\n",
                "    band = fp.stem.split(\"_\")[0].lower()\n",
                "\n",
                "    ds = xr.open_dataset(fp)\n",
                "    ds = ds.rename({\"lon\": \"x\", \"lat\": \"y\"})\n",
                "\n",
                "    for i in range(1, 13):\n",
                "        month = ds.sel(month=i)[f\"{band}_band\"]\n",
                "        month.rio.set_crs(\"EPSG:4326\", inplace=True)\n",
                "        month = month.where(month != month.rio.nodata)\n",
                "        month.rio.write_nodata(month.rio.nodata, encoded=True, inplace=True)\n",
                "        month.attrs[\"long_name\"] = f\"Vegetation optical depth {band} band\"\n",
                "        out_name = Path(\n",
                "            fp.name.replace(\"monthly\", f\"mean_m{i:02d}\").replace(\"_0.5_deg\", \"\")\n",
                "        )\n",
                "\n",
                "        out_name = out_dir / out_name.with_suffix(\".tif\")\n",
                "\n",
                "        month.rio.to_raster(\n",
                "            out_name,\n",
                "            dtype=\"float32\",\n",
                "            compress=\"zstd\",\n",
                "            tiled=True,\n",
                "            blockxsize=256,\n",
                "            blockysize=256,\n",
                "            predictor=2,\n",
                "            num_threads=18,\n",
                "        )"
            ]
        },
        {
            "cell_type": "markdown",
            "id": "3e51d080",
            "metadata": {},
            "source": [
                "Fix incorrect encoding of nodata value in VODCA data"
            ]
        },
        {
            "cell_type": "code",
            "execution_count": null,
            "id": "99c09016",
            "metadata": {},
            "outputs": [],
            "source": [
                "for fp in vodca.fpaths:\n",
                "    parent_dir = Path(fp).parent\n",
                "    out_dir = Path(parent_dir, \"fixed\")\n",
                "    out_dir.mkdir(exist_ok=True)\n",
                "\n",
                "    fp = Path(fp)\n",
                "    ds = riox.open_rasterio(fp).squeeze()\n",
                "    ds.rio.write_crs(\"EPSG:4326\", inplace=True)\n",
                "    ds.rio.write_nodata(np.nan, encoded=True, inplace=True)\n",
                "    out_name = out_dir / fp.name\n",
                "\n",
                "    ds.rio.to_raster(\n",
                "        out_name,\n",
                "        dtype=\"float32\",\n",
                "        compress=\"zstd\",\n",
                "        tiled=True,\n",
                "        blockxsize=256,\n",
                "        blockysize=256,\n",
                "        predictor=2,\n",
                "        num_threads=18,\n",
                "    )"
            ]
        },
        {
            "cell_type": "markdown",
            "id": "7bd20370",
            "metadata": {},
            "source": [
                "# Split all dataarrays into multilayer tiles"
            ]
        },
        {
            "cell_type": "markdown",
            "id": "b1ae4086",
            "metadata": {},
            "source": [
                "See `save_tiled_collections.py`"
            ]
        }
    ],
    "metadata": {
        "kernelspec": {
            "display_name": "Python 3.9.16 ('traits')",
            "language": "python",
            "name": "python3"
        },
        "language_info": {
            "codemirror_mode": {
                "name": "ipython",
                "version": 3
            },
            "file_extension": ".py",
            "mimetype": "text/x-python",
            "name": "python",
            "nbconvert_exporter": "python",
            "pygments_lexer": "ipython3",
            "version": "3.9.16"
        },
        "vscode": {
            "interpreter": {
                "hash": "d702e750d8b358819936c8b060548e616866de69d14cd2a9420f356953ccfb27"
            }
        }
    },
    "nbformat": 4,
    "nbformat_minor": 5
}
