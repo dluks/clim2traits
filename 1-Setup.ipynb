{
 "cells": [
  {
   "cell_type": "markdown",
   "id": "e2f642f2-ef7d-4eb2-83db-d03875c8cc5a",
   "metadata": {},
   "source": [
    "# 1: Setup and Data Exploration\n",
    "\n",
    "Author: Daniel Lusk"
   ]
  },
  {
   "cell_type": "markdown",
   "id": "6a1a7a0f-4293-4dd7-a907-bfafb226d0ab",
   "metadata": {},
   "source": [
    "## Imports"
   ]
  },
  {
   "cell_type": "code",
   "execution_count": null,
   "id": "52ee0a07-5d34-478c-8f9b-0be892664591",
   "metadata": {},
   "outputs": [],
   "source": [
    "import glob\n",
    "import os\n",
    "\n",
    "import matplotlib.pyplot as plt\n",
    "import numpy as np\n",
    "import xarray as xr\n",
    "\n",
    "from visualize import plot_traits"
   ]
  },
  {
   "cell_type": "markdown",
   "id": "2bc43c4b-2ea7-4a0f-b226-3b08bae3dad7",
   "metadata": {},
   "source": [
    "## Visualize TRY/iNaturalist trait maps\n",
    "\n",
    "First, let's look at the trait maps generated from TRY/iNaturalist observations by [Wolf, et al. (2022)](https://doi.org/10.1038/s41559-022-01904-x)."
   ]
  },
  {
   "cell_type": "code",
   "execution_count": null,
   "id": "1b142789",
   "metadata": {},
   "outputs": [],
   "source": [
    "data_dir = \"iNaturalist_traits/maps_iNaturalist/2_deg/ln\"\n",
    "fns = glob.glob(os.path.join(data_dir, \"*.tif\"))\n",
    "\n",
    "plot_traits(fns, 4)"
   ]
  }
 ],
 "metadata": {
  "kernelspec": {
   "display_name": "Python 3.9.16 ('traits')",
   "language": "python",
   "name": "python3"
  },
  "language_info": {
   "codemirror_mode": {
    "name": "ipython",
    "version": 3
   },
   "file_extension": ".py",
   "mimetype": "text/x-python",
   "name": "python",
   "nbconvert_exporter": "python",
   "pygments_lexer": "ipython3",
   "version": "3.9.16"
  },
  "vscode": {
   "interpreter": {
    "hash": "d702e750d8b358819936c8b060548e616866de69d14cd2a9420f356953ccfb27"
   }
  }
 },
 "nbformat": 4,
 "nbformat_minor": 5
}
