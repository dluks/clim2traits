{
 "cells": [
  {
   "cell_type": "markdown",
   "metadata": {},
   "source": [
    "# 3: Assessing model performance and applicability\n",
    "\n",
    "Author: Daniel Lusk"
   ]
  },
  {
   "cell_type": "markdown",
   "metadata": {},
   "source": [
    "## Imports"
   ]
  },
  {
   "cell_type": "code",
   "execution_count": null,
   "metadata": {},
   "outputs": [],
   "source": [
    "import pandas as pd\n",
    "from utils.models import TrainedSet\n",
    "\n",
    "%load_ext autoreload\n",
    "%autoreload 2"
   ]
  },
  {
   "cell_type": "markdown",
   "metadata": {},
   "source": [
    "## Area of Applicability (AOA)"
   ]
  },
  {
   "cell_type": "markdown",
   "metadata": {},
   "source": [
    "## Model performance"
   ]
  },
  {
   "cell_type": "markdown",
   "metadata": {},
   "source": [
    "Get the training run data from the results dataframe"
   ]
  },
  {
   "cell_type": "code",
   "execution_count": null,
   "metadata": {},
   "outputs": [],
   "source": [
    "# Load a model\n",
    "results_df = pd.read_csv(\"./results/training_results.csv\").copy()\n",
    "training_id = \"2023-07-21_17-01-49\"\n",
    "results = results_df.loc[(results_df[\"Run ID\"] == training_id)].sort_values(by=\"Test r-squared\", ascending=False)"
   ]
  },
  {
   "cell_type": "markdown",
   "metadata": {},
   "source": [
    "Load the best performing model"
   ]
  },
  {
   "cell_type": "code",
   "execution_count": null,
   "metadata": {},
   "outputs": [],
   "source": [
    "row = results.iloc[0]\n",
    "trained = TrainedSet.from_results_row(row)"
   ]
  },
  {
   "cell_type": "markdown",
   "metadata": {},
   "source": [
    "Load unseen predictor data"
   ]
  },
  {
   "cell_type": "code",
   "execution_count": null,
   "metadata": {},
   "outputs": [],
   "source": [
    "import os\n",
    "import geopandas as gpd\n",
    "from utils.models import Prediction\n",
    "\n",
    "new_df_fn = os.path.join(\"data/collections\", row[\"collection\"])\n",
    "new_df = gpd.read_feather(new_df_fn)\n",
    "\n",
    "new_df_imputed_fn = \"data/collections/MOD09GA.061_ISRIC_soil_WC_BIO_VODCA_0.5_deg_nan-strat=all_imputed.feather\"\n",
    "new_df_imputed = gpd.read_feather(new_df_imputed_fn)\n",
    "\n",
    "pred = Prediction(trained, new_df, new_df_imputed)"
   ]
  },
  {
   "cell_type": "markdown",
   "metadata": {},
   "source": [
    "Create new dataframe with predictions, masked according to the Area of Applicability (may take a while for AoA calculation)"
   ]
  },
  {
   "cell_type": "code",
   "execution_count": null,
   "metadata": {},
   "outputs": [],
   "source": [
    "d = {\"trait\": pred.predictions}\n",
    "predictions_df = gpd.GeoDataFrame(d, geometry=new_df.geometry, crs=new_df.crs, index=new_df.index)\n",
    "predictions_df[\"masked_aoa\"] = predictions_df[\"trait\"].where(pred.aoa.df[\"AOA\"] == 1)"
   ]
  },
  {
   "cell_type": "markdown",
   "metadata": {},
   "source": [
    "# CV Coefficient of Variation"
   ]
  }
 ],
 "metadata": {
  "kernelspec": {
   "display_name": "traits",
   "language": "python",
   "name": "traits"
  },
  "language_info": {
   "codemirror_mode": {
    "name": "ipython",
    "version": 3
   },
   "file_extension": ".py",
   "mimetype": "text/x-python",
   "name": "python",
   "nbconvert_exporter": "python",
   "pygments_lexer": "ipython3",
   "version": "3.9.16"
  },
  "orig_nbformat": 4
 },
 "nbformat": 4,
 "nbformat_minor": 2
}
