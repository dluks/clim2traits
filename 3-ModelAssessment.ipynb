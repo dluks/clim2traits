{
 "cells": [
  {
   "cell_type": "markdown",
   "metadata": {},
   "source": [
    "# 3: Assessing model performance and applicability\n",
    "\n",
    "Author: Daniel Lusk"
   ]
  },
  {
   "cell_type": "markdown",
   "metadata": {},
   "source": [
    "## Imports"
   ]
  },
  {
   "cell_type": "code",
   "execution_count": 1,
   "metadata": {},
   "outputs": [],
   "source": [
    "import ast\n",
    "import pandas as pd\n",
    "import xgboost as xgb\n",
    "\n",
    "NOTEBOOK = True\n",
    "\n",
    "if NOTEBOOK:\n",
    "    %load_ext autoreload\n",
    "    %autoreload 2"
   ]
  },
  {
   "cell_type": "markdown",
   "metadata": {},
   "source": [
    "## Model performance"
   ]
  },
  {
   "cell_type": "code",
   "execution_count": 2,
   "metadata": {},
   "outputs": [
    {
     "data": {
      "text/html": [
       "<div>\n",
       "<style scoped>\n",
       "    .dataframe tbody tr th:only-of-type {\n",
       "        vertical-align: middle;\n",
       "    }\n",
       "\n",
       "    .dataframe tbody tr th {\n",
       "        vertical-align: top;\n",
       "    }\n",
       "\n",
       "    .dataframe thead th {\n",
       "        text-align: right;\n",
       "    }\n",
       "</style>\n",
       "<table border=\"1\" class=\"dataframe\">\n",
       "  <thead>\n",
       "    <tr style=\"text-align: right;\">\n",
       "      <th></th>\n",
       "      <th>Run ID</th>\n",
       "      <th>Response variable</th>\n",
       "      <th>Predictor datasets</th>\n",
       "      <th>Resolution</th>\n",
       "      <th>Best parameters</th>\n",
       "      <th>N tuning iters</th>\n",
       "      <th>CV nRMSE</th>\n",
       "      <th>CV nRMSE STD</th>\n",
       "      <th>CV r-squared</th>\n",
       "      <th>CV r-squared STD</th>\n",
       "      <th>...</th>\n",
       "      <th>Predictor importance</th>\n",
       "      <th>Model file</th>\n",
       "      <th>N CV groups</th>\n",
       "      <th>CV grid size [m]</th>\n",
       "      <th>CV block buffer</th>\n",
       "      <th>Random seed</th>\n",
       "      <th>N observations</th>\n",
       "      <th>Optimizer</th>\n",
       "      <th>max_iter</th>\n",
       "      <th>Filtered RV outliers</th>\n",
       "    </tr>\n",
       "  </thead>\n",
       "  <tbody>\n",
       "    <tr>\n",
       "      <th>0</th>\n",
       "      <td>2023-06-19_19-57-20</td>\n",
       "      <td>iNat_Conduit.element.length_05deg_ln</td>\n",
       "      <td>['WC_BIO_0.5_deg', 'MOD09GA.061_1km_0.5_deg', ...</td>\n",
       "      <td>0.5_deg</td>\n",
       "      <td>{'n_estimators': 1269, 'max_depth': 5, 'subsam...</td>\n",
       "      <td>200.0</td>\n",
       "      <td>0.293427</td>\n",
       "      <td>0.046752</td>\n",
       "      <td>0.179706</td>\n",
       "      <td>0.088989</td>\n",
       "      <td>...</td>\n",
       "      <td>[['sur_refl_b03_mean_2001-01-01_0.5_deg', 0.01...</td>\n",
       "      <td>/DATA/lusk/thesis/traits/results/training/2023...</td>\n",
       "      <td>10.0</td>\n",
       "      <td>20.935404</td>\n",
       "      <td>0.0001</td>\n",
       "      <td>42.0</td>\n",
       "      <td>NaN</td>\n",
       "      <td>NaN</td>\n",
       "      <td>NaN</td>\n",
       "      <td>NaN</td>\n",
       "    </tr>\n",
       "    <tr>\n",
       "      <th>1</th>\n",
       "      <td>2023-06-19_19-57-20</td>\n",
       "      <td>iNat_Dispersal.unit.length_05deg_ln</td>\n",
       "      <td>['WC_BIO_0.5_deg', 'MOD09GA.061_1km_0.5_deg', ...</td>\n",
       "      <td>0.5_deg</td>\n",
       "      <td>{'n_estimators': 222, 'max_depth': 4, 'subsamp...</td>\n",
       "      <td>200.0</td>\n",
       "      <td>0.347484</td>\n",
       "      <td>0.067841</td>\n",
       "      <td>0.052823</td>\n",
       "      <td>0.036950</td>\n",
       "      <td>...</td>\n",
       "      <td>[['wc2.1_0.5_deg_bio_4', 0.01925615780055523],...</td>\n",
       "      <td>/DATA/lusk/thesis/traits/results/training/2023...</td>\n",
       "      <td>10.0</td>\n",
       "      <td>20.935404</td>\n",
       "      <td>0.0001</td>\n",
       "      <td>42.0</td>\n",
       "      <td>NaN</td>\n",
       "      <td>NaN</td>\n",
       "      <td>NaN</td>\n",
       "      <td>NaN</td>\n",
       "    </tr>\n",
       "  </tbody>\n",
       "</table>\n",
       "<p>2 rows × 21 columns</p>\n",
       "</div>"
      ],
      "text/plain": [
       "                Run ID                     Response variable  \\\n",
       "0  2023-06-19_19-57-20  iNat_Conduit.element.length_05deg_ln   \n",
       "1  2023-06-19_19-57-20   iNat_Dispersal.unit.length_05deg_ln   \n",
       "\n",
       "                                  Predictor datasets Resolution  \\\n",
       "0  ['WC_BIO_0.5_deg', 'MOD09GA.061_1km_0.5_deg', ...    0.5_deg   \n",
       "1  ['WC_BIO_0.5_deg', 'MOD09GA.061_1km_0.5_deg', ...    0.5_deg   \n",
       "\n",
       "                                     Best parameters  N tuning iters  \\\n",
       "0  {'n_estimators': 1269, 'max_depth': 5, 'subsam...           200.0   \n",
       "1  {'n_estimators': 222, 'max_depth': 4, 'subsamp...           200.0   \n",
       "\n",
       "   CV nRMSE  CV nRMSE STD  CV r-squared  CV r-squared STD  ...  \\\n",
       "0  0.293427      0.046752      0.179706          0.088989  ...   \n",
       "1  0.347484      0.067841      0.052823          0.036950  ...   \n",
       "\n",
       "                                Predictor importance  \\\n",
       "0  [['sur_refl_b03_mean_2001-01-01_0.5_deg', 0.01...   \n",
       "1  [['wc2.1_0.5_deg_bio_4', 0.01925615780055523],...   \n",
       "\n",
       "                                          Model file N CV groups  \\\n",
       "0  /DATA/lusk/thesis/traits/results/training/2023...        10.0   \n",
       "1  /DATA/lusk/thesis/traits/results/training/2023...        10.0   \n",
       "\n",
       "   CV grid size [m]  CV block buffer  Random seed  N observations  Optimizer  \\\n",
       "0         20.935404           0.0001         42.0             NaN        NaN   \n",
       "1         20.935404           0.0001         42.0             NaN        NaN   \n",
       "\n",
       "  max_iter  Filtered RV outliers  \n",
       "0      NaN                   NaN  \n",
       "1      NaN                   NaN  \n",
       "\n",
       "[2 rows x 21 columns]"
      ]
     },
     "execution_count": 2,
     "metadata": {},
     "output_type": "execute_result"
    }
   ],
   "source": [
    "# Load a model\n",
    "results = pd.read_csv(\"./results/training_results.csv\").copy()\n",
    "results.head(2)"
   ]
  },
  {
   "cell_type": "code",
   "execution_count": 3,
   "metadata": {},
   "outputs": [],
   "source": [
    "gbif_ssd_name = \"GBIF_TRYgapfilled_X4_05deg\"\n",
    "# inat_ssd_name = \"iNat_SSD_05deg_expln\"\n",
    "predictor_datasets = \"['WC_BIO_0.5_deg', 'MOD09GA.061_1km_0.5_deg', 'ISRIC_soil_0.5_deg', 'VODCA_0.5_deg']\"\n",
    "resolution = \"0.5_deg\""
   ]
  },
  {
   "cell_type": "markdown",
   "metadata": {},
   "source": [
    "Get the training run data from the results dataframe"
   ]
  },
  {
   "cell_type": "code",
   "execution_count": 5,
   "metadata": {},
   "outputs": [],
   "source": [
    "gbif_ssd_results = results.loc[\n",
    "    (results[\"Response variable\"] == gbif_ssd_name)\n",
    "    & (results[\"Predictor datasets\"] == predictor_datasets)\n",
    "    & (results[\"Resolution\"] == resolution)\n",
    "]"
   ]
  },
  {
   "cell_type": "markdown",
   "metadata": {},
   "source": [
    "Load the model with the best params"
   ]
  },
  {
   "cell_type": "code",
   "execution_count": 6,
   "metadata": {},
   "outputs": [
    {
     "name": "stderr",
     "output_type": "stream",
     "text": [
      "/DATA/lusk/thesis/traits/utils/datasets.py:11: UserWarning: Shapely 2.0 is installed, but because PyGEOS is also installed, GeoPandas will still use PyGEOS by default for now. To force to use and test Shapely 2.0, you have to set the environment variable USE_PYGEOS=0. You can do this before starting the Python process, or in your code before importing geopandas:\n",
      "\n",
      "import os\n",
      "os.environ['USE_PYGEOS'] = '0'\n",
      "import geopandas\n",
      "\n",
      "In a future release, GeoPandas will switch to using Shapely by default. If you are using PyGEOS directly (calling PyGEOS functions on geometries from GeoPandas), this will then stop working and you are encouraged to migrate from PyGEOS to Shapely 2.0 (https://shapely.readthedocs.io/en/latest/migration_pygeos.html).\n",
      "  import geopandas as gpd\n"
     ]
    }
   ],
   "source": [
    "from dataclasses import dataclass\n",
    "from matplotlib import pyplot as plt\n",
    "\n",
    "from sklearn.model_selection import train_test_split\n",
    "\n",
    "from utils.datasets import DataCollection, Dataset, MLCollection\n",
    "import seaborn as sns\n",
    "\n",
    "\n",
    "@dataclass\n",
    "class Stats:\n",
    "    cv_nrmse: float\n",
    "    cv_nrmse_std: float\n",
    "    cv_r2: float\n",
    "    cv_r2_std: float\n",
    "    test_r2: float\n",
    "    predictor_importances: list\n",
    "\n",
    "\n",
    "@dataclass\n",
    "class Model:\n",
    "    id: int\n",
    "    run_id: str\n",
    "    y_name: str\n",
    "    Xy: MLCollection\n",
    "    resolution: float\n",
    "    params: dict\n",
    "    n_tuning_iters: int\n",
    "    stats: Stats\n",
    "    model_fpath: str\n",
    "    random_state: int\n",
    "    train_test_split: float\n",
    "    n_cv_groups: int\n",
    "    cv_grid_size: float\n",
    "    cv_block_buffer: float\n",
    "    n_observations: int\n",
    "    optimizer: str\n",
    "    max_iter: int\n",
    "    filtered_y_outliers: list\n",
    "\n",
    "    def __post_init__(self):\n",
    "        tt_splits = train_test_split(\n",
    "            self.Xy.df[self.Xy.X.cols].to_numpy(),\n",
    "            self.Xy.df[self.Xy.Y.cols].to_numpy(),\n",
    "            self.Xy.coords,\n",
    "            test_size=self.train_test_split,\n",
    "            random_state=self.random_state,\n",
    "        )\n",
    "        self.X_train = tt_splits[0]\n",
    "        self.X_test = tt_splits[1]\n",
    "        self.y_train = tt_splits[2]\n",
    "        self.y_test = tt_splits[3]\n",
    "        self.coords_train = tt_splits[4]\n",
    "        self.coords_test = tt_splits[5]\n",
    "    \n",
    "    @property\n",
    "    def model(self):\n",
    "        model = xgb.XGBRegressor(**self.params)\n",
    "        model.load_model(self.model_fpath)\n",
    "        return model\n",
    "\n",
    "    def plot_observed_vs_predicted(self):\n",
    "        \"\"\"Plot observed vs. predicted values.\"\"\"\n",
    "        pred = self.model.predict(self.X_test)\n",
    "        obs = self.y_test\n",
    "\n",
    "        # plot the observed vs. predicted values using seaborn\n",
    "        sns.set_theme()\n",
    "        sns.set_style(\"whitegrid\")\n",
    "        sns.set_context(\"paper\")\n",
    "\n",
    "        fig, ax = plt.subplots()\n",
    "        p1 = min(min(pred), min(obs))\n",
    "        p2 = max(max(pred), max(obs))\n",
    "        ax.plot([p1, p2], [p1, p2], color=\"black\", lw=0.5)\n",
    "        ax.scatter(pred, obs)\n",
    "\n",
    "        # set informative axes and title\n",
    "        ax.set_xlabel(\"Predicted Values\")\n",
    "        ax.set_ylabel(\"Observed Values\")\n",
    "        ax.set_title(f\"Observed vs. Predicted Values for\\n{self.y_name}\")\n",
    "        plt.show()\n",
    "\n",
    "\n",
    "\n",
    "\n",
    "    @classmethod\n",
    "    def from_results_row(cls, row: pd.Series):\n",
    "        dataset_ids = ast.literal_eval(row[\"Predictor datasets\"])\n",
    "        X = DataCollection([Dataset.from_id(id) for id in dataset_ids])\n",
    "        y = DataCollection([Dataset.from_stem(row[\"Response variable\"])])\n",
    "        Xy = MLCollection(X, y)\n",
    "        Xy.drop_NAs(verbose=1)\n",
    "\n",
    "        stats = Stats(\n",
    "            cv_nrmse=row[\"CV nRMSE\"],\n",
    "            cv_nrmse_std=row[\"CV nRMSE STD\"],\n",
    "            cv_r2=row[\"CV r-squared\"],\n",
    "            cv_r2_std=row[\"CV r-squared STD\"],\n",
    "            test_r2=row[\"Test r-squared\"],\n",
    "            predictor_importances=ast.literal_eval(row[\"Predictor importance\"]),\n",
    "        )\n",
    "\n",
    "        return cls(\n",
    "            id=int(row.name.__str__()),\n",
    "            run_id=row[\"Run ID\"],\n",
    "            y_name=row[\"Response variable\"],\n",
    "            Xy=Xy,\n",
    "            resolution=row[\"Resolution\"],\n",
    "            params=ast.literal_eval(row[\"Best parameters\"]),\n",
    "            n_tuning_iters=int(row[\"N tuning iters\"]),\n",
    "            stats=stats,\n",
    "            model_fpath=row[\"Model file\"],\n",
    "            random_state=int(row[\"Random seed\"]),\n",
    "            train_test_split=42,  # TODO: add to results\n",
    "            n_cv_groups=int(row[\"N CV groups\"]),\n",
    "            cv_grid_size=row[\"CV grid size [m]\"],\n",
    "            cv_block_buffer=row[\"CV block buffer\"],\n",
    "            n_observations=int(row[\"N observations\"]),\n",
    "            optimizer=row[\"Optimizer\"],\n",
    "            max_iter=int(row[\"max_iter\"]),\n",
    "            filtered_y_outliers=ast.literal_eval(row[\"Filtered RV outliers\"]),\n",
    "        )\n",
    "\n",
    "\n",
    "@dataclass\n",
    "class Trait:\n",
    "    name: str\n",
    "    models: list[Model]"
   ]
  },
  {
   "cell_type": "code",
   "execution_count": 7,
   "metadata": {},
   "outputs": [],
   "source": [
    "row = gbif_ssd_results.iloc[0]"
   ]
  },
  {
   "cell_type": "code",
   "execution_count": 8,
   "metadata": {},
   "outputs": [
    {
     "name": "stdout",
     "output_type": "stream",
     "text": [
      "XY shape before dropping full-NA rows/cols: (259200, 234)\n",
      "XY shape after:                             (35595, 233)\n",
      "# of rows excluded: 223605 (86.27%)\n",
      "Empty columns:\n",
      "X: ['soc_60-100cm_mean_0.5_deg']\n",
      "Y: []\n"
     ]
    }
   ],
   "source": [
    "model = Model.from_results_row(row)"
   ]
  },
  {
   "cell_type": "code",
   "execution_count": 28,
   "metadata": {},
   "outputs": [],
   "source": [
    "del min\n",
    "del max"
   ]
  },
  {
   "cell_type": "code",
   "execution_count": 40,
   "metadata": {},
   "outputs": [
    {
     "data": {
      "text/plain": [
       "<matplotlib.collections.PathCollection at 0x7fe1a69e8af0>"
      ]
     },
     "execution_count": 40,
     "metadata": {},
     "output_type": "execute_result"
    },
    {
     "data": {
      "image/png": "[encoded data removed]",
      "text/plain": [
       "<Figure size 640x480 with 1 Axes>"
      ]
     },
     "metadata": {},
     "output_type": "display_data"
    }
   ],
   "source": [
    "pred = model.model.predict(model.X_test)\n",
    "obs = model.y_test\n",
    "\n",
    "import matplotlib.pyplot as plt\n",
    "\n",
    "\n",
    "# plot the observed vs. predicted values using seaborn\n",
    "sns.set_theme()\n",
    "sns.set_style(\"whitegrid\")\n",
    "sns.set_context(\"paper\")\n",
    "\n",
    "\n",
    "fig, ax = plt.subplots()\n",
    "p1 = min(min(pred), min(obs))\n",
    "p2 = max(max(pred), max(obs))\n",
    "ax.plot([p1, p2], [p1, p2], color=\"black\", lw=0.5)\n",
    "ax.scatter(pred, obs)\n"
   ]
  }
 ],
 "metadata": {
  "kernelspec": {
   "display_name": "traits",
   "language": "python",
   "name": "python3"
  },
  "language_info": {
   "codemirror_mode": {
    "name": "ipython",
    "version": 3
   },
   "file_extension": ".py",
   "mimetype": "text/x-python",
   "name": "python",
   "nbconvert_exporter": "python",
   "pygments_lexer": "ipython3",
   "version": "3.9.16"
  },
  "orig_nbformat": 4
 },
 "nbformat": 4,
 "nbformat_minor": 2
}
