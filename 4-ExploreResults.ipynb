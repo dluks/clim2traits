{
 "cells": [
  {
   "cell_type": "markdown",
   "metadata": {},
   "source": [
    "# 4: Explore results\n",
    "Author: Daniel Lusk"
   ]
  },
  {
   "cell_type": "markdown",
   "metadata": {},
   "source": [
    "Imports and functions"
   ]
  },
  {
   "cell_type": "code",
   "execution_count": null,
   "metadata": {},
   "outputs": [],
   "source": [
    "import ast\n",
    "import json\n",
    "from pathlib import Path\n",
    "\n",
    "import geopandas as gpd\n",
    "import dask_geopandas as dgpd\n",
    "import matplotlib.pyplot as plt\n",
    "import numpy as np\n",
    "import pandas as pd\n",
    "import rioxarray as riox\n",
    "import seaborn as sns\n",
    "\n",
    "from geocube.api.core import make_geocube\n",
    "\n",
    "\n",
    "from utils.geodata import compare_grids, compare_gdf_to_grid, pad_ds\n",
    "from utils.geodata import read_001_predictions, splot_correlation_old\n",
    "\n",
    "from utils.visualize import plot_all_trait_obs_pred, plot_pred_cov\n",
    "\n",
    "%load_ext autoreload\n",
    "%autoreload 2"
   ]
  },
  {
   "cell_type": "markdown",
   "metadata": {},
   "source": [
    "## Overall training results"
   ]
  },
  {
   "cell_type": "markdown",
   "metadata": {},
   "source": [
    "Load the results, map trait IDs to trait names, and remove unneeded columns"
   ]
  },
  {
   "cell_type": "code",
   "execution_count": null,
   "metadata": {},
   "outputs": [],
   "source": [
    "results = pd.read_csv(\"results/training_results.csv\")\n",
    "\n",
    "# Rename response variable values according to the trait id -> trait name mapping\n",
    "with open(\"./trait_id_to_trait_name.json\", \"r\") as f:\n",
    "    mapping = json.load(f)\n",
    "\n",
    "# Create a new column called \"Trait name\" according to the pattern \"TRYgapfilled_X{trait_id}_\" with {trait_name}\n",
    "for trait_id, trait in mapping.items():\n",
    "    results.loc[results[\"Response variable\"].str.contains(trait_id), \"Trait name\"] = trait\n",
    "\n",
    "# Rename \"Test r-squared\" to \"Full r-squared\"\n",
    "results = results.rename(columns={\"Test r-squared\": \"Full r-squared\"})\n",
    "\n",
    "run_id_mapping = {\n",
    "    \"2023-09-23_11-44-08\": \"Original\",\n",
    "    \"2023-09-23_12-39-35\": \"Original + Imputed\",\n",
    "    \"2023-09-23_13-30-09\": \"Log-transformed\",\n",
    "    \"2023-09-23_14-19-41\": \"Log + Imputed\",\n",
    "}\n",
    "\n",
    "# Only select four most recent run IDs\n",
    "results = results[results[\"Run ID\"].isin(run_id_mapping.keys())]\n",
    "\n",
    "# Add new column \"Run type\" which maps each run ID to its corresponding run type\n",
    "results[\"Run type\"] = results[\"Run ID\"].map(run_id_mapping)\n",
    "\n",
    "# Isolate \"Predictor importance\" into its own dataframe (still retaining Run ID and Response variable)\n",
    "PI = results[[\"Run ID\", \"Run type\", \"Response variable\", \"Trait name\", \"Predictor importance\", \"CV predictor importance\"]]\n",
    "\n",
    "results = results[\n",
    "    [\n",
    "        \"Run ID\",\n",
    "        \"Run type\",\n",
    "        \"Response variable\",\n",
    "        \"Trait name\",\n",
    "        \"N observations\",\n",
    "        \"CV nRMSE\",\n",
    "        \"CV nRMSE STD\",\n",
    "        \"CV r-squared\",\n",
    "        \"CV r-squared STD\",\n",
    "        \"Full r-squared\",\n",
    "    ]\n",
    "]"
   ]
  },
  {
   "cell_type": "markdown",
   "metadata": {},
   "source": [
    "Look at the top ten and bottom ten models from overall results"
   ]
  },
  {
   "cell_type": "code",
   "execution_count": null,
   "metadata": {},
   "outputs": [],
   "source": [
    "results.sort_values(by=[\"CV r-squared\"], ascending=False).head(10)"
   ]
  },
  {
   "cell_type": "code",
   "execution_count": null,
   "metadata": {},
   "outputs": [],
   "source": [
    "results.sort_values(by=[\"CV r-squared\"], ascending=True).head(10)"
   ]
  },
  {
   "cell_type": "markdown",
   "metadata": {},
   "source": [
    "**Some quick takeaways:**\n",
    "- the sPlot traits resulted in the best models. This is likely due to its smaller sample size and (likely) reduced variance.\n",
    "- It appears that log-transforming the trait data resulted in models that were unable to be fit to the corresponding predictor variables.\n",
    "\n",
    "Let's set a CV R^2 threshold of 0.05 to remove these outliers and explore the overall performance of each training suite."
   ]
  },
  {
   "cell_type": "code",
   "execution_count": null,
   "metadata": {},
   "outputs": [],
   "source": [
    "results = results[results[\"CV r-squared\"] > 0.05]"
   ]
  },
  {
   "cell_type": "markdown",
   "metadata": {},
   "source": [
    "Plot overall results CV r-squared as box plot"
   ]
  },
  {
   "cell_type": "code",
   "execution_count": null,
   "metadata": {},
   "outputs": [],
   "source": [
    "sns.set_theme(style=\"whitegrid\")\n",
    "sns.set(rc={'figure.figsize':(15,10)})\n",
    "sns.set(font_scale=1)\n",
    "\n",
    "fig, axs = plt.subplots(nrows=2, ncols=2)\n",
    "axs = axs.flatten()\n",
    "\n",
    "models = [\"Original\", \"Original + Imputed\", \"Log-transformed\", \"Log + Imputed\"]\n",
    "metrics = [\"CV r-squared\", \"CV r-squared STD\", \"CV nRMSE\", \"Full r-squared\"]\n",
    "\n",
    "for i, metric in enumerate(metrics):\n",
    "    for j, model in enumerate(models):\n",
    "        ax = axs[i]\n",
    "        sns.boxplot(x=\"Run type\", y=metric, data=results, order=models, ax=ax)\n",
    "        # data = results[results[\"Run ID\"] == model][metric]\n",
    "        # sns.boxplot(data=data, ax=ax)\n",
    "        ax.set(xlabel=\"Data treatment\", label=metric)\n",
    "        ax.set_xlabel(ax.get_xlabel(), fontweight='bold')\n",
    "        ax.set_ylabel(ax.get_ylabel(), fontweight='bold')\n",
    "\n",
    "plt.show()"
   ]
  },
  {
   "cell_type": "markdown",
   "metadata": {},
   "source": [
    "After dropping outlier models from the log-transformed suite of models, the log-transformed models appear to perform best in terms of CV R^2 and Overall R^2 and with a generally lower CV nRMSE, but greater variance in its CV R^2 standard deviation. This makes sense, as many of the untransformed traits were already normally distributed, and so log-transforming them would likley result in poorer model fitting.\n",
    "\n",
    "In general, it appears that there is not a big difference between predictor datasets with missing values and imputed datasets, though the CV R^2 STD does increase slightly for models trained on non-imputed datasets."
   ]
  },
  {
   "cell_type": "markdown",
   "metadata": {},
   "source": [
    "**Now let's isolate the best performing models for each trait**"
   ]
  },
  {
   "cell_type": "code",
   "execution_count": null,
   "metadata": {},
   "outputs": [],
   "source": [
    "mapping"
   ]
  },
  {
   "cell_type": "code",
   "execution_count": null,
   "metadata": {},
   "outputs": [],
   "source": [
    "# First filter out rows that contain \"imputed\" in the Run ID column\n",
    "results_mvs = results[~results[\"Run type\"].str.contains(\"Imputed\")]\n",
    "\n",
    "# Next split results into GBIF and sPlot dataframes\n",
    "results_gbif = results_mvs[results_mvs[\"Response variable\"].str.contains(\"GBIF\")]\n",
    "results_splot = results_mvs[results_mvs[\"Response variable\"].str.contains(\"sPlot\")]\n",
    "\n",
    "# Next create empty dataframes (one for GBIF and one for sPlot) with the same column names as the results dataframe\n",
    "# Then, for each trait, get the row with the highest CV r-squared and append it to the empty dataframe\n",
    "# This will give us the best model for each trait\n",
    "\n",
    "best_models_gbif = pd.DataFrame(\n",
    "    columns=results_gbif.columns.values,\n",
    "    # index=range(len(mapping)),\n",
    ")\n",
    "best_models_splot = pd.DataFrame(\n",
    "    columns=results_splot.columns.values,\n",
    "    # index=range(len(mapping)),\n",
    ")\n",
    "\n",
    "for i, (_, trait) in enumerate(mapping.items()):\n",
    "    best_gbif_row = (\n",
    "        results_gbif[results_gbif[\"Trait name\"].str.contains(trait, regex=False)]\n",
    "        .sort_values(by=[\"CV r-squared\"], ascending=False)\n",
    "        .iloc[0]\n",
    "    )\n",
    "    best_models_gbif = pd.concat([best_models_gbif, best_gbif_row.to_frame().T])\n",
    "    \n",
    "    # The best GBIF run types don't necessarily correspond to the best sPlot run types\n",
    "    # for the same traits, but for an apples-to-apples comparison we should use the same\n",
    "    # run types for both datasets\n",
    "    best_gbif_trait = best_gbif_row[\"Response variable\"].split(\"GBIF_\")[1]\n",
    "\n",
    "    best_splot_row = (\n",
    "        results_splot[\n",
    "            results_splot[\"Response variable\"].str.contains(best_gbif_trait)\n",
    "        ]\n",
    "        .sort_values(by=[\"CV r-squared\"], ascending=False)\n",
    "        .iloc[0]\n",
    "    )\n",
    "\n",
    "    best_models_splot = pd.concat([best_models_splot, best_splot_row.to_frame().T])\n",
    "\n",
    "best_models_gbif = best_models_gbif.sort_values(by=[\"CV r-squared\"], ascending=False)\n",
    "best_models_splot = best_models_splot.sort_values(by=[\"CV r-squared\"], ascending=False)"
   ]
  },
  {
   "cell_type": "code",
   "execution_count": null,
   "metadata": {},
   "outputs": [],
   "source": [
    "best_models_gbif"
   ]
  },
  {
   "cell_type": "code",
   "execution_count": null,
   "metadata": {},
   "outputs": [],
   "source": [
    "print(best_models_gbif.to_markdown(index=False, floatfmt=\".3f\"))"
   ]
  },
  {
   "cell_type": "code",
   "execution_count": null,
   "metadata": {},
   "outputs": [],
   "source": [
    "print(best_models_splot.to_markdown(index=False, floatfmt=\".3f\"))"
   ]
  },
  {
   "cell_type": "markdown",
   "metadata": {},
   "source": [
    "Figure with scatterplots of CV-predictions vs observed for each of a subset of traits, along with R"
   ]
  },
  {
   "cell_type": "code",
   "execution_count": null,
   "metadata": {},
   "outputs": [],
   "source": [
    "results_dir = Path(\"results/training\")\n",
    "# Create a list of tuples of Run ID and Response variable for each row in best_models_gbif and best_models_splot\n",
    "# This will be used to filter out the results dataframes to only include the best model for each trait\n",
    "gbif_id_rvs = list(\n",
    "    zip(best_models_gbif[\"Run ID\"], best_models_gbif[\"Response variable\"])\n",
    ")\n",
    "splot_id_rvs = list(\n",
    "    zip(best_models_splot[\"Run ID\"], best_models_splot[\"Response variable\"])\n",
    ")\n",
    "\n",
    "gbif_trait_dirs = [Path(results_dir / run_id / rv) for run_id, rv in gbif_id_rvs]\n",
    "splot_trait_dirs = [Path(results_dir / run_id / rv) for run_id, rv in splot_id_rvs]"
   ]
  },
  {
   "cell_type": "code",
   "execution_count": null,
   "metadata": {},
   "outputs": [],
   "source": [
    "plot_all_trait_obs_pred(gbif_trait_dirs, mapping)"
   ]
  },
  {
   "cell_type": "code",
   "execution_count": null,
   "metadata": {},
   "outputs": [],
   "source": [
    "plot_all_trait_obs_pred(splot_trait_dirs, mapping)"
   ]
  },
  {
   "cell_type": "markdown",
   "metadata": {},
   "source": [
    "## Crowd-sourced vs sPlotOpen"
   ]
  },
  {
   "cell_type": "markdown",
   "metadata": {},
   "source": [
    "Figure: Box plot of GBIF and sPlot CV-R2 (y-axis) for each trait (x-axis). I.e. two boxes for each trait, one for GBIF and one for sPlot. Could print RMSE ± STD for each one, too?"
   ]
  },
  {
   "cell_type": "markdown",
   "metadata": {},
   "source": []
  },
  {
   "cell_type": "code",
   "execution_count": null,
   "metadata": {},
   "outputs": [],
   "source": [
    "best_models_gbif = best_models_gbif.sort_values(by=[\"CV r-squared\"], ascending=False)\n",
    "best_models_splot = best_models_splot.sort_values(by=[\"CV r-squared\"], ascending=False)\n",
    "\n",
    "# For each matching Response variable in best_models_gbif and best_models_splot, plot\n",
    "# the CV r-squared values as a bar chart, with the corresponding CV r-squared STD representing the error bars\n",
    "\n",
    "# First, drop the GBIF_ and sPlot_ prefixes from the Response variable column\n",
    "best_models_gbif[\"Response variable\"] = best_models_gbif[\"Response variable\"].str.replace(\"GBIF_\", \"\")\n",
    "best_models_splot[\"Response variable\"] = best_models_splot[\"Response variable\"].str.replace(\"sPlot_\", \"\")\n",
    "\n",
    "# Then, merge the two dataframes on Response variable\n",
    "best_models_gbif_splot = pd.merge(best_models_gbif, best_models_splot, on=\"Response variable\", suffixes=(\"_gbif\", \"_splot\"))\n",
    "\n",
    "import pandas as pd\n",
    "import matplotlib.pyplot as plt\n",
    "\n",
    "# set the plot style\n",
    "plt.style.use(\"ggplot\")\n",
    "\n",
    "# set the figure size\n",
    "plt.figure(figsize=(25, 9))\n",
    "\n",
    "# set the x-axis labels\n",
    "x_labels = best_models_gbif_splot[\"Trait name_gbif\"]\n",
    "\n",
    "# set the bar width\n",
    "bar_width = 0.35\n",
    "\n",
    "# set the x-axis positions\n",
    "x_pos = [i for i in range(len(x_labels))]\n",
    "\n",
    "# plot the GBIF CV r-squared values as bars\n",
    "gbif_r2 = best_models_gbif_splot[\"CV r-squared_gbif\"]\n",
    "gbif_std = best_models_gbif_splot[\"CV r-squared STD_gbif\"]\n",
    "plt.bar(x_pos, gbif_r2, width=bar_width, yerr=gbif_std, label=\"GBIF\")\n",
    "\n",
    "# plot the sPlot CV r-squared values as bars\n",
    "splot_r2 = best_models_gbif_splot[\"CV r-squared_splot\"]\n",
    "splot_std = best_models_gbif_splot[\"CV r-squared STD_splot\"]\n",
    "plt.bar([i + bar_width for i in x_pos], splot_r2, width=bar_width, yerr=splot_std, label=\"sPlot\")\n",
    "\n",
    "# set the x-axis labels and title\n",
    "plt.xlabel(\"Response variable\")\n",
    "# Y label as \"CV R2\" with the 2 in R2 in superscript\n",
    "plt.ylabel(\"CV R$^2$\")\n",
    "# plt.title(\"CV R$^2$ values for GBIF and sPlot\")\n",
    "\n",
    "# set the x-axis tick positions and labels\n",
    "plt.xticks([i + bar_width / 2 for i in x_pos], x_labels, rotation=90)\n",
    "\n",
    "# add a legend\n",
    "plt.legend()\n",
    "\n",
    "# show the plot\n",
    "plt.show()\n"
   ]
  },
  {
   "cell_type": "markdown",
   "metadata": {},
   "source": [
    "Table (or bar chart) showing global cover % for GBIF vs sPlotOpen traits (should include CV R2 for each model, too, since GBIF generally has lower R2."
   ]
  },
  {
   "cell_type": "code",
   "execution_count": null,
   "metadata": {},
   "outputs": [],
   "source": [
    "predict_name = \"MOD09GA.061_ISRIC_soil_WC_BIO_VODCA_0.5_deg_nan-strat=any_thr=0.5\"\n",
    "predicted_traits = list(Path(f\"results/predictions/{predict_name}/\").glob(\"*\"))\n",
    "# select_traits = [trait.name for trait in select_traits]\n",
    "\n",
    "# replace trait id with trait name from mapping\n",
    "# for i, trait in enumerate(select_traits):\n",
    "#     trait_id = trait.split(\"_\")[1].split(\"X\")[-1]\n",
    "#     trait_name = mapping[trait_id]\n",
    "#     select_traits[i] = trait.replace(f\"X{trait_id}\", trait_name)\n",
    "\n",
    "aoa_df = pd.DataFrame(\n",
    "    columns=[\"Response variable\", \"GBIF AOA\", \"sPlot AOA\", \"Pct change\"],\n",
    "    index=range(len(predicted_traits)),\n",
    ")\n",
    "\n",
    "gbif_predictions = []\n",
    "splot_predictions = []\n",
    "\n",
    "for i, trait in enumerate(predicted_traits):\n",
    "    if not trait.is_dir():\n",
    "        continue\n",
    "    gbif_trait_df = gpd.read_parquet(trait / f\"GBIF/{predict_name}_predict.parq\")\n",
    "    splot_trait_df = gpd.read_parquet(trait / f\"sPlot/{predict_name}_predict.parq\")\n",
    "\n",
    "    gbif_predictions.append(gbif_trait_df)\n",
    "    splot_predictions.append(splot_trait_df)\n",
    "    \n",
    "    # For each trait, add a new row to aoa_df with the response variable, GBIF AOA, and sPlot AOA\n",
    "\n",
    "    gbif_aoa = gbif_trait_df[\"AOA\"].sum() / gbif_trait_df[\"AOA\"].count()\n",
    "    splot_aoa = splot_trait_df[\"AOA\"].sum() / splot_trait_df[\"AOA\"].count()\n",
    "\n",
    "    # map trait id to trait name\n",
    "    trait_id = trait.name.split(\"_\")[1].split(\"X\")[-1]\n",
    "    trait_name = mapping[trait_id]\n",
    "\n",
    "    new_row = {\n",
    "        \"Response variable\": trait_name,\n",
    "        \"GBIF AOA\": gbif_aoa,\n",
    "        \"sPlot AOA\": splot_aoa,\n",
    "        \"Pct change\": (gbif_aoa - splot_aoa) * 100,\n",
    "    }\n",
    "\n",
    "    aoa_df.iloc[i] = new_row\n",
    "\n",
    "aoa_df = aoa_df.dropna().reset_index(drop=True)"
   ]
  },
  {
   "cell_type": "code",
   "execution_count": null,
   "metadata": {},
   "outputs": [],
   "source": [
    "print(aoa_df.to_markdown(index=False, floatfmt=\".2f\"))"
   ]
  },
  {
   "cell_type": "code",
   "execution_count": null,
   "metadata": {},
   "outputs": [],
   "source": [
    "aoa_df[\"Pct change\"].mean()"
   ]
  },
  {
   "cell_type": "markdown",
   "metadata": {},
   "source": [
    "## Global trait maps visualization"
   ]
  },
  {
   "cell_type": "markdown",
   "metadata": {},
   "source": [
    "Figure of global trait maps for selected traits with two columns—left column containing trait predictions masked by AoA, right column containing trait prediction CoV (also masked by AoA?)"
   ]
  },
  {
   "cell_type": "markdown",
   "metadata": {},
   "source": [
    "First, back-transform trait values predicted by models trained in log-space."
   ]
  },
  {
   "cell_type": "code",
   "execution_count": null,
   "metadata": {},
   "outputs": [],
   "source": [
    "for i, (gbif, splot) in enumerate(zip(gbif_predictions, splot_predictions)):\n",
    "    if gbif.columns[0].endswith(\"_ln\"):\n",
    "        # back-transform columns 0 and 4\n",
    "        gbif.iloc[:, 0] = np.exp(gbif.iloc[:, 0])\n",
    "        gbif.iloc[:, 4] = np.exp(gbif.iloc[:, 4])\n",
    "    \n",
    "    if splot.columns[0].endswith(\"_ln\"):\n",
    "        # back-transform columns 0 and 4\n",
    "        splot.iloc[:, 0] = np.exp(splot.iloc[:, 0])\n",
    "        splot.iloc[:, 4] = np.exp(splot.iloc[:, 4])\n",
    "    \n",
    "    # rename columns 0 and 4 by replacing \"_ln\" with nothing\n",
    "    gbif = gbif.rename(columns={gbif.columns[0]: gbif.columns[0].replace(\"_ln\", \"\")})\n",
    "    gbif = gbif.rename(columns={gbif.columns[4]: gbif.columns[4].replace(\"_ln\", \"\")})\n",
    "\n",
    "    splot = splot.rename(columns={splot.columns[0]: splot.columns[0].replace(\"_ln\", \"\")})\n",
    "    splot = splot.rename(columns={splot.columns[4]: splot.columns[4].replace(\"_ln\", \"\")})\n",
    "\n",
    "    gbif_predictions[i] = gbif\n",
    "    splot_predictions[i] = splot"
   ]
  },
  {
   "cell_type": "code",
   "execution_count": null,
   "metadata": {},
   "outputs": [],
   "source": [
    "for i, (gbif, splot) in enumerate(zip(gbif_predictions, splot_predictions)):\n",
    "    gbif_predictions[i] = make_geocube(vector_data=gbif, resolution=(-0.5, 0.5))\n",
    "    gbif_predictions[i] = pad_ds(gbif_predictions[i])\n",
    "\n",
    "    splot_predictions[i] = make_geocube(vector_data=splot, resolution=(-0.5, 0.5))\n",
    "    splot_predictions[i] = pad_ds(splot_predictions[i])"
   ]
  },
  {
   "cell_type": "code",
   "execution_count": null,
   "metadata": {},
   "outputs": [],
   "source": [
    "plot_pred_cov(gbif_predictions)"
   ]
  },
  {
   "cell_type": "markdown",
   "metadata": {},
   "source": [
    "Figure (appendix): All remaining global trait maps with > R2-THRESHOLD"
   ]
  },
  {
   "cell_type": "markdown",
   "metadata": {},
   "source": [
    "## Feature importances"
   ]
  },
  {
   "cell_type": "markdown",
   "metadata": {},
   "source": [
    "Filter models with a CV r^2 below 0.2"
   ]
  },
  {
   "cell_type": "code",
   "execution_count": null,
   "metadata": {},
   "outputs": [],
   "source": [
    "pi_gbif = PI.loc[best_models_gbif[best_models_gbif[\"CV r-squared\"] > 0.2].index]\n",
    "pi_splot = PI.loc[best_models_splot[best_models_splot[\"CV r-squared\"] > 0.2].index]"
   ]
  },
  {
   "cell_type": "code",
   "execution_count": null,
   "metadata": {},
   "outputs": [],
   "source": [
    "def ds_importance(PIs):\n",
    "    \n",
    "    PIs = ast.literal_eval(PIs)\n",
    "\n",
    "    ds_keys = {\n",
    "        \"MODIS\": [\"sur_refl\"],\n",
    "        \"WorldClim\": [\"wc2.1\"],\n",
    "        \"Soil\": [\"0-5cm\", \"0-30cm\", \"5-15cm\", \"15-30cm\", \"30-60cm\", \"60-100cm\", \"100-200cm\"],\n",
    "        \"VODCA\": [\"C_2\", \"Ku_2\", \"X_2\"]\n",
    "    }\n",
    "\n",
    "    # Get the average and standard deviation of the predictor importance values for each dataset\n",
    "    PIs = {\n",
    "        k: [np.mean(v), np.std(v)] for k, v in PIs.items()\n",
    "    }\n",
    "\n",
    "    ds_importance = {}\n",
    "\n",
    "    for ds, keys in ds_keys.items():\n",
    "        \n",
    "        for feature, imp in PIs.items():\n",
    "            for key in keys:\n",
    "                if key in feature:\n",
    "                    if ds not in ds_importance:\n",
    "                        ds_importance[ds] = []\n",
    "                    ds_importance[ds].append(imp)\n",
    "    \n",
    "    return ds_importance\n"
   ]
  },
  {
   "cell_type": "code",
   "execution_count": null,
   "metadata": {},
   "outputs": [],
   "source": [
    "# Get DS importance for each response variable in PI_orig_gbif and PI_orig_splot\n",
    "pi_gbif[\"DS importance\"] = pi_gbif[\"CV predictor importance\"].apply(ds_importance)\n",
    "pi_splot[\"DS importance\"] = pi_splot[\"CV predictor importance\"].apply(ds_importance)"
   ]
  },
  {
   "cell_type": "markdown",
   "metadata": {},
   "source": [
    "Figure: box and whisker plot of predictor datasets (x-axis) and their average importances across all traits for which models had a > R2-THRESHOLD score."
   ]
  },
  {
   "cell_type": "code",
   "execution_count": null,
   "metadata": {},
   "outputs": [],
   "source": [
    "# create a list of dataframes for each dataset for GBIF\n",
    "dfs_gbif = []\n",
    "for ds in pi_gbif[\"DS importance\"].iloc[0].keys():\n",
    "    df = pd.DataFrame(\n",
    "        {\n",
    "            \"Dataset\": ds,\n",
    "            \"Mean importance\": [\n",
    "                np.asarray(imp[ds])[:, 0].mean() for imp in pi_gbif[\"DS importance\"]\n",
    "            ],\n",
    "            \"STD importance\": [\n",
    "                np.asarray(imp[ds])[:, 1].mean() for imp in pi_gbif[\"DS importance\"]\n",
    "            ],\n",
    "        }\n",
    "    )\n",
    "    dfs_gbif.append(df)\n",
    "\n",
    "# concatenate the dataframes into a single dataframe for GBIF\n",
    "df_gbif = pd.concat(dfs_gbif)\n",
    "\n",
    "# create a list of dataframes for each dataset for sPlot\n",
    "dfs_splot = []\n",
    "for ds in pi_splot[\"DS importance\"].iloc[0].keys():\n",
    "    df = pd.DataFrame(\n",
    "        {\n",
    "            \"Dataset\": ds,\n",
    "            \"Mean importance\": [\n",
    "                np.asarray(imp[ds])[:, 0].mean() for imp in pi_splot[\"DS importance\"]\n",
    "            ],\n",
    "            \"STD importance\": [\n",
    "                np.asarray(imp[ds])[:, 1].mean() for imp in pi_splot[\"DS importance\"]\n",
    "            ],\n",
    "        }\n",
    "    )\n",
    "    dfs_splot.append(df)\n",
    "\n",
    "# concatenate the dataframes into a single dataframe for sPlot\n",
    "df_splot = pd.concat(dfs_splot)\n",
    "\n",
    "# set the plot style\n",
    "sns.set_theme()\n",
    "# sns.set_style(\"whitegrid\")\n",
    "\n",
    "# create the figure and subplots\n",
    "fig, axs = plt.subplots(1, 2, figsize=(14, 6), sharey=True)\n",
    "\n",
    "# plot the GBIF boxplot\n",
    "sns.boxplot(x=\"Dataset\", y=\"Mean importance\", data=df_gbif, ax=axs[0])\n",
    "axs[0].set_xlabel(\"Dataset\")\n",
    "axs[0].set_ylabel(\"Mean importance\")\n",
    "axs[0].set_title(\"Predictor dataset importances for GBIF\\nmodels with >0.2 CV r-squared\")\n",
    "\n",
    "# plot the sPlot boxplot\n",
    "sns.boxplot(x=\"Dataset\", y=\"Mean importance\", data=df_splot, ax=axs[1])\n",
    "axs[1].set_xlabel(\"Dataset\")\n",
    "axs[1].set_ylabel(\"\")\n",
    "axs[1].set_title(\"Predictor dataset importances for sPlot\\nmodels with >0.2 CV r-squared\")\n",
    "\n",
    "# adjust the layout and spacing\n",
    "plt.tight_layout()\n",
    "\n",
    "# show the plot\n",
    "plt.show()"
   ]
  },
  {
   "cell_type": "markdown",
   "metadata": {},
   "source": [
    "Figure (appendix): Feature importance of individual predictors across all traits for which models had a > R2-THRESHOLD score."
   ]
  },
  {
   "cell_type": "markdown",
   "metadata": {},
   "source": [
    "## Comparison of GBIF (and other products) with sPlotOpen grids"
   ]
  },
  {
   "cell_type": "markdown",
   "metadata": {},
   "source": [
    "### 0.5 degree grids"
   ]
  },
  {
   "cell_type": "code",
   "execution_count": null,
   "metadata": {},
   "outputs": [],
   "source": [
    "# Other products (0.5 degree)\n",
    "product_dir = Path(\"data/other-products/all-prods_stacks_sla-nit-nita_05D_2022-02-14\")\n",
    "N_mass = riox.open_rasterio(product_dir / \"all-prods_nit_stack_all-maps_05D_2022-02-14.grd\", masked=True)\n",
    "N_area = riox.open_rasterio(product_dir / \"all-prods_nita_stack_all-maps_05D_2022-02-14.grd\", masked=True)\n",
    "SLA  = riox.open_rasterio(product_dir / \"all-prods_sla_stack_all-maps_05D_2022-02-14.grd\", masked=True)\n",
    "\n",
    "# Extrapolations\n",
    "pred_05_dir = Path(\"results/predictions/05deg_models/MOD09GA.061_ISRIC_soil_WC_BIO_VODCA_0.5_deg_nan-strat=any_thr=0.5\", \"Shrub_Tree_Grass\")\n",
    "pred_05_fn = \"MOD09GA.061_ISRIC_soil_WC_BIO_VODCA_0.5_deg_nan-strat=any_thr=0.5_predict.parq\"\n",
    "\n",
    "# GBIF extrapolations (0.5 degree)\n",
    "gbif_N_mass_05 = gpd.read_parquet(pred_05_dir / \"TRYgapfilled_X14_05deg_mean/GBIF\" / pred_05_fn)\n",
    "gbif_N_area_05 = gpd.read_parquet(pred_05_dir / \"TRYgapfilled_X50_05deg_mean_ln/GBIF\" / pred_05_fn)\n",
    "gbif_SLA_05 = gpd.read_parquet(pred_05_dir / \"TRYgapfilled_X11_05deg_mean/GBIF\" / pred_05_fn)\n",
    "\n",
    "# sPlot extrapolations (0.5 degree)\n",
    "sPlot_ext_N_mass_05 = gpd.read_parquet(pred_05_dir / \"TRYgapfilled_X14_05deg_mean/sPlot\" / pred_05_fn)\n",
    "sPlot_ext_N_area_05 = gpd.read_parquet(pred_05_dir / \"TRYgapfilled_X50_05deg_mean_ln/sPlot\" / pred_05_fn)\n",
    "sPlot_ext_SLA_05 = gpd.read_parquet(pred_05_dir / \"TRYgapfilled_X11_05deg_mean/sPlot\" / pred_05_fn)\n",
    "\n",
    "# sPlot maps (0.5 degree)\n",
    "sPlot_N_mass_05 = riox.open_rasterio(\"./GBIF_trait_maps/global_maps/Shrub_Tree_Grass/05deg/sPlot_TRYgapfilled_X14_05deg.grd\", masked=True).sel(band=2)\n",
    "sPlot_N_area_05 = riox.open_rasterio(\"./GBIF_trait_maps/global_maps/Shrub_Tree_Grass/05deg/sPlot_TRYgapfilled_X50_05deg.grd\", masked=True).sel(band=2)\n",
    "sPlot_SLA_05 = riox.open_rasterio(\"./GBIF_trait_maps/global_maps/Shrub_Tree_Grass/05deg/sPlot_TRYgapfilled_X11_05deg.grd\", masked=True).sel(band=2)"
   ]
  },
  {
   "cell_type": "markdown",
   "metadata": {},
   "source": [
    "Back-transform `gbif_N_area` and `sPlot_N_area` as they were trained on log-transformed trait values"
   ]
  },
  {
   "cell_type": "code",
   "execution_count": null,
   "metadata": {},
   "outputs": [],
   "source": [
    "# Back-transform `gbif_N_area` as it was trained on log-transformed trait values\n",
    "gbif_N_area_05[\"GBIF_TRYgapfilled_X50_05deg_mean\"] = np.exp(gbif_N_area_05[\"GBIF_TRYgapfilled_X50_05deg_mean_ln\"])\n",
    "sPlot_ext_N_area_05[\"sPlot_TRYgapfilled_X50_05deg_mean\"] = np.exp(sPlot_ext_N_area_05[\"sPlot_TRYgapfilled_X50_05deg_mean_ln\"])"
   ]
  },
  {
   "cell_type": "code",
   "execution_count": null,
   "metadata": {},
   "outputs": [],
   "source": [
    "corr_table = pd.DataFrame(columns=[\"Leaf N mass\"])\n",
    "\n",
    "splot_corr = compare_gdf_to_grid(sPlot_ext_N_mass_05, sPlot_N_mass_05, \"sPlot_TRYgapfilled_X14_05deg_mean\", \"sPlot_N_mass\")\n",
    "gbif_corr = compare_gdf_to_grid(gbif_N_mass_05, sPlot_N_mass_05, \"GBIF_TRYgapfilled_X14_05deg_mean\", \"sPlot_N_mass\")\n",
    "\n",
    "corr_table = pd.concat([corr_table, pd.DataFrame([splot_corr, gbif_corr], columns=[\"Leaf N mass\"], index=[\"sPlot (extrap.)\", \"GBIF\"])])\n",
    "\n",
    "for i, band in enumerate(N_mass):\n",
    "    band_name = band.long_name[i]\n",
    "    corr = compare_grids(band, sPlot_N_mass_05, band_name, \"sPlot_N_mass\")\n",
    "    corr_table = pd.concat([corr_table, pd.DataFrame([corr], columns=[\"Leaf N mass\"], index=[band_name])])"
   ]
  },
  {
   "cell_type": "code",
   "execution_count": null,
   "metadata": {},
   "outputs": [],
   "source": [
    "splot_corr = compare_gdf_to_grid(sPlot_ext_N_area_05, sPlot_N_area_05, \"sPlot_TRYgapfilled_X50_05deg_mean\", \"sPlot_N_area\")\n",
    "gbif_corr = compare_gdf_to_grid(gbif_N_area_05, sPlot_N_area_05, \"GBIF_TRYgapfilled_X50_05deg_mean\", \"sPlot_N_area\")\n",
    "\n",
    "corr_table.loc[\"GBIF\", \"Leaf N area\"] = gbif_corr\n",
    "corr_table.loc[\"sPlot (extrap.)\", \"Leaf N area\"] = splot_corr\n",
    "\n",
    "for i, band in enumerate(N_area):\n",
    "    band_name = band.long_name[i]\n",
    "    corr = compare_grids(band, sPlot_N_area_05, band_name, \"sPlot_N_area\")\n",
    "    if band_name in corr_table.index:\n",
    "        corr_table.loc[band_name, \"Leaf N area\"] = corr\n",
    "    else:\n",
    "        corr_table = pd.concat([corr_table, pd.DataFrame({\"Leaf N area\": corr}, index=[band_name])])"
   ]
  },
  {
   "cell_type": "code",
   "execution_count": null,
   "metadata": {},
   "outputs": [],
   "source": [
    "splot_corr = compare_gdf_to_grid(sPlot_ext_SLA_05, sPlot_SLA_05, \"sPlot_TRYgapfilled_X11_05deg_mean\", \"sPlot_SLA\")\n",
    "gbif_corr = compare_gdf_to_grid(gbif_SLA_05, sPlot_SLA_05, \"GBIF_TRYgapfilled_X11_05deg_mean\", \"sPlot_SLA\")\n",
    "\n",
    "corr_table.loc[\"GBIF\", \"Leaf SLA\"] = gbif_corr\n",
    "corr_table.loc[\"sPlot (extrap.)\", \"Leaf SLA\"] = splot_corr\n",
    "\n",
    "for i, band in enumerate(SLA):\n",
    "    band_name = band.long_name[i]\n",
    "    corr = compare_grids(band, sPlot_SLA_05, band_name, \"sPlot_SLA\")\n",
    "    if band_name in corr_table.index:\n",
    "        corr_table.loc[band_name, \"Leaf SLA\"] = corr\n",
    "    else:\n",
    "        corr_table = pd.concat([corr_table, pd.DataFrame({\"Leaf SLA\": corr}, index=[band_name])])"
   ]
  },
  {
   "cell_type": "markdown",
   "metadata": {},
   "source": [
    "Pearson's correlation coefficient (r) between extrapolations and sPlotOpen grids at 0.5 degrees."
   ]
  },
  {
   "cell_type": "code",
   "execution_count": null,
   "metadata": {},
   "outputs": [],
   "source": [
    "print(corr_table.to_markdown(floatfmt=\".3f\"))"
   ]
  },
  {
   "cell_type": "markdown",
   "metadata": {},
   "source": [
    "### 0.01 degree grids"
   ]
  },
  {
   "cell_type": "markdown",
   "metadata": {},
   "source": [
    "#### Old method"
   ]
  },
  {
   "cell_type": "code",
   "execution_count": null,
   "metadata": {},
   "outputs": [],
   "source": [
    "# Extrapolations\n",
    "pred_001_dir = Path(\"results/predictions/tiled_5x5_deg_MOD09GA.061_ISRIC_soil_WC_BIO_VODCA_0.01_deg_nan-strat=any_thr=0.5\")\n",
    "pred_001_fn = \"merged_predictions.parq\"\n",
    "\n",
    "# GBIF extrapolations (0.01 degree)\n",
    "gbif_N_mass_001 = gpd.read_parquet(pred_001_dir / \"TRYgapfilled_X14_05deg_mean/GBIF\" / pred_001_fn)\n",
    "gbif_N_area_001 = gpd.read_parquet(pred_001_dir / \"TRYgapfilled_X50_05deg_mean_ln/GBIF\" / pred_001_fn)\n",
    "gbif_SLA_001 = gpd.read_parquet(pred_001_dir / \"TRYgapfilled_X11_05deg_mean/GBIF\" / pred_001_fn)\n",
    "\n",
    "# sPlot extrapolations (0.01 degree)\n",
    "sPlot_ext_N_mass_001 = gpd.read_parquet(pred_001_dir / \"TRYgapfilled_X14_05deg_mean/sPlot\" / pred_001_fn)\n",
    "sPlot_ext_N_area_001 = gpd.read_parquet(pred_001_dir / \"TRYgapfilled_X50_05deg_mean_ln/sPlot\" / pred_001_fn)\n",
    "sPlot_ext_SLA_001 = gpd.read_parquet(pred_001_dir / \"TRYgapfilled_X11_05deg_mean/sPlot\" / pred_001_fn)\n",
    "\n",
    "# sPlot maps (0.01 degree)\n",
    "sPlot_N_mass_001 = riox.open_rasterio(\"data/splot/0.01_deg/sPlot_TRYgapfilled_X14_0.01deg.tif\", masked=True)\n",
    "sPlot_N_area_001 = riox.open_rasterio(\"data/splot/0.01_deg/sPlot_TRYgapfilled_X50_0.01deg.tif\", masked=True)\n",
    "sPlot_SLA_001 = riox.open_rasterio(\"data/splot/0.01_deg/sPlot_TRYgapfilled_X11_0.01deg.tif\", masked=True)"
   ]
  },
  {
   "cell_type": "markdown",
   "metadata": {},
   "source": [
    "Back-transform `gbif_N_area` and `sPlot_N_area` as they were trained on log-transformed trait values"
   ]
  },
  {
   "cell_type": "code",
   "execution_count": null,
   "metadata": {},
   "outputs": [],
   "source": [
    "# Back-transform `gbif_N_area` as it was trained on log-transformed trait values\n",
    "gbif_N_area_001[\"GBIF_TRYgapfilled_X50_05deg_mean\"] = np.exp(gbif_N_area_001[\"GBIF_TRYgapfilled_X50_05deg_mean_ln\"])\n",
    "sPlot_ext_N_area_001[\"sPlot_TRYgapfilled_X50_05deg_mean\"] = np.exp(sPlot_ext_N_area_001[\"sPlot_TRYgapfilled_X50_05deg_mean_ln\"])"
   ]
  },
  {
   "cell_type": "code",
   "execution_count": null,
   "metadata": {},
   "outputs": [],
   "source": [
    "trait_ids = [\"X14\", \"X50\", \"X11\"]\n",
    "trait_names = [\"Leaf N mass\", \"Leaf N area\", \"Leaf SLA\"]\n",
    "splot_trait_names = [\"sPlot_N_mass\", \"sPlot_N_area\", \"sPlot_SLA\"]\n",
    "\n",
    "corr_table = pd.DataFrame(columns=trait_names, index=[\"sPlot\", \"GBIF\"])\n",
    "\n",
    "for trait_id, splot_trait_name, trait_name in zip(\n",
    "    trait_ids, splot_trait_names, trait_names\n",
    "):\n",
    "    for model in [\"GBIF\", \"sPlot\"]:\n",
    "        print(f\"Processing {model} {trait_id}...\")\n",
    "\n",
    "        gdf = read_001_predictions(trait_id, model)\n",
    "        corr = splot_correlation_old(gdf, trait_id, splot_trait_name, \"05_range\")\n",
    "\n",
    "        corr_table.at[model, trait_name] = corr\n",
    "    \n",
    "print(corr_table.to_markdown(floatfmt=\".3f\"))"
   ]
  },
  {
   "cell_type": "markdown",
   "metadata": {},
   "source": [
    "#### Updated method\n",
    "\n",
    "See `scripts/splot_correlations.py`"
   ]
  },
  {
   "cell_type": "code",
   "execution_count": 29,
   "metadata": {},
   "outputs": [
    {
     "data": {
      "text/html": [
       "<div>\n",
       "<style scoped>\n",
       "    .dataframe tbody tr th:only-of-type {\n",
       "        vertical-align: middle;\n",
       "    }\n",
       "\n",
       "    .dataframe tbody tr th {\n",
       "        vertical-align: top;\n",
       "    }\n",
       "\n",
       "    .dataframe thead tr th {\n",
       "        text-align: left;\n",
       "    }\n",
       "</style>\n",
       "<table border=\"1\" class=\"dataframe\">\n",
       "  <thead>\n",
       "    <tr>\n",
       "      <th></th>\n",
       "      <th></th>\n",
       "      <th colspan=\"2\" halign=\"left\">2</th>\n",
       "      <th colspan=\"2\" halign=\"left\">0.5</th>\n",
       "      <th colspan=\"2\" halign=\"left\">0.2</th>\n",
       "      <th colspan=\"2\" halign=\"left\">0.01</th>\n",
       "    </tr>\n",
       "    <tr>\n",
       "      <th></th>\n",
       "      <th></th>\n",
       "      <th>GBIF</th>\n",
       "      <th>sPlot</th>\n",
       "      <th>GBIF</th>\n",
       "      <th>sPlot</th>\n",
       "      <th>GBIF</th>\n",
       "      <th>sPlot</th>\n",
       "      <th>GBIF</th>\n",
       "      <th>sPlot</th>\n",
       "    </tr>\n",
       "  </thead>\n",
       "  <tbody>\n",
       "    <tr>\n",
       "      <th rowspan=\"3\" valign=\"top\">X1080</th>\n",
       "      <th>Grass</th>\n",
       "      <td>0.51</td>\n",
       "      <td>0.71</td>\n",
       "      <td>0.48</td>\n",
       "      <td>0.82</td>\n",
       "      <td>0.43</td>\n",
       "      <td>0.57</td>\n",
       "      <td>0.36</td>\n",
       "      <td>0.44</td>\n",
       "    </tr>\n",
       "    <tr>\n",
       "      <th>Shrub-Tree</th>\n",
       "      <td>0.39</td>\n",
       "      <td>0.63</td>\n",
       "      <td>0.39</td>\n",
       "      <td>0.83</td>\n",
       "      <td>0.37</td>\n",
       "      <td>0.58</td>\n",
       "      <td>0.32</td>\n",
       "      <td>0.46</td>\n",
       "    </tr>\n",
       "    <tr>\n",
       "      <th>Shrub-Tree-Grass</th>\n",
       "      <td>0.60</td>\n",
       "      <td>0.77</td>\n",
       "      <td>0.57</td>\n",
       "      <td>0.85</td>\n",
       "      <td>0.51</td>\n",
       "      <td>0.64</td>\n",
       "      <td>0.44</td>\n",
       "      <td>0.53</td>\n",
       "    </tr>\n",
       "    <tr>\n",
       "      <th rowspan=\"2\" valign=\"top\">X11</th>\n",
       "      <th>Grass</th>\n",
       "      <td>0.52</td>\n",
       "      <td>0.74</td>\n",
       "      <td>0.77</td>\n",
       "      <td>0.35</td>\n",
       "      <td>0.55</td>\n",
       "      <td>0.67</td>\n",
       "      <td>0.53</td>\n",
       "      <td>0.57</td>\n",
       "    </tr>\n",
       "    <tr>\n",
       "      <th>Shrub-Tree</th>\n",
       "      <td>0.65</td>\n",
       "      <td>0.79</td>\n",
       "      <td>0.78</td>\n",
       "      <td>0.46</td>\n",
       "      <td>0.50</td>\n",
       "      <td>0.64</td>\n",
       "      <td>0.37</td>\n",
       "      <td>0.54</td>\n",
       "    </tr>\n",
       "    <tr>\n",
       "      <th>...</th>\n",
       "      <th>...</th>\n",
       "      <td>...</td>\n",
       "      <td>...</td>\n",
       "      <td>...</td>\n",
       "      <td>...</td>\n",
       "      <td>...</td>\n",
       "      <td>...</td>\n",
       "      <td>...</td>\n",
       "      <td>...</td>\n",
       "    </tr>\n",
       "    <tr>\n",
       "      <th rowspan=\"2\" valign=\"top\">X78</th>\n",
       "      <th>Shrub-Tree</th>\n",
       "      <td>0.91</td>\n",
       "      <td>0.81</td>\n",
       "      <td>0.76</td>\n",
       "      <td>0.96</td>\n",
       "      <td>0.70</td>\n",
       "      <td>0.80</td>\n",
       "      <td>0.67</td>\n",
       "      <td>0.74</td>\n",
       "    </tr>\n",
       "    <tr>\n",
       "      <th>Shrub-Tree-Grass</th>\n",
       "      <td>0.83</td>\n",
       "      <td>0.71</td>\n",
       "      <td>0.67</td>\n",
       "      <td>0.96</td>\n",
       "      <td>0.60</td>\n",
       "      <td>0.74</td>\n",
       "      <td>0.59</td>\n",
       "      <td>0.68</td>\n",
       "    </tr>\n",
       "    <tr>\n",
       "      <th rowspan=\"3\" valign=\"top\">X95</th>\n",
       "      <th>Grass</th>\n",
       "      <td>0.38</td>\n",
       "      <td>0.65</td>\n",
       "      <td>0.27</td>\n",
       "      <td>0.83</td>\n",
       "      <td>0.16</td>\n",
       "      <td>0.40</td>\n",
       "      <td>0.15</td>\n",
       "      <td>0.30</td>\n",
       "    </tr>\n",
       "    <tr>\n",
       "      <th>Shrub-Tree</th>\n",
       "      <td>0.59</td>\n",
       "      <td>0.77</td>\n",
       "      <td>0.46</td>\n",
       "      <td>0.88</td>\n",
       "      <td>0.35</td>\n",
       "      <td>0.52</td>\n",
       "      <td>0.32</td>\n",
       "      <td>0.45</td>\n",
       "    </tr>\n",
       "    <tr>\n",
       "      <th>Shrub-Tree-Grass</th>\n",
       "      <td>0.50</td>\n",
       "      <td>0.71</td>\n",
       "      <td>0.38</td>\n",
       "      <td>0.88</td>\n",
       "      <td>0.25</td>\n",
       "      <td>0.48</td>\n",
       "      <td>0.20</td>\n",
       "      <td>0.38</td>\n",
       "    </tr>\n",
       "  </tbody>\n",
       "</table>\n",
       "<p>99 rows × 8 columns</p>\n",
       "</div>"
      ],
      "text/plain": [
       "                           2         0.5         0.2        0.01      \n",
       "                        GBIF sPlot  GBIF sPlot  GBIF sPlot  GBIF sPlot\n",
       "X1080 Grass             0.51  0.71  0.48  0.82  0.43  0.57  0.36  0.44\n",
       "      Shrub-Tree        0.39  0.63  0.39  0.83  0.37  0.58  0.32  0.46\n",
       "      Shrub-Tree-Grass  0.60  0.77  0.57  0.85  0.51  0.64  0.44  0.53\n",
       "X11   Grass             0.52  0.74  0.77  0.35  0.55  0.67  0.53  0.57\n",
       "      Shrub-Tree        0.65  0.79  0.78  0.46  0.50  0.64  0.37  0.54\n",
       "...                      ...   ...   ...   ...   ...   ...   ...   ...\n",
       "X78   Shrub-Tree        0.91  0.81  0.76  0.96  0.70  0.80  0.67  0.74\n",
       "      Shrub-Tree-Grass  0.83  0.71  0.67  0.96  0.60  0.74  0.59  0.68\n",
       "X95   Grass             0.38  0.65  0.27  0.83  0.16  0.40  0.15  0.30\n",
       "      Shrub-Tree        0.59  0.77  0.46  0.88  0.35  0.52  0.32  0.45\n",
       "      Shrub-Tree-Grass  0.50  0.71  0.38  0.88  0.25  0.48  0.20  0.38\n",
       "\n",
       "[99 rows x 8 columns]"
      ]
     },
     "execution_count": 29,
     "metadata": {},
     "output_type": "execute_result"
    }
   ],
   "source": [
    "import pandas as pd\n",
    "\n",
    "corr_table = pd.read_parquet(\"results/trait_correlations.parquet\")\n",
    "corr_table.round(2)"
   ]
  },
  {
   "cell_type": "code",
   "execution_count": 34,
   "metadata": {},
   "outputs": [
    {
     "name": "stdout",
     "output_type": "stream",
     "text": [
      "|                               |   ('2', 'GBIF') |   ('2', 'sPlot') |   ('0.5', 'GBIF') |   ('0.5', 'sPlot') |   ('0.2', 'GBIF') |   ('0.2', 'sPlot') |   ('0.01', 'GBIF') |   ('0.01', 'sPlot') |\n",
      "|:------------------------------|----------------:|-----------------:|------------------:|-------------------:|------------------:|-------------------:|-------------------:|--------------------:|\n",
      "| ('X1080', 'Grass')            |            0.51 |             0.71 |              0.48 |               0.82 |              0.43 |               0.57 |               0.36 |                0.44 |\n",
      "| ('X1080', 'Shrub-Tree')       |            0.39 |             0.63 |              0.39 |               0.83 |              0.37 |               0.58 |               0.32 |                0.46 |\n",
      "| ('X1080', 'Shrub-Tree-Grass') |            0.6  |             0.77 |              0.57 |               0.85 |              0.51 |               0.64 |               0.44 |                0.53 |\n",
      "| ('X11', 'Grass')              |            0.52 |             0.74 |              0.77 |               0.35 |              0.55 |               0.67 |               0.53 |                0.57 |\n",
      "| ('X11', 'Shrub-Tree')         |            0.65 |             0.79 |              0.78 |               0.46 |              0.5  |               0.64 |               0.37 |                0.54 |\n",
      "| ('X11', 'Shrub-Tree-Grass')   |            0.6  |             0.8  |              0.8  |               0.41 |              0.5  |               0.64 |               0.43 |                0.55 |\n",
      "| ('X13', 'Grass')              |            0.53 |             0.15 |              0.63 |               0.11 |              0.26 |               0.41 |               0.23 |                0.34 |\n",
      "| ('X13', 'Shrub-Tree')         |            0.79 |             0.51 |              0.75 |               0.45 |              0.52 |               0.72 |               0.53 |                0.68 |\n",
      "| ('X13', 'Shrub-Tree-Grass')   |            0.58 |             0.33 |              0.63 |               0.25 |              0.41 |               0.62 |               0.4  |                0.55 |\n",
      "| ('X138', 'Grass')             |            0.17 |             0.55 |              0.16 |               0.73 |              0.17 |               0.43 |               0.13 |                0.25 |\n",
      "| ('X138', 'Shrub-Tree')        |            0.09 |             0.42 |              0.19 |               0.69 |              0.19 |               0.4  |               0.17 |                0.29 |\n",
      "| ('X138', 'Shrub-Tree-Grass')  |            0.13 |             0.62 |              0.14 |               0.76 |              0.14 |               0.44 |               0.12 |                0.28 |\n",
      "| ('X14', 'Grass')              |            0.54 |             0.78 |              0.71 |               0.26 |              0.47 |               0.6  |               0.36 |                0.46 |\n",
      "| ('X14', 'Shrub-Tree')         |            0.45 |             0.69 |              0.73 |               0.3  |              0.44 |               0.66 |               0.39 |                0.58 |\n",
      "| ('X14', 'Shrub-Tree-Grass')   |            0.45 |             0.74 |              0.72 |               0.24 |              0.44 |               0.62 |               0.36 |                0.49 |\n",
      "| ('X144', 'Grass')             |            0.44 |             0.72 |              0.79 |               0.15 |              0.33 |               0.58 |               0.29 |                0.45 |\n",
      "| ('X144', 'Shrub-Tree')        |            0.65 |             0.82 |              0.75 |               0.5  |              0.3  |               0.51 |               0.32 |                0.46 |\n",
      "| ('X144', 'Shrub-Tree-Grass')  |            0.58 |             0.76 |              0.69 |               0.34 |              0.34 |               0.5  |               0.32 |                0.4  |\n",
      "| ('X145', 'Grass')             |            0.58 |             0.21 |              0.67 |               0.19 |              0.1  |               0.19 |               0.05 |                0.1  |\n",
      "| ('X145', 'Shrub-Tree')        |            0.78 |             0.61 |              0.76 |               0.5  |              0.37 |               0.47 |               0.38 |                0.47 |\n",
      "| ('X145', 'Shrub-Tree-Grass')  |            0.76 |             0.57 |              0.73 |               0.42 |              0.15 |               0.22 |               0.18 |                0.24 |\n",
      "| ('X146', 'Grass')             |            0.64 |             0.31 |              0.54 |               0.88 |              0.43 |               0.54 |               0.43 |                0.5  |\n",
      "| ('X146', 'Shrub-Tree')        |            0.72 |             0.36 |              0.53 |               0.92 |              0.45 |               0.67 |               0.33 |                0.48 |\n",
      "| ('X146', 'Shrub-Tree-Grass')  |            0.68 |             0.37 |              0.57 |               0.94 |              0.48 |               0.64 |               0.36 |                0.45 |\n",
      "| ('X15', 'Grass')              |            0.45 |             0.7  |              0.73 |               0.21 |              0.39 |               0.55 |               0.36 |                0.44 |\n",
      "| ('X15', 'Shrub-Tree')         |            0.59 |             0.83 |              0.77 |               0.34 |              0.4  |               0.53 |               0.34 |                0.43 |\n",
      "| ('X15', 'Shrub-Tree-Grass')   |            0.6  |             0.81 |              0.75 |               0.36 |              0.43 |               0.55 |               0.38 |                0.44 |\n",
      "| ('X163', 'Grass')             |            0.48 |             0.19 |              0.63 |               0.17 |              0.22 |               0.33 |               0.2  |                0.25 |\n",
      "| ('X163', 'Shrub-Tree')        |            0.86 |             0.76 |              0.8  |               0.6  |              0.32 |               0.38 |               0.2  |                0.22 |\n",
      "| ('X163', 'Shrub-Tree-Grass')  |            0.73 |             0.58 |              0.7  |               0.42 |              0.28 |               0.41 |               0.17 |                0.23 |\n",
      "| ('X169', 'Grass')             |            0.71 |             0.39 |              0.36 |               0.84 |              0.31 |               0.57 |               0.27 |                0.44 |\n",
      "| ('X169', 'Shrub-Tree')        |            0.92 |             0.81 |              0.73 |               0.96 |              0.71 |               0.81 |               0.67 |                0.73 |\n",
      "| ('X169', 'Shrub-Tree-Grass')  |            0.83 |             0.71 |              0.62 |               0.9  |              0.56 |               0.71 |               0.5  |                0.6  |\n",
      "| ('X18', 'Grass')              |            0.74 |             0.52 |              0.5  |               0.9  |              0.33 |               0.37 |               0.15 |                0.18 |\n",
      "| ('X18', 'Shrub-Tree')         |            0.57 |             0.39 |              0.41 |               0.89 |              0.37 |               0.62 |               0.39 |                0.52 |\n",
      "| ('X18', 'Shrub-Tree-Grass')   |            0.72 |             0.54 |              0.48 |               0.91 |              0.4  |               0.64 |               0.39 |                0.56 |\n",
      "| ('X21', 'Grass')              |            0.42 |             0.73 |              0.74 |               0.31 |              0.02 |               0.02 |               0.01 |                0.01 |\n",
      "| ('X21', 'Shrub-Tree')         |            0.19 |             0.6  |              0.67 |               0.1  |              0.02 |               0.1  |               0.01 |                0.03 |\n",
      "| ('X21', 'Shrub-Tree-Grass')   |            0.28 |             0.75 |              0.68 |               0.28 |              0.06 |               0.13 |               0.02 |                0.04 |\n",
      "| ('X223', 'Grass')             |            0.48 |             0.78 |              0.48 |               0.92 |              0.36 |               0.56 |               0.27 |                0.43 |\n",
      "| ('X223', 'Shrub-Tree')        |            0.6  |             0.77 |              0.51 |               0.91 |              0.43 |               0.6  |               0.36 |                0.48 |\n",
      "| ('X223', 'Shrub-Tree-Grass')  |            0.62 |             0.83 |              0.55 |               0.94 |              0.43 |               0.61 |               0.32 |                0.47 |\n",
      "| ('X224', 'Grass')             |            0.18 |             0.63 |              0.71 |               0.14 |              0.22 |               0.53 |               0.15 |                0.33 |\n",
      "| ('X224', 'Shrub-Tree')        |            0.42 |             0.65 |              0.81 |               0.27 |              0.54 |               0.66 |               0.51 |                0.58 |\n",
      "| ('X224', 'Shrub-Tree-Grass')  |            0.39 |             0.72 |              0.75 |               0.3  |              0.39 |               0.65 |               0.33 |                0.56 |\n",
      "| ('X237', 'Grass')             |            0.74 |             0.26 |              0.25 |               0.87 |              0.23 |               0.53 |               0.17 |                0.39 |\n",
      "| ('X237', 'Shrub-Tree')        |            0.66 |             0.35 |              0.46 |               0.94 |              0.4  |               0.65 |               0.38 |                0.55 |\n",
      "| ('X237', 'Shrub-Tree-Grass')  |            0.7  |             0.45 |              0.44 |               0.93 |              0.38 |               0.64 |               0.34 |                0.54 |\n",
      "| ('X26', 'Grass')              |            0.37 |             0.61 |              0.3  |               0.89 |              0.15 |               0.19 |               0.15 |                0.16 |\n",
      "| ('X26', 'Shrub-Tree')         |            0.52 |             0.8  |              0.44 |               0.87 |              0.39 |               0.64 |               0.33 |                0.52 |\n",
      "| ('X26', 'Shrub-Tree-Grass')   |            0.53 |             0.81 |              0.45 |               0.87 |              0.42 |               0.65 |               0.34 |                0.53 |\n",
      "| ('X27', 'Grass')              |            0.4  |             0.66 |              0.36 |               0.89 |              0.28 |               0.51 |               0.22 |                0.41 |\n",
      "| ('X27', 'Shrub-Tree')         |            0.61 |             0.86 |              0.52 |               0.94 |              0.37 |               0.56 |               0.32 |                0.44 |\n",
      "| ('X27', 'Shrub-Tree-Grass')   |            0.58 |             0.84 |              0.48 |               0.94 |              0.29 |               0.5  |               0.24 |                0.38 |\n",
      "| ('X281', 'Grass')             |            0.28 |             0.72 |              0.73 |               0.08 |              0.26 |               0.53 |               0.2  |                0.38 |\n",
      "| ('X281', 'Shrub-Tree')        |            0.44 |             0.67 |              0.7  |               0.3  |              0.34 |               0.55 |               0.29 |                0.43 |\n",
      "| ('X281', 'Shrub-Tree-Grass')  |            0.33 |             0.76 |              0.75 |               0.18 |              0.28 |               0.58 |               0.25 |                0.44 |\n",
      "| ('X282', 'Grass')             |            0.54 |             0.12 |              0.28 |               0.87 |              0.32 |               0.57 |               0.28 |                0.42 |\n",
      "| ('X282', 'Shrub-Tree')        |            0.61 |             0.36 |              0.46 |               0.9  |              0.44 |               0.63 |               0.39 |                0.53 |\n",
      "| ('X282', 'Shrub-Tree-Grass')  |            0.55 |             0.24 |              0.34 |               0.91 |              0.36 |               0.57 |               0.32 |                0.43 |\n",
      "| ('X289', 'Grass')             |            0.32 |             0.63 |              0.76 |               0.17 |              0.22 |               0.53 |               0.18 |                0.4  |\n",
      "| ('X289', 'Shrub-Tree')        |            0.63 |             0.78 |              0.77 |               0.39 |              0.37 |               0.62 |               0.33 |                0.48 |\n",
      "| ('X289', 'Shrub-Tree-Grass')  |            0.53 |             0.75 |              0.75 |               0.31 |              0.27 |               0.53 |               0.24 |                0.41 |\n",
      "| ('X3112', 'Grass')            |            0.46 |             0.64 |              0.45 |               0.85 |              0.45 |               0.61 |               0.4  |                0.47 |\n",
      "| ('X3112', 'Shrub-Tree')       |            0.76 |             0.84 |              0.67 |               0.9  |              0.61 |               0.73 |               0.55 |                0.63 |\n",
      "| ('X3112', 'Shrub-Tree-Grass') |            0.7  |             0.82 |              0.61 |               0.9  |              0.59 |               0.74 |               0.53 |                0.61 |\n",
      "| ('X3113', 'Grass')            |            0.39 |             0.58 |              0.53 |               0.18 |              0.42 |               0.58 |               0.35 |                0.44 |\n",
      "| ('X3113', 'Shrub-Tree')       |            0.76 |             0.85 |              0.77 |               0.58 |              0.61 |               0.74 |               0.57 |                0.64 |\n",
      "| ('X3113', 'Shrub-Tree-Grass') |            0.65 |             0.8  |              0.61 |               0.36 |              0.55 |               0.71 |               0.5  |                0.59 |\n",
      "| ('X3114', 'Grass')            |            0.46 |             0.16 |              0.56 |               0.15 |              0.37 |               0.57 |               0.35 |                0.44 |\n",
      "| ('X3114', 'Shrub-Tree')       |            0.81 |             0.7  |              0.76 |               0.55 |              0.6  |               0.75 |               0.55 |                0.65 |\n",
      "| ('X3114', 'Shrub-Tree-Grass') |            0.72 |             0.56 |              0.67 |               0.42 |              0.56 |               0.74 |               0.52 |                0.63 |\n",
      "| ('X3120', 'Grass')            |            0.49 |             0.71 |              0.74 |               0.32 |              0.51 |               0.64 |               0.47 |                0.56 |\n",
      "| ('X3120', 'Shrub-Tree')       |            0.4  |             0.71 |              0.73 |               0.2  |              0.18 |               0.31 |               0.15 |                0.24 |\n",
      "| ('X3120', 'Shrub-Tree-Grass') |            0.5  |             0.74 |              0.75 |               0.38 |              0.3  |               0.44 |               0.27 |                0.37 |\n",
      "| ('X4', 'Grass')               |            0.69 |             0.43 |              0.57 |               0.92 |              0.47 |               0.61 |               0.44 |                0.52 |\n",
      "| ('X4', 'Shrub-Tree')          |            0.74 |             0.51 |              0.63 |               0.95 |              0.62 |               0.82 |               0.6  |                0.74 |\n",
      "| ('X4', 'Shrub-Tree-Grass')    |            0.72 |             0.51 |              0.67 |               0.97 |              0.66 |               0.78 |               0.62 |                0.7  |\n",
      "| ('X46', 'Grass')              |            0.66 |             0.21 |              0.72 |               0.15 |              0.19 |               0.41 |               0.11 |                0.21 |\n",
      "| ('X46', 'Shrub-Tree')         |            0.74 |             0.35 |              0.84 |               0.37 |              0.41 |               0.57 |               0.32 |                0.47 |\n",
      "| ('X46', 'Shrub-Tree-Grass')   |            0.65 |             0.26 |              0.74 |               0.27 |              0.33 |               0.5  |               0.24 |                0.36 |\n",
      "| ('X47', 'Grass')              |            0.7  |             0.31 |              0.76 |               0.31 |              0.52 |               0.71 |               0.49 |                0.65 |\n",
      "| ('X47', 'Shrub-Tree')         |            0.56 |             0.22 |              0.75 |               0.2  |              0.37 |               0.69 |               0.33 |                0.59 |\n",
      "| ('X47', 'Shrub-Tree-Grass')   |            0.69 |             0.42 |              0.77 |               0.35 |              0.52 |               0.74 |               0.47 |                0.66 |\n",
      "| ('X50', 'Grass')              |            0.45 |             0.74 |              0.46 |               0.91 |              0.39 |               0.5  |               0.24 |                0.27 |\n",
      "| ('X50', 'Shrub-Tree')         |            0.75 |             0.86 |              0.73 |               0.95 |              0.59 |               0.7  |               0.41 |                0.48 |\n",
      "| ('X50', 'Shrub-Tree-Grass')   |            0.65 |             0.85 |              0.66 |               0.95 |              0.6  |               0.73 |               0.51 |                0.6  |\n",
      "| ('X55', 'Grass')              |            0.42 |             0.63 |              0.35 |               0.83 |              0.33 |               0.54 |               0.3  |                0.41 |\n",
      "| ('X55', 'Shrub-Tree')         |            0.79 |             0.87 |              0.69 |               0.93 |              0.64 |               0.78 |               0.6  |                0.71 |\n",
      "| ('X55', 'Shrub-Tree-Grass')   |            0.7  |             0.83 |              0.59 |               0.9  |              0.55 |               0.74 |               0.51 |                0.64 |\n",
      "| ('X6', 'Grass')               |            0.74 |             0.53 |              0.56 |               0.91 |              0.18 |               0.28 |               0.11 |                0.16 |\n",
      "| ('X6', 'Shrub-Tree')          |            0.8  |             0.67 |              0.72 |               0.95 |              0.33 |               0.37 |               0.31 |                0.34 |\n",
      "| ('X6', 'Shrub-Tree-Grass')    |            0.82 |             0.71 |              0.68 |               0.95 |              0.24 |               0.28 |               0.23 |                0.26 |\n",
      "| ('X78', 'Grass')              |            0.65 |             0.39 |              0.47 |               0.7  |              0.4  |               0.45 |               0.39 |                0.37 |\n",
      "| ('X78', 'Shrub-Tree')         |            0.91 |             0.81 |              0.76 |               0.96 |              0.7  |               0.8  |               0.67 |                0.74 |\n",
      "| ('X78', 'Shrub-Tree-Grass')   |            0.83 |             0.71 |              0.67 |               0.96 |              0.6  |               0.74 |               0.59 |                0.68 |\n",
      "| ('X95', 'Grass')              |            0.38 |             0.65 |              0.27 |               0.83 |              0.16 |               0.4  |               0.15 |                0.3  |\n",
      "| ('X95', 'Shrub-Tree')         |            0.59 |             0.77 |              0.46 |               0.88 |              0.35 |               0.52 |               0.32 |                0.45 |\n",
      "| ('X95', 'Shrub-Tree-Grass')   |            0.5  |             0.71 |              0.38 |               0.88 |              0.25 |               0.48 |               0.2  |                0.38 |\n"
     ]
    }
   ],
   "source": [
    "print(corr_table.round(2).to_markdown())"
   ]
  },
  {
   "cell_type": "code",
   "execution_count": 33,
   "metadata": {},
   "outputs": [
    {
     "name": "stdout",
     "output_type": "stream",
     "text": [
      "\\begin{tabular}{llrrrrrrrr}\n",
      " &  & \\multicolumn{2}{r}{2} & \\multicolumn{2}{r}{0.5} & \\multicolumn{2}{r}{0.2} & \\multicolumn{2}{r}{0.01} \\\\\n",
      " &  & GBIF & sPlot & GBIF & sPlot & GBIF & sPlot & GBIF & sPlot \\\\\n",
      "\\multirow[c]{3}{*}{X1080} & Grass & 0.510000 & 0.710000 & 0.480000 & 0.820000 & 0.430000 & 0.570000 & 0.360000 & 0.440000 \\\\\n",
      " & Shrub-Tree & 0.390000 & 0.630000 & 0.390000 & 0.830000 & 0.370000 & 0.580000 & 0.320000 & 0.460000 \\\\\n",
      " & Shrub-Tree-Grass & 0.600000 & 0.770000 & 0.570000 & 0.850000 & 0.510000 & 0.640000 & 0.440000 & 0.530000 \\\\\n",
      "\\multirow[c]{3}{*}{X11} & Grass & 0.520000 & 0.740000 & 0.770000 & 0.350000 & 0.550000 & 0.670000 & 0.530000 & 0.570000 \\\\\n",
      " & Shrub-Tree & 0.650000 & 0.790000 & 0.780000 & 0.460000 & 0.500000 & 0.640000 & 0.370000 & 0.540000 \\\\\n",
      " & Shrub-Tree-Grass & 0.600000 & 0.800000 & 0.800000 & 0.410000 & 0.500000 & 0.640000 & 0.430000 & 0.550000 \\\\\n",
      "\\multirow[c]{3}{*}{X13} & Grass & 0.530000 & 0.150000 & 0.630000 & 0.110000 & 0.260000 & 0.410000 & 0.230000 & 0.340000 \\\\\n",
      " & Shrub-Tree & 0.790000 & 0.510000 & 0.750000 & 0.450000 & 0.520000 & 0.720000 & 0.530000 & 0.680000 \\\\\n",
      " & Shrub-Tree-Grass & 0.580000 & 0.330000 & 0.630000 & 0.250000 & 0.410000 & 0.620000 & 0.400000 & 0.550000 \\\\\n",
      "\\multirow[c]{3}{*}{X138} & Grass & 0.170000 & 0.550000 & 0.160000 & 0.730000 & 0.170000 & 0.430000 & 0.130000 & 0.250000 \\\\\n",
      " & Shrub-Tree & 0.090000 & 0.420000 & 0.190000 & 0.690000 & 0.190000 & 0.400000 & 0.170000 & 0.290000 \\\\\n",
      " & Shrub-Tree-Grass & 0.130000 & 0.620000 & 0.140000 & 0.760000 & 0.140000 & 0.440000 & 0.120000 & 0.280000 \\\\\n",
      "\\multirow[c]{3}{*}{X14} & Grass & 0.540000 & 0.780000 & 0.710000 & 0.260000 & 0.470000 & 0.600000 & 0.360000 & 0.460000 \\\\\n",
      " & Shrub-Tree & 0.450000 & 0.690000 & 0.730000 & 0.300000 & 0.440000 & 0.660000 & 0.390000 & 0.580000 \\\\\n",
      " & Shrub-Tree-Grass & 0.450000 & 0.740000 & 0.720000 & 0.240000 & 0.440000 & 0.620000 & 0.360000 & 0.490000 \\\\\n",
      "\\multirow[c]{3}{*}{X144} & Grass & 0.440000 & 0.720000 & 0.790000 & 0.150000 & 0.330000 & 0.580000 & 0.290000 & 0.450000 \\\\\n",
      " & Shrub-Tree & 0.650000 & 0.820000 & 0.750000 & 0.500000 & 0.300000 & 0.510000 & 0.320000 & 0.460000 \\\\\n",
      " & Shrub-Tree-Grass & 0.580000 & 0.760000 & 0.690000 & 0.340000 & 0.340000 & 0.500000 & 0.320000 & 0.400000 \\\\\n",
      "\\multirow[c]{3}{*}{X145} & Grass & 0.580000 & 0.210000 & 0.670000 & 0.190000 & 0.100000 & 0.190000 & 0.050000 & 0.100000 \\\\\n",
      " & Shrub-Tree & 0.780000 & 0.610000 & 0.760000 & 0.500000 & 0.370000 & 0.470000 & 0.380000 & 0.470000 \\\\\n",
      " & Shrub-Tree-Grass & 0.760000 & 0.570000 & 0.730000 & 0.420000 & 0.150000 & 0.220000 & 0.180000 & 0.240000 \\\\\n",
      "\\multirow[c]{3}{*}{X146} & Grass & 0.640000 & 0.310000 & 0.540000 & 0.880000 & 0.430000 & 0.540000 & 0.430000 & 0.500000 \\\\\n",
      " & Shrub-Tree & 0.720000 & 0.360000 & 0.530000 & 0.920000 & 0.450000 & 0.670000 & 0.330000 & 0.480000 \\\\\n",
      " & Shrub-Tree-Grass & 0.680000 & 0.370000 & 0.570000 & 0.940000 & 0.480000 & 0.640000 & 0.360000 & 0.450000 \\\\\n",
      "\\multirow[c]{3}{*}{X15} & Grass & 0.450000 & 0.700000 & 0.730000 & 0.210000 & 0.390000 & 0.550000 & 0.360000 & 0.440000 \\\\\n",
      " & Shrub-Tree & 0.590000 & 0.830000 & 0.770000 & 0.340000 & 0.400000 & 0.530000 & 0.340000 & 0.430000 \\\\\n",
      " & Shrub-Tree-Grass & 0.600000 & 0.810000 & 0.750000 & 0.360000 & 0.430000 & 0.550000 & 0.380000 & 0.440000 \\\\\n",
      "\\multirow[c]{3}{*}{X163} & Grass & 0.480000 & 0.190000 & 0.630000 & 0.170000 & 0.220000 & 0.330000 & 0.200000 & 0.250000 \\\\\n",
      " & Shrub-Tree & 0.860000 & 0.760000 & 0.800000 & 0.600000 & 0.320000 & 0.380000 & 0.200000 & 0.220000 \\\\\n",
      " & Shrub-Tree-Grass & 0.730000 & 0.580000 & 0.700000 & 0.420000 & 0.280000 & 0.410000 & 0.170000 & 0.230000 \\\\\n",
      "\\multirow[c]{3}{*}{X169} & Grass & 0.710000 & 0.390000 & 0.360000 & 0.840000 & 0.310000 & 0.570000 & 0.270000 & 0.440000 \\\\\n",
      " & Shrub-Tree & 0.920000 & 0.810000 & 0.730000 & 0.960000 & 0.710000 & 0.810000 & 0.670000 & 0.730000 \\\\\n",
      " & Shrub-Tree-Grass & 0.830000 & 0.710000 & 0.620000 & 0.900000 & 0.560000 & 0.710000 & 0.500000 & 0.600000 \\\\\n",
      "\\multirow[c]{3}{*}{X18} & Grass & 0.740000 & 0.520000 & 0.500000 & 0.900000 & 0.330000 & 0.370000 & 0.150000 & 0.180000 \\\\\n",
      " & Shrub-Tree & 0.570000 & 0.390000 & 0.410000 & 0.890000 & 0.370000 & 0.620000 & 0.390000 & 0.520000 \\\\\n",
      " & Shrub-Tree-Grass & 0.720000 & 0.540000 & 0.480000 & 0.910000 & 0.400000 & 0.640000 & 0.390000 & 0.560000 \\\\\n",
      "\\multirow[c]{3}{*}{X21} & Grass & 0.420000 & 0.730000 & 0.740000 & 0.310000 & 0.020000 & 0.020000 & 0.010000 & 0.010000 \\\\\n",
      " & Shrub-Tree & 0.190000 & 0.600000 & 0.670000 & 0.100000 & 0.020000 & 0.100000 & 0.010000 & 0.030000 \\\\\n",
      " & Shrub-Tree-Grass & 0.280000 & 0.750000 & 0.680000 & 0.280000 & 0.060000 & 0.130000 & 0.020000 & 0.040000 \\\\\n",
      "\\multirow[c]{3}{*}{X223} & Grass & 0.480000 & 0.780000 & 0.480000 & 0.920000 & 0.360000 & 0.560000 & 0.270000 & 0.430000 \\\\\n",
      " & Shrub-Tree & 0.600000 & 0.770000 & 0.510000 & 0.910000 & 0.430000 & 0.600000 & 0.360000 & 0.480000 \\\\\n",
      " & Shrub-Tree-Grass & 0.620000 & 0.830000 & 0.550000 & 0.940000 & 0.430000 & 0.610000 & 0.320000 & 0.470000 \\\\\n",
      "\\multirow[c]{3}{*}{X224} & Grass & 0.180000 & 0.630000 & 0.710000 & 0.140000 & 0.220000 & 0.530000 & 0.150000 & 0.330000 \\\\\n",
      " & Shrub-Tree & 0.420000 & 0.650000 & 0.810000 & 0.270000 & 0.540000 & 0.660000 & 0.510000 & 0.580000 \\\\\n",
      " & Shrub-Tree-Grass & 0.390000 & 0.720000 & 0.750000 & 0.300000 & 0.390000 & 0.650000 & 0.330000 & 0.560000 \\\\\n",
      "\\multirow[c]{3}{*}{X237} & Grass & 0.740000 & 0.260000 & 0.250000 & 0.870000 & 0.230000 & 0.530000 & 0.170000 & 0.390000 \\\\\n",
      " & Shrub-Tree & 0.660000 & 0.350000 & 0.460000 & 0.940000 & 0.400000 & 0.650000 & 0.380000 & 0.550000 \\\\\n",
      " & Shrub-Tree-Grass & 0.700000 & 0.450000 & 0.440000 & 0.930000 & 0.380000 & 0.640000 & 0.340000 & 0.540000 \\\\\n",
      "\\multirow[c]{3}{*}{X26} & Grass & 0.370000 & 0.610000 & 0.300000 & 0.890000 & 0.150000 & 0.190000 & 0.150000 & 0.160000 \\\\\n",
      " & Shrub-Tree & 0.520000 & 0.800000 & 0.440000 & 0.870000 & 0.390000 & 0.640000 & 0.330000 & 0.520000 \\\\\n",
      " & Shrub-Tree-Grass & 0.530000 & 0.810000 & 0.450000 & 0.870000 & 0.420000 & 0.650000 & 0.340000 & 0.530000 \\\\\n",
      "\\multirow[c]{3}{*}{X27} & Grass & 0.400000 & 0.660000 & 0.360000 & 0.890000 & 0.280000 & 0.510000 & 0.220000 & 0.410000 \\\\\n",
      " & Shrub-Tree & 0.610000 & 0.860000 & 0.520000 & 0.940000 & 0.370000 & 0.560000 & 0.320000 & 0.440000 \\\\\n",
      " & Shrub-Tree-Grass & 0.580000 & 0.840000 & 0.480000 & 0.940000 & 0.290000 & 0.500000 & 0.240000 & 0.380000 \\\\\n",
      "\\multirow[c]{3}{*}{X281} & Grass & 0.280000 & 0.720000 & 0.730000 & 0.080000 & 0.260000 & 0.530000 & 0.200000 & 0.380000 \\\\\n",
      " & Shrub-Tree & 0.440000 & 0.670000 & 0.700000 & 0.300000 & 0.340000 & 0.550000 & 0.290000 & 0.430000 \\\\\n",
      " & Shrub-Tree-Grass & 0.330000 & 0.760000 & 0.750000 & 0.180000 & 0.280000 & 0.580000 & 0.250000 & 0.440000 \\\\\n",
      "\\multirow[c]{3}{*}{X282} & Grass & 0.540000 & 0.120000 & 0.280000 & 0.870000 & 0.320000 & 0.570000 & 0.280000 & 0.420000 \\\\\n",
      " & Shrub-Tree & 0.610000 & 0.360000 & 0.460000 & 0.900000 & 0.440000 & 0.630000 & 0.390000 & 0.530000 \\\\\n",
      " & Shrub-Tree-Grass & 0.550000 & 0.240000 & 0.340000 & 0.910000 & 0.360000 & 0.570000 & 0.320000 & 0.430000 \\\\\n",
      "\\multirow[c]{3}{*}{X289} & Grass & 0.320000 & 0.630000 & 0.760000 & 0.170000 & 0.220000 & 0.530000 & 0.180000 & 0.400000 \\\\\n",
      " & Shrub-Tree & 0.630000 & 0.780000 & 0.770000 & 0.390000 & 0.370000 & 0.620000 & 0.330000 & 0.480000 \\\\\n",
      " & Shrub-Tree-Grass & 0.530000 & 0.750000 & 0.750000 & 0.310000 & 0.270000 & 0.530000 & 0.240000 & 0.410000 \\\\\n",
      "\\multirow[c]{3}{*}{X3112} & Grass & 0.460000 & 0.640000 & 0.450000 & 0.850000 & 0.450000 & 0.610000 & 0.400000 & 0.470000 \\\\\n",
      " & Shrub-Tree & 0.760000 & 0.840000 & 0.670000 & 0.900000 & 0.610000 & 0.730000 & 0.550000 & 0.630000 \\\\\n",
      " & Shrub-Tree-Grass & 0.700000 & 0.820000 & 0.610000 & 0.900000 & 0.590000 & 0.740000 & 0.530000 & 0.610000 \\\\\n",
      "\\multirow[c]{3}{*}{X3113} & Grass & 0.390000 & 0.580000 & 0.530000 & 0.180000 & 0.420000 & 0.580000 & 0.350000 & 0.440000 \\\\\n",
      " & Shrub-Tree & 0.760000 & 0.850000 & 0.770000 & 0.580000 & 0.610000 & 0.740000 & 0.570000 & 0.640000 \\\\\n",
      " & Shrub-Tree-Grass & 0.650000 & 0.800000 & 0.610000 & 0.360000 & 0.550000 & 0.710000 & 0.500000 & 0.590000 \\\\\n",
      "\\multirow[c]{3}{*}{X3114} & Grass & 0.460000 & 0.160000 & 0.560000 & 0.150000 & 0.370000 & 0.570000 & 0.350000 & 0.440000 \\\\\n",
      " & Shrub-Tree & 0.810000 & 0.700000 & 0.760000 & 0.550000 & 0.600000 & 0.750000 & 0.550000 & 0.650000 \\\\\n",
      " & Shrub-Tree-Grass & 0.720000 & 0.560000 & 0.670000 & 0.420000 & 0.560000 & 0.740000 & 0.520000 & 0.630000 \\\\\n",
      "\\multirow[c]{3}{*}{X3120} & Grass & 0.490000 & 0.710000 & 0.740000 & 0.320000 & 0.510000 & 0.640000 & 0.470000 & 0.560000 \\\\\n",
      " & Shrub-Tree & 0.400000 & 0.710000 & 0.730000 & 0.200000 & 0.180000 & 0.310000 & 0.150000 & 0.240000 \\\\\n",
      " & Shrub-Tree-Grass & 0.500000 & 0.740000 & 0.750000 & 0.380000 & 0.300000 & 0.440000 & 0.270000 & 0.370000 \\\\\n",
      "\\multirow[c]{3}{*}{X4} & Grass & 0.690000 & 0.430000 & 0.570000 & 0.920000 & 0.470000 & 0.610000 & 0.440000 & 0.520000 \\\\\n",
      " & Shrub-Tree & 0.740000 & 0.510000 & 0.630000 & 0.950000 & 0.620000 & 0.820000 & 0.600000 & 0.740000 \\\\\n",
      " & Shrub-Tree-Grass & 0.720000 & 0.510000 & 0.670000 & 0.970000 & 0.660000 & 0.780000 & 0.620000 & 0.700000 \\\\\n",
      "\\multirow[c]{3}{*}{X46} & Grass & 0.660000 & 0.210000 & 0.720000 & 0.150000 & 0.190000 & 0.410000 & 0.110000 & 0.210000 \\\\\n",
      " & Shrub-Tree & 0.740000 & 0.350000 & 0.840000 & 0.370000 & 0.410000 & 0.570000 & 0.320000 & 0.470000 \\\\\n",
      " & Shrub-Tree-Grass & 0.650000 & 0.260000 & 0.740000 & 0.270000 & 0.330000 & 0.500000 & 0.240000 & 0.360000 \\\\\n",
      "\\multirow[c]{3}{*}{X47} & Grass & 0.700000 & 0.310000 & 0.760000 & 0.310000 & 0.520000 & 0.710000 & 0.490000 & 0.650000 \\\\\n",
      " & Shrub-Tree & 0.560000 & 0.220000 & 0.750000 & 0.200000 & 0.370000 & 0.690000 & 0.330000 & 0.590000 \\\\\n",
      " & Shrub-Tree-Grass & 0.690000 & 0.420000 & 0.770000 & 0.350000 & 0.520000 & 0.740000 & 0.470000 & 0.660000 \\\\\n",
      "\\multirow[c]{3}{*}{X50} & Grass & 0.450000 & 0.740000 & 0.460000 & 0.910000 & 0.390000 & 0.500000 & 0.240000 & 0.270000 \\\\\n",
      " & Shrub-Tree & 0.750000 & 0.860000 & 0.730000 & 0.950000 & 0.590000 & 0.700000 & 0.410000 & 0.480000 \\\\\n",
      " & Shrub-Tree-Grass & 0.650000 & 0.850000 & 0.660000 & 0.950000 & 0.600000 & 0.730000 & 0.510000 & 0.600000 \\\\\n",
      "\\multirow[c]{3}{*}{X55} & Grass & 0.420000 & 0.630000 & 0.350000 & 0.830000 & 0.330000 & 0.540000 & 0.300000 & 0.410000 \\\\\n",
      " & Shrub-Tree & 0.790000 & 0.870000 & 0.690000 & 0.930000 & 0.640000 & 0.780000 & 0.600000 & 0.710000 \\\\\n",
      " & Shrub-Tree-Grass & 0.700000 & 0.830000 & 0.590000 & 0.900000 & 0.550000 & 0.740000 & 0.510000 & 0.640000 \\\\\n",
      "\\multirow[c]{3}{*}{X6} & Grass & 0.740000 & 0.530000 & 0.560000 & 0.910000 & 0.180000 & 0.280000 & 0.110000 & 0.160000 \\\\\n",
      " & Shrub-Tree & 0.800000 & 0.670000 & 0.720000 & 0.950000 & 0.330000 & 0.370000 & 0.310000 & 0.340000 \\\\\n",
      " & Shrub-Tree-Grass & 0.820000 & 0.710000 & 0.680000 & 0.950000 & 0.240000 & 0.280000 & 0.230000 & 0.260000 \\\\\n",
      "\\multirow[c]{3}{*}{X78} & Grass & 0.650000 & 0.390000 & 0.470000 & 0.700000 & 0.400000 & 0.450000 & 0.390000 & 0.370000 \\\\\n",
      " & Shrub-Tree & 0.910000 & 0.810000 & 0.760000 & 0.960000 & 0.700000 & 0.800000 & 0.670000 & 0.740000 \\\\\n",
      " & Shrub-Tree-Grass & 0.830000 & 0.710000 & 0.670000 & 0.960000 & 0.600000 & 0.740000 & 0.590000 & 0.680000 \\\\\n",
      "\\multirow[c]{3}{*}{X95} & Grass & 0.380000 & 0.650000 & 0.270000 & 0.830000 & 0.160000 & 0.400000 & 0.150000 & 0.300000 \\\\\n",
      " & Shrub-Tree & 0.590000 & 0.770000 & 0.460000 & 0.880000 & 0.350000 & 0.520000 & 0.320000 & 0.450000 \\\\\n",
      " & Shrub-Tree-Grass & 0.500000 & 0.710000 & 0.380000 & 0.880000 & 0.250000 & 0.480000 & 0.200000 & 0.380000 \\\\\n",
      "\\end{tabular}\n",
      "\n"
     ]
    }
   ],
   "source": [
    "print(corr_table.round(2).style.to_latex())"
   ]
  },
  {
   "cell_type": "markdown",
   "metadata": {},
   "source": [
    "Pearson's correlation coefficient (r) between extrapolations and sPlotOpen grids at 0.5 degrees."
   ]
  },
  {
   "cell_type": "code",
   "execution_count": null,
   "metadata": {},
   "outputs": [],
   "source": [
    "print(corr_table.to_markdown(floatfmt=\".3f\"))"
   ]
  }
 ],
 "metadata": {
  "kernelspec": {
   "display_name": "traits",
   "language": "python",
   "name": "python3"
  },
  "language_info": {
   "codemirror_mode": {
    "name": "ipython",
    "version": 3
   },
   "file_extension": ".py",
   "mimetype": "text/x-python",
   "name": "python",
   "nbconvert_exporter": "python",
   "pygments_lexer": "ipython3",
   "version": "3.9.16"
  }
 },
 "nbformat": 4,
 "nbformat_minor": 2
}
