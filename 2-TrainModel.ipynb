{
 "cells": [
  {
   "attachments": {},
   "cell_type": "markdown",
   "metadata": {},
   "source": [
    "# 2: Train XGBoost Model\n",
    "\n",
    "Author: Daniel Lusk"
   ]
  },
  {
   "attachments": {},
   "cell_type": "markdown",
   "metadata": {},
   "source": [
    "## Imports and configuration"
   ]
  },
  {
   "cell_type": "code",
   "execution_count": 55,
   "metadata": {},
   "outputs": [
    {
     "name": "stdout",
     "output_type": "stream",
     "text": [
      "The autoreload extension is already loaded. To reload it, use:\n",
      "  %reload_ext autoreload\n"
     ]
    }
   ],
   "source": [
    "import geopandas as gpd\n",
    "import numpy as np\n",
    "import spacv\n",
    "import xgboost as xgb\n",
    "\n",
    "from sklearn.model_selection import GridSearchCV\n",
    "from sklearn.metrics import mean_squared_error\n",
    "from spacv.visualisation import plot_autocorrelation_ranges\n",
    "from TrainModelConfig import TrainModelConfig\n",
    "from utils.data_retrieval import all_gdfs\n",
    "from utils.geodata import drop_XY_NAs, merge_gdfs\n",
    "from utils.LogFormatter import get_logger\n",
    "from utils.visualize import plot_splits\n",
    "\n",
    "%load_ext autoreload\n",
    "%autoreload 2\n",
    "\n",
    "config = TrainModelConfig()"
   ]
  },
  {
   "attachments": {},
   "cell_type": "markdown",
   "metadata": {},
   "source": [
    "## Load data"
   ]
  },
  {
   "cell_type": "code",
   "execution_count": 2,
   "metadata": {},
   "outputs": [],
   "source": [
    "X_fns = config.WC_fns + config.MODIS_fns + config.soil_fns\n",
    "Y_fns = config.iNat_fns\n",
    "\n",
    "X = all_gdfs(X_fns)\n",
    "Y = all_gdfs(Y_fns)"
   ]
  },
  {
   "attachments": {},
   "cell_type": "markdown",
   "metadata": {},
   "source": [
    "Compute Preciptation Annual Range by subtracting BIO14 from BIO13"
   ]
  },
  {
   "cell_type": "code",
   "execution_count": 3,
   "metadata": {},
   "outputs": [],
   "source": [
    "bio_13 = X.loc[:, [\"bio_13\" in x for x in X.columns]].values\n",
    "bio_14 = X.loc[:, [\"bio_14\" in x for x in X.columns]].values\n",
    "X[\"wc2.1_10m_bio_13-14\"] = bio_13 - bio_14"
   ]
  },
  {
   "attachments": {},
   "cell_type": "markdown",
   "metadata": {},
   "source": [
    "Drop the unnecessary `x`, `y`, `band` and `spatial_ref` columns."
   ]
  },
  {
   "cell_type": "code",
   "execution_count": 4,
   "metadata": {},
   "outputs": [],
   "source": [
    "X = X.drop(columns=[\"x\", \"y\", \"band\", \"spatial_ref\"])\n",
    "Y = Y.drop(columns=[\"x\", \"y\", \"band\", \"spatial_ref\"])"
   ]
  },
  {
   "attachments": {},
   "cell_type": "markdown",
   "metadata": {},
   "source": [
    "## XGBoost"
   ]
  },
  {
   "attachments": {},
   "cell_type": "markdown",
   "metadata": {},
   "source": [
    "<div class=\"alert alert-block alert-info\">\n",
    "To-Dos:\n",
    "\n",
    "1) ~~Create a data frame where you have all response variables and predictors.~~\n",
    "2) ~~Remove cells where you do not have a value for ANY predictor/response variable (you still may have NA for some columns then).~~\n",
    "3) Train the models and do the evaluation\n",
    "4) Repeat step 3, but remove rows where you have at least one NA\n",
    "5) Compare accuracies of step 3 and 4 and see what´s best.\n",
    "</div>"
   ]
  },
  {
   "attachments": {},
   "cell_type": "markdown",
   "metadata": {},
   "source": [
    "### Combine GDFs and clean up nodata"
   ]
  },
  {
   "attachments": {},
   "cell_type": "markdown",
   "metadata": {},
   "source": [
    "Get column names for easier predictor/response variable selection."
   ]
  },
  {
   "cell_type": "code",
   "execution_count": 5,
   "metadata": {},
   "outputs": [],
   "source": [
    "X_cols = X.columns.difference([\"geometry\"])\n",
    "Y_cols = Y.columns.difference([\"geometry\"])"
   ]
  },
  {
   "attachments": {},
   "cell_type": "markdown",
   "metadata": {},
   "source": [
    "Merge X and Y GDFs"
   ]
  },
  {
   "cell_type": "code",
   "execution_count": 6,
   "metadata": {},
   "outputs": [
    {
     "name": "stdout",
     "output_type": "stream",
     "text": [
      "X shape: (259200, 129)\n",
      "Y shape: (259200, 18)\n"
     ]
    }
   ],
   "source": [
    "XY = merge_gdfs([X, Y])\n",
    "print(\"X shape:\", XY[X_cols].shape)\n",
    "print(\"Y shape:\", XY[Y_cols].shape)"
   ]
  },
  {
   "attachments": {},
   "cell_type": "markdown",
   "metadata": {},
   "source": [
    "Drop all-NA rows and columns"
   ]
  },
  {
   "cell_type": "code",
   "execution_count": 7,
   "metadata": {},
   "outputs": [
    {
     "name": "stderr",
     "output_type": "stream",
     "text": [
      "XY shape before dropping full-NA rows/cols: (259200, 148)\n",
      "XY shape after:                             (26183, 147)\n",
      "# of rows excluded: 233017 (89.90%)\n",
      "Empty columns:\n",
      "X: ['soc_60-100cm_mean_0.5_deg']\n",
      "Y: []\n"
     ]
    }
   ],
   "source": [
    "XY, X_cols, Y_cols = drop_XY_NAs(XY, X_cols, Y_cols, True)"
   ]
  },
  {
   "attachments": {},
   "cell_type": "markdown",
   "metadata": {},
   "source": [
    "### Calculate autocorrelation range of predictors and generate spatial folds for spatial cross-validation"
   ]
  },
  {
   "attachments": {},
   "cell_type": "markdown",
   "metadata": {},
   "source": [
    "#### Calculate autocorrelation ranges and use the median range as the cell size (may take a while)"
   ]
  },
  {
   "cell_type": "code",
   "execution_count": 8,
   "metadata": {},
   "outputs": [
    {
     "name": "stdout",
     "output_type": "stream",
     "text": [
      "Median range (km): 2330.63\n",
      "Median range (deg): 20.94\n"
     ]
    }
   ],
   "source": [
    "if config.SAVE_AUTOCORRELATION_RANGES:\n",
    "    coords = XY[\"geometry\"]\n",
    "    data = XY[X_cols]\n",
    "    \n",
    "    _, _, ranges = plot_autocorrelation_ranges(\n",
    "        coords, data, config.LAGS, config.BW, distance_metric=\"haversine\", workers=10\n",
    "    )\n",
    "\n",
    "    np.save(\"ranges.npy\", np.asarray(ranges))\n",
    "else:\n",
    "    ranges = np.load(\"ranges.npy\")\n",
    "\n",
    "autocorrelation_range = np.median(ranges)\n",
    "print(f\"Median range (km): {autocorrelation_range / 1000:.2f}\")\n",
    "print(f\"Median range (deg): {autocorrelation_range / config.DEGREE:.2f}\")"
   ]
  },
  {
   "attachments": {},
   "cell_type": "markdown",
   "metadata": {},
   "source": [
    "#### Explore splits for a single response variable"
   ]
  },
  {
   "cell_type": "code",
   "execution_count": 44,
   "metadata": {},
   "outputs": [
    {
     "name": "stderr",
     "output_type": "stream",
     "text": [
      "XY shape before dropping full-NA rows/cols: (26183, 130)\n",
      "XY shape after:                             (21432, 130)\n",
      "# of rows excluded: 4751 (18.15%)\n",
      "\n",
      "No columns were dropped.\n"
     ]
    },
    {
     "name": "stdout",
     "output_type": "stream",
     "text": [
      "Tile size: 20.94 degrees\n"
     ]
    },
    {
     "data": {
      "image/png": "[encoded data removed]",
      "text/plain": [
       "<Figure size 640x480 with 1 Axes>"
      ]
     },
     "metadata": {},
     "output_type": "display_data"
    }
   ],
   "source": [
    "sample_Xy = XY[[\"geometry\", *X_cols, Y_cols[3]]]\n",
    "\n",
    "# Drop full-NAs\n",
    "sample_Xy, sample_X_cols, sample_y_col = drop_XY_NAs(\n",
    "    sample_Xy, X_cols, Y_cols[3:4], True\n",
    ")\n",
    "\n",
    "# Sample X data on which split dissimilarity will be measured\n",
    "sample_data = sample_Xy[sample_X_cols]\n",
    "sample_locs = sample_Xy[\"geometry\"]\n",
    "\n",
    "# Grid settings\n",
    "tile = autocorrelation_range / config.DEGREE\n",
    "tiles_x = int(np.round(360 / tile))\n",
    "tiles_y = int(np.round(180 / tile))\n",
    "\n",
    "# Spatial blocking\n",
    "hblock = spacv.HBLOCK(\n",
    "    tiles_x,\n",
    "    tiles_y,\n",
    "    shape=\"hex\",\n",
    "    method=\"optimized_random\",\n",
    "    buffer_radius=0.5,\n",
    "    n_groups=10,\n",
    "    data=sample_data,\n",
    "    n_sims=50,\n",
    "    distance_metric=\"haversine\",\n",
    "    random_state=config.RNG_STATE,\n",
    ")\n",
    "\n",
    "# Plot splits\n",
    "print(f\"Tile size: {tile:.2f} degrees\")\n",
    "plot_splits(hblock, sample_locs)"
   ]
  },
  {
   "attachments": {},
   "cell_type": "markdown",
   "metadata": {},
   "source": [
    "### Train models for each response variable"
   ]
  },
  {
   "cell_type": "code",
   "execution_count": null,
   "metadata": {},
   "outputs": [],
   "source": [
    "logger = get_logger(\"training\")\n",
    "\n",
    "for y_col in Y_cols:\n",
    "    logger.info(f\"Proccessing {y_col}\")\n",
    "    # ----------------------------------------------------\n",
    "    # 0. Get the relevant X and y data only\n",
    "    # ----------------------------------------------------\n",
    "    Xy = XY[[\"geometry\", *X_cols, y_col]]\n",
    "\n",
    "    # ----------------------------------------------------\n",
    "    # 1. Drop lingering all-NAs\n",
    "    # ----------------------------------------------------\n",
    "    logger.info(\"Dropping NAs\")\n",
    "    Xy = drop_XY_NAs(Xy, X_cols, y_col, True)\n",
    "\n",
    "    # ----------------------------------------------------\n",
    "    # 2. Split the dataframes into X and y and get the\n",
    "    #    observation coordinates.\n",
    "    # ----------------------------------------------------\n",
    "    X = Xy[X_cols].to_numpy()\n",
    "    y = Xy[y_col].to_numpy()\n",
    "    coords = Xy[\"geometry\"]\n",
    "\n",
    "    # ----------------------------------------------------\n",
    "    # 3. Spatially block data into cells according to the\n",
    "    #    autocorrelation range and separate them into K folds\n",
    "    # ----------------------------------------------------\n",
    "    tile = autocorrelation_range / config.DEGREE\n",
    "    tiles_x = int(np.round(360 / tile))\n",
    "    tiles_y = int(np.round(180 / tile))\n",
    "\n",
    "    hblock = spacv.HBLOCK(\n",
    "        tiles_x,\n",
    "        tiles_y,\n",
    "        shape=\"hex\",\n",
    "        method=\"optimized_random\",\n",
    "        buffer_radius=0.01,\n",
    "        n_groups=10,\n",
    "        data=X,\n",
    "        n_sims=50,\n",
    "        distance_metric=\"haversine\",\n",
    "        random_state=config.RNG_STATE,\n",
    "    )\n",
    "\n",
    "    # ----------------------------------------------------\n",
    "    # 5. (Optional) Identify optimal hyperparameters with\n",
    "    #    `GridSearchCV`\n",
    "    # ----------------------------------------------------\n",
    "    if grid_search and not params:\n",
    "        raise ValueError(\"No parameters were provided for grid search.\")\n",
    "    elif grid_search:\n",
    "        logger.info(\"Optimizing hyperparameters\")\n",
    "        xgb_model = xgb.XGBRegressor(n_jobs=1)\n",
    "        reg = GridSearchCV(\n",
    "            xgb_model,\n",
    "            params,\n",
    "            verbose=1,\n",
    "            n_jobs=10,\n",
    "            cv=hblock.split(coords),\n",
    "        )\n",
    "        reg.fit(X, y)\n",
    "        best_gs_rmse = np.sqrt(reg.best_score_)\n",
    "        best_gs_rmse_norm = best_gs_rmse / (y.max() - y.min())\n",
    "        params = reg.best_params_\n",
    "\n",
    "    # ----------------------------------------------------\n",
    "    # 6. Train the model with spatial CV\n",
    "    # ----------------------------------------------------\n",
    "    if not grid_search:\n",
    "        params = {\n",
    "            \"n_estimators\": 1000,\n",
    "            \"max_depth\": 10,\n",
    "            \"learning_rate\": 0.01,\n",
    "            \"colsample_bytree\": 0.3,\n",
    "            \"random_state\": config.RNG_STATE,\n",
    "            \"n_jobs\": 1,\n",
    "        }\n",
    "\n",
    "    cv_rmses = []\n",
    "    for train_index, test_index in hblock.split(coords):\n",
    "        xgb_model = xgb.XGBRegressor(**params).fit(\n",
    "            X[train_index], y[train_index], verbose=2\n",
    "        )\n",
    "        predictions = xgb_model.predict(X[test_index])\n",
    "        actuals = y[test_index]\n",
    "        print(mean_squared_error(actuals, predictions))\n",
    "\n",
    "    # ----------------------------------------------------\n",
    "    # 7. Train the final model on all of the data (no CV) and save\n",
    "    # ----------------------------------------------------"
   ]
  },
  {
   "attachments": {},
   "cell_type": "markdown",
   "metadata": {},
   "source": [
    "### </p>5. Identify optimal parameters with `GridSearchCV`</p>"
   ]
  },
  {
   "cell_type": "code",
   "execution_count": 13,
   "metadata": {},
   "outputs": [],
   "source": [
    "X_np = X[X_cols].to_numpy()\n",
    "y_np = Y[Y_cols[0]].to_numpy()"
   ]
  },
  {
   "cell_type": "code",
   "execution_count": 30,
   "metadata": {},
   "outputs": [
    {
     "name": "stderr",
     "output_type": "stream",
     "text": [
      "XY shape before dropping full-NA rows/cols: (26183, 130)\n",
      "XY shape after:                             (12061, 130)\n",
      "# of rows excluded: 14122 (53.94%)\n",
      "\n",
      "No columns were dropped.\n"
     ]
    },
    {
     "name": "stdout",
     "output_type": "stream",
     "text": [
      "Parameter optimization\n",
      "Fitting 10 folds for each of 36 candidates, totalling 360 fits\n"
     ]
    },
    {
     "name": "stderr",
     "output_type": "stream",
     "text": [
      "/home/lusk/mambaforge/envs/traits/lib/python3.9/site-packages/joblib/externals/loky/process_executor.py:700: UserWarning: A worker stopped while some jobs were given to the executor. This can be caused by a too short worker timeout or by a memory leak.\n",
      "  warnings.warn(\n"
     ]
    },
    {
     "name": "stdout",
     "output_type": "stream",
     "text": [
      "0.22457043303341268\n",
      "{'colsample_bytree': 0.3, 'eta': 0.01, 'max_depth': 6, 'n_estimators': 1000}\n"
     ]
    }
   ],
   "source": [
    "print(\"Parameter optimization\")\n",
    "y_col = Y_cols[0]\n",
    "Xy = XY[[\"geometry\", *X_cols, y_col]]\n",
    "\n",
    "# 1. Drop lingering all-NAs\n",
    "Xy, X_y_cols, y_col = drop_XY_NAs(Xy, X_cols, y_col, True)\n",
    "\n",
    "# 2. Separate the dataframes\n",
    "X_np = Xy[X_cols].to_numpy()  # X predictor matrix matched to current response variable\n",
    "y_np = Xy[y_col].to_numpy()  # Current response variable\n",
    "coords = Xy[\"geometry\"]\n",
    "\n",
    "# 3. (SKIPPING)\n",
    "\n",
    "# 4. Spatially block data into cells according to the autocorrelation range and\n",
    "#    separate them into K folds\n",
    "tile = config.AUTOCORRELATION_RANGE / config.DEGREE\n",
    "tiles_x = int(np.round(360 / tile))\n",
    "tiles_y = int(np.round(180 / tile))\n",
    "\n",
    "hblock = spacv.HBLOCK(\n",
    "    tiles_x,\n",
    "    tiles_y,\n",
    "    shape=\"hex\",\n",
    "    method=\"optimized_random\",\n",
    "    buffer_radius=0.5,\n",
    "    n_groups=10,\n",
    "    data=X_np,\n",
    "    n_sims=50,\n",
    "    distance_metric=\"haversine\",\n",
    "    random_state=config.RNG_STATE,\n",
    ")\n",
    "\n",
    "xgb_model = xgb.XGBRegressor(n_jobs=5)\n",
    "reg = GridSearchCV(\n",
    "    xgb_model,\n",
    "    {\n",
    "        \"max_depth\": [6, 10, 15],\n",
    "        \"eta\": [0.005, 0.01],\n",
    "        \"n_estimators\": [500, 750, 1000],\n",
    "        \"colsample_bytree\": [0.3, 0.5]\n",
    "    },\n",
    "    verbose=1,\n",
    "    n_jobs=5,\n",
    "    cv=hblock.split(coords),\n",
    ")\n",
    "reg.fit(X_np, y_np)\n",
    "print(reg.best_score_)\n",
    "RMSE = np.sqrt(reg.best_score_)\n",
    "RMSE_norm = RMSE / (y_np.max() - y_np.min())\n",
    "print(reg.best_params_)"
   ]
  },
  {
   "cell_type": "code",
   "execution_count": 50,
   "metadata": {},
   "outputs": [
    {
     "data": {
      "text/plain": [
       "0.1266635449007632"
      ]
     },
     "execution_count": 50,
     "metadata": {},
     "output_type": "execute_result"
    }
   ],
   "source": [
    "clf.cv_results_[\"std_test_score\"][clf.best_index_]"
   ]
  },
  {
   "cell_type": "code",
   "execution_count": 38,
   "metadata": {},
   "outputs": [],
   "source": [
    "RMSE = np.sqrt(reg.best_score_)\n",
    "RMSE_norm = RMSE / (y_np.max() - y_np.min())"
   ]
  },
  {
   "cell_type": "code",
   "execution_count": 39,
   "metadata": {},
   "outputs": [
    {
     "data": {
      "text/plain": [
       "0.47388862935653214"
      ]
     },
     "execution_count": 39,
     "metadata": {},
     "output_type": "execute_result"
    }
   ],
   "source": [
    "RMSE"
   ]
  },
  {
   "cell_type": "code",
   "execution_count": 40,
   "metadata": {},
   "outputs": [
    {
     "data": {
      "text/plain": [
       "0.1948214744734409"
      ]
     },
     "execution_count": 40,
     "metadata": {},
     "output_type": "execute_result"
    }
   ],
   "source": [
    "RMSE_norm"
   ]
  },
  {
   "attachments": {},
   "cell_type": "markdown",
   "metadata": {},
   "source": [
    "### 5. Hyperparam optimization with ray and hyperopt"
   ]
  },
  {
   "attachments": {},
   "cell_type": "markdown",
   "metadata": {},
   "source": [
    "Set up the data and the CV folds"
   ]
  },
  {
   "cell_type": "code",
   "execution_count": 56,
   "metadata": {},
   "outputs": [
    {
     "name": "stderr",
     "output_type": "stream",
     "text": [
      "XY shape before dropping full-NA rows/cols: (26183, 130)\n",
      "XY shape after:                             (12061, 130)\n",
      "# of rows excluded: 14122 (53.94%)\n",
      "\n",
      "No columns were dropped.\n"
     ]
    }
   ],
   "source": [
    "y_col = Y_cols[0]\n",
    "Xy = XY[[\"geometry\", *X_cols, y_col]]\n",
    "\n",
    "# 1. Drop lingering all-NAs\n",
    "Xy, X_y_cols, y_col = drop_XY_NAs(Xy, X_cols, y_col, True)\n",
    "\n",
    "# 2. Separate the dataframes\n",
    "X_np = Xy[X_cols].to_numpy()  # X predictor matrix matched to current response variable\n",
    "y_np = Xy[y_col].to_numpy()  # Current response variable\n",
    "coords = Xy[\"geometry\"]\n",
    "\n",
    "# 3. (SKIPPING)\n",
    "\n",
    "# 4. Spatially block data into cells according to the autocorrelation range and\n",
    "#    separate them into K folds\n",
    "tile = config.AUTOCORRELATION_RANGE / config.DEGREE\n",
    "tiles_x = int(np.round(360 / tile))\n",
    "tiles_y = int(np.round(180 / tile))\n",
    "\n",
    "hblock = spacv.HBLOCK(\n",
    "    tiles_x,\n",
    "    tiles_y,\n",
    "    shape=\"hex\",\n",
    "    method=\"optimized_random\",\n",
    "    buffer_radius=0.5,\n",
    "    n_groups=10,\n",
    "    data=X_np,\n",
    "    n_sims=50,\n",
    "    distance_metric=\"haversine\",\n",
    "    random_state=config.RNG_STATE,\n",
    ")"
   ]
  },
  {
   "attachments": {},
   "cell_type": "markdown",
   "metadata": {},
   "source": [
    "Define the hyperparameter ranges"
   ]
  },
  {
   "cell_type": "code",
   "execution_count": 57,
   "metadata": {},
   "outputs": [
    {
     "data": {
      "text/plain": [
       "['n_estimators',\n",
       " 'max_depth',\n",
       " 'subsample',\n",
       " 'colsample_bytree',\n",
       " 'colsample_bylevel',\n",
       " 'learning_rate']"
      ]
     },
     "execution_count": 57,
     "metadata": {},
     "output_type": "execute_result"
    }
   ],
   "source": [
    "from ray import tune\n",
    "\n",
    "xgb_tune_kwargs = {\n",
    "    \"n_estimators\": tune.loguniform(100, 10000),\n",
    "    \"max_depth\": tune.randint(0, 5),\n",
    "    \"subsample\": tune.quniform(0.25, 0.75, 0.01),\n",
    "    \"colsample_bytree\": tune.quniform(0.05, 0.5, 0.01),\n",
    "    \"colsample_bylevel\": tune.quniform(0.05, 0.5, 0.01),    \n",
    "    \"learning_rate\": tune.quniform(-3.0, -1.0, 0.5),  # powers of 10\n",
    "}\n",
    "\n",
    "xgb_tune_params = [k for k in xgb_tune_kwargs.keys() if k != 'wandb']\n",
    "xgb_tune_params"
   ]
  },
  {
   "attachments": {},
   "cell_type": "markdown",
   "metadata": {},
   "source": [
    "Define the XGB regressor and objective"
   ]
  },
  {
   "cell_type": "code",
   "execution_count": 61,
   "metadata": {},
   "outputs": [],
   "source": [
    "from sklearn.model_selection import cross_val_score\n",
    "\n",
    "MEAN_RESPONSE = y_np.mean()\n",
    "\n",
    "def cv_to_raw(cv_val, mean_response=MEAN_RESPONSE):\n",
    "    \"\"\"convert log1p rmse to underlying response variable error\"\"\"\n",
    "    # MEAN_RESPONSE assumes folds have same mean response, which is true in expectation but not in each fold\n",
    "    # we can also pass the actual response for each fold\n",
    "    # but we're usually looking to consistently convert the log value to a more meaningful unit\n",
    "    return np.expm1(mean_response+cv_val) - np.expm1(mean_response)\n",
    "\n",
    "\n",
    "def my_xgb(config, X, y, cv):\n",
    "    # fix these configs to match calling convention\n",
    "    # search wants to pass in floats but xgb wants ints\n",
    "    config[\"n_estimators\"] = int(\n",
    "        config[\"n_estimators\"]\n",
    "    )  # pass float eg loguniform distribution, use int\n",
    "    # hyperopt needs left to start at 0 but we want to start at 2\n",
    "    config[\"max_depth\"] = int(config[\"max_depth\"]) + 2\n",
    "    config[\"learning_rate\"] = 10 ** config[\"learning_rate\"]\n",
    "\n",
    "    reg_model = xgb.XGBRegressor(\n",
    "        objective=\"reg:squarederror\",\n",
    "        n_jobs=1,\n",
    "        random_state=config.RNG_STATE,\n",
    "        booster=\"gbtree\",\n",
    "        scale_pos_weight=1,\n",
    "        **config,\n",
    "    )\n",
    "    scores = -cross_val_score(\n",
    "        reg_model, X, y, scoring=\"neg_root_mean_squared_error\", cv=cv\n",
    "    )\n",
    "    rmse = np.mean(scores)\n",
    "    tune.report(rmse=rmse)\n",
    "\n",
    "    return {\"rmse\": rmse}"
   ]
  },
  {
   "cell_type": "code",
   "execution_count": 62,
   "metadata": {},
   "outputs": [
    {
     "ename": "AssertionError",
     "evalue": "HyperOpt must be installed! Run `pip install hyperopt`.",
     "output_type": "error",
     "traceback": [
      "\u001b[0;31m---------------------------------------------------------------------------\u001b[0m",
      "\u001b[0;31mAssertionError\u001b[0m                            Traceback (most recent call last)",
      "Cell \u001b[0;32mIn[62], line 5\u001b[0m\n\u001b[1;32m      2\u001b[0m \u001b[39mfrom\u001b[39;00m \u001b[39mray\u001b[39;00m\u001b[39m.\u001b[39;00m\u001b[39mtune\u001b[39;00m\u001b[39m.\u001b[39;00m\u001b[39msuggest\u001b[39;00m \u001b[39mimport\u001b[39;00m ConcurrencyLimiter\n\u001b[1;32m      3\u001b[0m \u001b[39mfrom\u001b[39;00m \u001b[39mray\u001b[39;00m\u001b[39m.\u001b[39;00m\u001b[39mtune\u001b[39;00m\u001b[39m.\u001b[39;00m\u001b[39mschedulers\u001b[39;00m \u001b[39mimport\u001b[39;00m AsyncHyperBandScheduler\n\u001b[0;32m----> 5\u001b[0m algo \u001b[39m=\u001b[39m HyperOptSearch(random_state_seed\u001b[39m=\u001b[39;49mconfig\u001b[39m.\u001b[39;49mRNG_STATE)\n\u001b[1;32m      6\u001b[0m algo \u001b[39m=\u001b[39m ConcurrencyLimiter(algo, max_concurrent\u001b[39m=\u001b[39m\u001b[39m15\u001b[39m)\n\u001b[1;32m      7\u001b[0m scheduler \u001b[39m=\u001b[39m AsyncHyperBandScheduler()\n",
      "File \u001b[0;32m~/mambaforge/envs/traits/lib/python3.9/site-packages/ray/tune/search/hyperopt/hyperopt_search.py:163\u001b[0m, in \u001b[0;36mHyperOptSearch.__init__\u001b[0;34m(self, space, metric, mode, points_to_evaluate, n_initial_points, random_state_seed, gamma)\u001b[0m\n\u001b[1;32m    153\u001b[0m \u001b[39mdef\u001b[39;00m \u001b[39m__init__\u001b[39m(\n\u001b[1;32m    154\u001b[0m     \u001b[39mself\u001b[39m,\n\u001b[1;32m    155\u001b[0m     space: Optional[Dict] \u001b[39m=\u001b[39m \u001b[39mNone\u001b[39;00m,\n\u001b[0;32m   (...)\u001b[0m\n\u001b[1;32m    161\u001b[0m     gamma: \u001b[39mfloat\u001b[39m \u001b[39m=\u001b[39m \u001b[39m0.25\u001b[39m,\n\u001b[1;32m    162\u001b[0m ):\n\u001b[0;32m--> 163\u001b[0m     \u001b[39massert\u001b[39;00m (\n\u001b[1;32m    164\u001b[0m         hpo \u001b[39mis\u001b[39;00m \u001b[39mnot\u001b[39;00m \u001b[39mNone\u001b[39;00m\n\u001b[1;32m    165\u001b[0m     ), \u001b[39m\"\u001b[39m\u001b[39mHyperOpt must be installed! Run `pip install hyperopt`.\u001b[39m\u001b[39m\"\u001b[39m\n\u001b[1;32m    166\u001b[0m     \u001b[39mif\u001b[39;00m mode:\n\u001b[1;32m    167\u001b[0m         \u001b[39massert\u001b[39;00m mode \u001b[39min\u001b[39;00m [\u001b[39m\"\u001b[39m\u001b[39mmin\u001b[39m\u001b[39m\"\u001b[39m, \u001b[39m\"\u001b[39m\u001b[39mmax\u001b[39m\u001b[39m\"\u001b[39m], \u001b[39m\"\u001b[39m\u001b[39m`mode` must be \u001b[39m\u001b[39m'\u001b[39m\u001b[39mmin\u001b[39m\u001b[39m'\u001b[39m\u001b[39m or \u001b[39m\u001b[39m'\u001b[39m\u001b[39mmax\u001b[39m\u001b[39m'\u001b[39m\u001b[39m.\u001b[39m\u001b[39m\"\u001b[39m\n",
      "\u001b[0;31mAssertionError\u001b[0m: HyperOpt must be installed! Run `pip install hyperopt`."
     ]
    }
   ],
   "source": [
    "from ray.tune.search.hyperopt import HyperOptSearch\n",
    "from ray.tune.suggest import ConcurrencyLimiter\n",
    "from ray.tune.schedulers import AsyncHyperBandScheduler\n",
    "\n",
    "algo = HyperOptSearch(random_state_seed=config.RNG_STATE)\n",
    "algo = ConcurrencyLimiter(algo, max_concurrent=15)\n",
    "scheduler = AsyncHyperBandScheduler()\n",
    "\n",
    "analysis = tune.run(\n",
    "    my_xgb(xgb_tune_params, X_np, y_np, hblock.split(coords)),\n",
    "    num_samples=config.ITERATIONS,\n",
    "    config=xgb_tune_kwargs,\n",
    "    name=\"hyperopt_xgb\",\n",
    "    metric=\"rmse\",\n",
    "    mode=\"min\",\n",
    "    search_alg=algo,\n",
    "    scheduler=scheduler,\n",
    "    verbose=1,\n",
    ")\n",
    "\n",
    "# results dataframe sorted by best metric\n",
    "param_cols = [\"config.\" + k for k in xgb_tune_params]\n",
    "analysis_results_df = analysis.results_df[\n",
    "    [\"rmse\", \"date\", \"time_this_iter_s\"] + param_cols\n",
    "].sort_values(\"rmse\")\n",
    "\n",
    "# extract top row\n",
    "best_config = {z: analysis_results_df.iloc[0][\"config.\" + z] for z in xgb_tune_params}\n",
    "\n",
    "reg_model = xgb.XGBRegressor(\n",
    "    objective=\"reg:squarederror\",\n",
    "    random_state=config.RNG_STATE,\n",
    "    verbosity=1,\n",
    "    n_jobs=-1,\n",
    "    **best_config\n",
    ")\n",
    "print(reg_model)\n",
    "\n",
    "scores = -cross_val_score(\n",
    "    reg_model, X_np, y_np, scoring=\"neg_root_mean_squared_error\", cv=hblock.split(coords)\n",
    ")\n",
    "\n",
    "raw_scores = [cv_to_raw(x) for x in scores]\n",
    "print()\n",
    "print(\"Log1p CV RMSE %.06f (STD %.04f)\" % (np.mean(scores), np.std(scores)))\n",
    "print(\"Raw CV RMSE %.0f (STD %.0f)\" % (np.mean(raw_scores), np.std(raw_scores)))"
   ]
  },
  {
   "attachments": {},
   "cell_type": "markdown",
   "metadata": {},
   "source": [
    "### 6. Train model with spatial CV"
   ]
  },
  {
   "cell_type": "code",
   "execution_count": null,
   "metadata": {},
   "outputs": [],
   "source": [
    "X_np = X[X.columns.difference([\"geometry\"])].to_numpy()\n",
    "Y_np = Y[Y.columns.difference([\"geometry\"])].to_numpy()"
   ]
  },
  {
   "cell_type": "code",
   "execution_count": null,
   "metadata": {},
   "outputs": [],
   "source": [
    "for train_index, test_index in hblock.split(XYs):\n",
    "    xgb_model = xgb.XGBRegressor(\n",
    "        n_estimators=105, max_depth=2, n_jobs=2, random_state=config.RNG_STATE\n",
    "    ).fit(X_np[train_index], Y_np[train_index], verbose=2)\n",
    "    predictions = xgb_model.predict(X_np[test_index])\n",
    "    actuals = Y_np[test_index]\n",
    "    print(mean_squared_error(actuals, predictions))"
   ]
  },
  {
   "attachments": {},
   "cell_type": "markdown",
   "metadata": {},
   "source": [
    "## Old"
   ]
  },
  {
   "attachments": {},
   "cell_type": "markdown",
   "metadata": {},
   "source": [
    "Drop NaNs from labels and convert dataframes to numpy arrays"
   ]
  },
  {
   "cell_type": "code",
   "execution_count": null,
   "metadata": {},
   "outputs": [],
   "source": [
    "X_np = X.to_numpy()\n",
    "Y_np = Y.dropna().to_numpy()"
   ]
  },
  {
   "attachments": {},
   "cell_type": "markdown",
   "metadata": {},
   "source": [
    "Split into train and test and convert data into DMatrices for XGBoost"
   ]
  },
  {
   "cell_type": "code",
   "execution_count": null,
   "metadata": {},
   "outputs": [],
   "source": [
    "X_train, X_test, Y_train, Y_test = train_test_split(X_np, Y_np, test_size=2.0)\n",
    "\n",
    "D_train = xgb.DMatrix(X_train, label=Y_train)\n",
    "D_test = xgb.DMatrix(X_test, label=Y_test)"
   ]
  }
 ],
 "metadata": {
  "kernelspec": {
   "display_name": "traits",
   "language": "python",
   "name": "python3"
  },
  "language_info": {
   "codemirror_mode": {
    "name": "ipython",
    "version": 3
   },
   "file_extension": ".py",
   "mimetype": "text/x-python",
   "name": "python",
   "nbconvert_exporter": "python",
   "pygments_lexer": "ipython3",
   "version": "3.9.16"
  },
  "orig_nbformat": 4
 },
 "nbformat": 4,
 "nbformat_minor": 2
}
