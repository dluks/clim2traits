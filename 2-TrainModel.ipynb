{
 "cells": [
  {
   "attachments": {},
   "cell_type": "markdown",
   "metadata": {},
   "source": [
    "# 2: Train XGBoost Model\n",
    "\n",
    "Author: Daniel Lusk"
   ]
  },
  {
   "attachments": {},
   "cell_type": "markdown",
   "metadata": {},
   "source": [
    "## Imports and configuration"
   ]
  },
  {
   "cell_type": "code",
   "execution_count": 20,
   "metadata": {},
   "outputs": [
    {
     "name": "stdout",
     "output_type": "stream",
     "text": [
      "The autoreload extension is already loaded. To reload it, use:\n",
      "  %reload_ext autoreload\n"
     ]
    }
   ],
   "source": [
    "import geopandas as gpd\n",
    "import numpy as np\n",
    "import spacv\n",
    "import xgboost as xgb\n",
    "\n",
    "from sklearn.model_selection import GridSearchCV\n",
    "from sklearn.metrics import mean_squared_error\n",
    "from spacv.visualisation import plot_autocorrelation_ranges\n",
    "from TrainModelConfig import TrainModelConfig\n",
    "from utils.data_retrieval import all_gdfs\n",
    "from utils.geodata import drop_XY_NAs, merge_gdfs\n",
    "from utils.visualize import plot_splits\n",
    "\n",
    "%load_ext autoreload\n",
    "%autoreload 2\n",
    "\n",
    "config = TrainModelConfig()"
   ]
  },
  {
   "attachments": {},
   "cell_type": "markdown",
   "metadata": {},
   "source": [
    "## Load data"
   ]
  },
  {
   "cell_type": "code",
   "execution_count": 21,
   "metadata": {},
   "outputs": [],
   "source": [
    "X_fns = config.WC_fns + config.MODIS_fns + config.soil_fns\n",
    "Y_fns = config.iNat_fns\n",
    "\n",
    "X = all_gdfs(X_fns)\n",
    "Y = all_gdfs(Y_fns)"
   ]
  },
  {
   "attachments": {},
   "cell_type": "markdown",
   "metadata": {},
   "source": [
    "Compute Preciptation Annual Range by subtracting BIO14 from BIO13"
   ]
  },
  {
   "cell_type": "code",
   "execution_count": 22,
   "metadata": {},
   "outputs": [],
   "source": [
    "bio_13 = X.loc[:, [\"bio_13\" in x for x in X.columns]].values\n",
    "bio_14 = X.loc[:, [\"bio_14\" in x for x in X.columns]].values\n",
    "X[\"wc2.1_10m_bio_13-14\"] = bio_13 - bio_14"
   ]
  },
  {
   "attachments": {},
   "cell_type": "markdown",
   "metadata": {},
   "source": [
    "Drop the unnecessary `x`, `y`, `band` and `spatial_ref` columns."
   ]
  },
  {
   "cell_type": "code",
   "execution_count": 23,
   "metadata": {},
   "outputs": [],
   "source": [
    "X = X.drop(columns=[\"x\", \"y\", \"band\", \"spatial_ref\"])\n",
    "Y = Y.drop(columns=[\"x\", \"y\", \"band\", \"spatial_ref\"])"
   ]
  },
  {
   "attachments": {},
   "cell_type": "markdown",
   "metadata": {},
   "source": [
    "## XGBoost"
   ]
  },
  {
   "attachments": {},
   "cell_type": "markdown",
   "metadata": {},
   "source": [
    "<div class=\"alert alert-block alert-info\">\n",
    "To-Dos:\n",
    "\n",
    "1) ~~Create a data frame where you have all response variables and predictors.~~\n",
    "2) ~~Remove cells where you do not have a value for ANY predictor/response variable (you still may have NA for some columns then).~~\n",
    "3) Train the models and do the evaluation\n",
    "4) Repeat step 3, but remove rows where you have at least one NA\n",
    "5) Compare accuracies of step 3 and 4 and see what´s best.\n",
    "</div>"
   ]
  },
  {
   "attachments": {},
   "cell_type": "markdown",
   "metadata": {},
   "source": [
    "### Combine GDFs and clean up nodata"
   ]
  },
  {
   "attachments": {},
   "cell_type": "markdown",
   "metadata": {},
   "source": [
    "Get column names for easier predictor/response variable selection."
   ]
  },
  {
   "cell_type": "code",
   "execution_count": 24,
   "metadata": {},
   "outputs": [],
   "source": [
    "X_cols = X.columns.difference([\"geometry\"])\n",
    "Y_cols = Y.columns.difference([\"geometry\"])"
   ]
  },
  {
   "attachments": {},
   "cell_type": "markdown",
   "metadata": {},
   "source": [
    "Merge X and Y GDFs"
   ]
  },
  {
   "cell_type": "code",
   "execution_count": 25,
   "metadata": {},
   "outputs": [
    {
     "name": "stdout",
     "output_type": "stream",
     "text": [
      "X shape: (259200, 129)\n",
      "Y shape: (259200, 18)\n"
     ]
    }
   ],
   "source": [
    "XY = merge_gdfs([X, Y])\n",
    "print(\"X shape:\", XY[X_cols].shape)\n",
    "print(\"Y shape:\", XY[Y_cols].shape)"
   ]
  },
  {
   "attachments": {},
   "cell_type": "markdown",
   "metadata": {},
   "source": [
    "Drop all-NA rows and columns"
   ]
  },
  {
   "cell_type": "code",
   "execution_count": 26,
   "metadata": {},
   "outputs": [
    {
     "name": "stdout",
     "output_type": "stream",
     "text": [
      "XY shape before: (259200, 148)\n",
      "XY shape after: (26183, 147)\n",
      "# of rows excluded: 233017 (89.90%)\n",
      "\n",
      "Empty columns:\n",
      "X: ['soc_60-100cm_mean_0.5_deg'] \n",
      "Y: []\n"
     ]
    }
   ],
   "source": [
    "XY, X_cols, Y_cols = drop_XY_NAs(XY, X_cols, Y_cols, True)"
   ]
  },
  {
   "attachments": {},
   "cell_type": "markdown",
   "metadata": {},
   "source": [
    "### Calculate autocorrelation range of predictors and generate spatial folds for spatial cross-validation"
   ]
  },
  {
   "attachments": {},
   "cell_type": "markdown",
   "metadata": {},
   "source": [
    "#### Calculate autocorrelation ranges and use the median range as the cell size (may take a while)"
   ]
  },
  {
   "cell_type": "code",
   "execution_count": 35,
   "metadata": {},
   "outputs": [
    {
     "name": "stdout",
     "output_type": "stream",
     "text": [
      "Median range (km): 2330.63\n",
      "Median range (deg): 20.94\n"
     ]
    }
   ],
   "source": [
    "DEGREE = 111325  # Standard value for 1 degree in meters at the equator\n",
    "\n",
    "if config.SAVE_AUTOCORRELATION_RANGES:\n",
    "    coords = XY[\"geometry\"]\n",
    "    data = XY[X_cols]\n",
    "    upper = np.round(DEGREE * 120)\n",
    "    step = np.round(upper / 30)\n",
    "    bw = step // 2\n",
    "    lags = np.arange(0, upper, step)\n",
    "    \n",
    "    _, _, ranges = plot_autocorrelation_ranges(\n",
    "        coords, data, lags, bw, distance_metric=\"haversine\", workers=10\n",
    "    )\n",
    "\n",
    "    np.save(\"ranges.npy\", np.asarray(ranges))\n",
    "else:\n",
    "    ranges = np.load(\"ranges.npy\")\n",
    "\n",
    "autocorrelation_range = np.median(ranges)\n",
    "print(f\"Median range (km): {autocorrelation_range / 1000:.2f}\")\n",
    "print(f\"Median range (deg): {autocorrelation_range / DEGREE:.2f}\")"
   ]
  },
  {
   "attachments": {},
   "cell_type": "markdown",
   "metadata": {},
   "source": [
    "#### Explore splits for a single response variable"
   ]
  },
  {
   "cell_type": "code",
   "execution_count": 38,
   "metadata": {},
   "outputs": [
    {
     "name": "stdout",
     "output_type": "stream",
     "text": [
      "XY shape before dropping full-NA rows/cols: (26183, 130)\n",
      "XY shape after:                             (12061, 130)\n",
      "# of rows excluded: 14122 (53.94%)\n",
      "\n",
      " No columns were dropped.\n"
     ]
    }
   ],
   "source": [
    "sample_Xy = XY[[\"geometry\", *X_cols, Y_cols[0]]]\n",
    "\n",
    "sample_Xy, sample_X_cols, sample_y_col = drop_XY_NAs(\n",
    "    sample_Xy, X_cols, Y_cols[:1], True\n",
    ")"
   ]
  },
  {
   "cell_type": "code",
   "execution_count": 40,
   "metadata": {},
   "outputs": [
    {
     "name": "stdout",
     "output_type": "stream",
     "text": [
      "Tile size: 20.94 degrees\n"
     ]
    },
    {
     "data": {
      "image/png": "[encoded data removed]",
      "text/plain": [
       "<Figure size 640x480 with 1 Axes>"
      ]
     },
     "metadata": {},
     "output_type": "display_data"
    }
   ],
   "source": [
    "# Sample X data on which split dissimilarity will be measured\n",
    "sample_data = sample_Xy[sample_X_cols]\n",
    "sample_locs = sample_Xy[\"geometry\"]\n",
    "\n",
    "# Grid settings\n",
    "tile = autocorrelation_range / DEGREE\n",
    "tiles_x = int(np.round(360 / tile))\n",
    "tiles_y = int(np.round(180 / tile))\n",
    "\n",
    "# Spatial blocking\n",
    "hblock = spacv.HBLOCK(\n",
    "    tiles_x,\n",
    "    tiles_y,\n",
    "    shape=\"hex\",\n",
    "    method=\"optimized_random\",\n",
    "    buffer_radius=0.5,\n",
    "    n_groups=10,\n",
    "    data=sample_data,\n",
    "    n_sims=50,\n",
    "    distance_metric=\"haversine\",\n",
    "    random_state=config.RNG_STATE,\n",
    ")\n",
    "\n",
    "# Plot splits\n",
    "print(f\"Tile size: {tile:.2f} degrees\")\n",
    "plot_splits(hblock, sample_locs)"
   ]
  },
  {
   "attachments": {},
   "cell_type": "markdown",
   "metadata": {},
   "source": [
    "### Train models for each response variable"
   ]
  },
  {
   "cell_type": "code",
   "execution_count": null,
   "metadata": {},
   "outputs": [],
   "source": [
    "for y_col in Y_cols:\n",
    "    Xy = XY[[*X_cols, y_col]]\n",
    "    \n",
    "    # Drop lingering all-NAs\n",
    "    Xy = Xy.dropna(axis=0, how=\"all\")\n",
    "    Xy = Xy.dropna(axis=1, how=\"all\")\n",
    "\n",
    "    # Separate the dataframes\n",
    "    y = Xy[y_col]  # Current response variable\n",
    "    X_y = Xy[X_cols]  # X predictor matrix matched to current response variable\n",
    "    \n",
    "    # Spatially block data into cells according to the autocorrelation range and\n",
    "    # separate them into K folds\n",
    "    degree = 111.325\n",
    "    tile = autocorrelation_range / degree\n",
    "    tiles_x = int(np.round(360 / tile))\n",
    "    tiles_y = int(np.round(180 / tile))\n",
    "    \n",
    "    hblock = spacv.HBLOCK(\n",
    "        tiles_x,\n",
    "        tiles_y,\n",
    "        shape=\"hex\",\n",
    "        method=\"optimized_random\",\n",
    "        buffer_radius=0.5,\n",
    "        n_groups=10,\n",
    "        data=X_y,\n",
    "        n_sims=50,\n",
    "        distance_metric=\"haversine\",\n",
    "        random_state=config.RNG_STATE\n",
    "    )"
   ]
  },
  {
   "cell_type": "code",
   "execution_count": null,
   "metadata": {},
   "outputs": [],
   "source": []
  },
  {
   "attachments": {},
   "cell_type": "markdown",
   "metadata": {},
   "source": [
    "<p><h3>4. Divide into geographic splits for spatial K-fold cross-validation</h3></p>"
   ]
  },
  {
   "attachments": {},
   "cell_type": "markdown",
   "metadata": {},
   "source": [
    "#### 4.1 Generate variograms to determine block size"
   ]
  },
  {
   "attachments": {},
   "cell_type": "markdown",
   "metadata": {},
   "source": [
    "Drop column`soc_60-100cm_mean_0.5_deg` because it contains all NaNs"
   ]
  },
  {
   "cell_type": "code",
   "execution_count": null,
   "metadata": {},
   "outputs": [],
   "source": [
    "X = X.dropna(axis=1, how=\"all\")"
   ]
  },
  {
   "attachments": {},
   "cell_type": "markdown",
   "metadata": {},
   "source": [
    "Get median autocorrelation range of all predictors"
   ]
  },
  {
   "cell_type": "code",
   "execution_count": null,
   "metadata": {},
   "outputs": [],
   "source": [
    "if config.SAVE_AUTOCORRELATION_RANGES:\n",
    "    XYs = X[\"geometry\"]\n",
    "    degree = 111.325\n",
    "    upper = np.round(degree * 120)\n",
    "    step = np.round(degree * 6)\n",
    "    bw = step // 2\n",
    "    lags = np.arange(0, upper, step)\n",
    "\n",
    "    ranges = plot_autocorrelation_ranges(\n",
    "        XYs, X[X.columns.difference([\"geometry\"])], lags, bw, dist_func=\"haversine\"\n",
    "    )\n",
    "\n",
    "    np.save(\"ranges.npy\", np.asarray(ranges))\n",
    "else:\n",
    "    ranges = np.load(\"ranges.npy\")\n",
    "\n",
    "print(\"Median range:\", np.median(ranges))"
   ]
  },
  {
   "attachments": {},
   "cell_type": "markdown",
   "metadata": {},
   "source": [
    "#### 4.2 Plot splits using median autocorrelation range"
   ]
  },
  {
   "cell_type": "code",
   "execution_count": null,
   "metadata": {},
   "outputs": [],
   "source": [
    "XYs = X[\"geometry\"]\n",
    "med = 2521.42\n",
    "degree = 111.325\n",
    "tile = med / degree\n",
    "tiles_x = int(np.round(360 / tile))\n",
    "tiles_y = int(np.round(180 / tile))\n",
    "\n",
    "hblock = spacv.HBLOCK(\n",
    "    tiles_x,\n",
    "    tiles_y,\n",
    "    shape=\"hex\",\n",
    "    method=\"optimized_random\",\n",
    "    buffer_radius=0.5,\n",
    "    n_groups=10,\n",
    "    data=X[X.columns.difference([\"geometry\"])],\n",
    "    n_sims=50,\n",
    "    distance_metric=\"haversine\",\n",
    "    random_state=config.RNG_STATE\n",
    ")\n",
    "\n",
    "plot_splits(hblock, XYs)"
   ]
  },
  {
   "attachments": {},
   "cell_type": "markdown",
   "metadata": {},
   "source": [
    "### </p>5. Identify optimal parameters with `GridSearchCV`</p>"
   ]
  },
  {
   "cell_type": "code",
   "execution_count": null,
   "metadata": {},
   "outputs": [],
   "source": [
    "X_np = X[X.columns.difference([\"geometry\"])].to_numpy()\n",
    "Y_np = Y[Y.columns.difference([\"geometry\"])].to_numpy()"
   ]
  },
  {
   "cell_type": "code",
   "execution_count": null,
   "metadata": {},
   "outputs": [],
   "source": [
    "D_X = xgb.DMatrix(X_np)\n",
    "D_Y = xgb.DMatrix(Y_np)"
   ]
  },
  {
   "cell_type": "code",
   "execution_count": null,
   "metadata": {},
   "outputs": [],
   "source": [
    "print(\"Parameter optimization\")\n",
    "xgb_model = xgb.XGBRegressor(n_jobs=2)\n",
    "clf = GridSearchCV(\n",
    "    xgb_model,\n",
    "    {\"max_depth\": [2], \"n_estimators\": [105]},\n",
    "    verbose=1,\n",
    "    n_jobs=2,\n",
    "    cv=hblock.split(XYs),\n",
    ")\n",
    "clf.fit(X_np, Y_np)\n",
    "print(clf.best_score_)\n",
    "print(clf.best_params_)"
   ]
  },
  {
   "attachments": {},
   "cell_type": "markdown",
   "metadata": {},
   "source": [
    "```shell\n",
    "Parameter optimization\n",
    "Fitting 10 folds for each of 9 candidates, totalling 90 fits\n",
    "0.2543011237254429\n",
    "{'max_depth': 2, 'n_estimators': 200}\n",
    "```"
   ]
  },
  {
   "attachments": {},
   "cell_type": "markdown",
   "metadata": {},
   "source": [
    "### 6. Train model with spatial CV"
   ]
  },
  {
   "cell_type": "code",
   "execution_count": null,
   "metadata": {},
   "outputs": [],
   "source": [
    "X_np = X[X.columns.difference([\"geometry\"])].to_numpy()\n",
    "Y_np = Y[Y.columns.difference([\"geometry\"])].to_numpy()"
   ]
  },
  {
   "cell_type": "code",
   "execution_count": null,
   "metadata": {},
   "outputs": [],
   "source": [
    "for train_index, test_index in hblock.split(XYs):\n",
    "    xgb_model = xgb.XGBRegressor(\n",
    "        n_estimators=105, max_depth=2, n_jobs=2, random_state=config.RNG_STATE\n",
    "    ).fit(X_np[train_index], Y_np[train_index], verbose=2)\n",
    "    predictions = xgb_model.predict(X_np[test_index])\n",
    "    actuals = Y_np[test_index]\n",
    "    print(mean_squared_error(actuals, predictions))"
   ]
  },
  {
   "attachments": {},
   "cell_type": "markdown",
   "metadata": {},
   "source": [
    "## Old"
   ]
  },
  {
   "attachments": {},
   "cell_type": "markdown",
   "metadata": {},
   "source": [
    "Drop NaNs from labels and convert dataframes to numpy arrays"
   ]
  },
  {
   "cell_type": "code",
   "execution_count": null,
   "metadata": {},
   "outputs": [],
   "source": [
    "X_np = X.to_numpy()\n",
    "Y_np = Y.dropna().to_numpy()"
   ]
  },
  {
   "attachments": {},
   "cell_type": "markdown",
   "metadata": {},
   "source": [
    "Split into train and test and convert data into DMatrices for XGBoost"
   ]
  },
  {
   "cell_type": "code",
   "execution_count": null,
   "metadata": {},
   "outputs": [],
   "source": [
    "X_train, X_test, Y_train, Y_test = train_test_split(X_np, Y_np, test_size=2.0)\n",
    "\n",
    "D_train = xgb.DMatrix(X_train, label=Y_train)\n",
    "D_test = xgb.DMatrix(X_test, label=Y_test)"
   ]
  }
 ],
 "metadata": {
  "kernelspec": {
   "display_name": "traits",
   "language": "python",
   "name": "python3"
  },
  "language_info": {
   "codemirror_mode": {
    "name": "ipython",
    "version": 3
   },
   "file_extension": ".py",
   "mimetype": "text/x-python",
   "name": "python",
   "nbconvert_exporter": "python",
   "pygments_lexer": "ipython3",
   "version": "3.9.16"
  },
  "orig_nbformat": 4
 },
 "nbformat": 4,
 "nbformat_minor": 2
}
