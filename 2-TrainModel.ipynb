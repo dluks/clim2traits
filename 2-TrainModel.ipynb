{
 "cells": [
  {
   "attachments": {},
   "cell_type": "markdown",
   "metadata": {},
   "source": [
    "# 2: Train XGBoost Model\n",
    "\n",
    "Author: Daniel Lusk"
   ]
  },
  {
   "attachments": {},
   "cell_type": "markdown",
   "metadata": {},
   "source": [
    "## Imports and configuration"
   ]
  },
  {
   "cell_type": "code",
   "execution_count": null,
   "metadata": {},
   "outputs": [],
   "source": [
    "import os\n",
    "\n",
    "import rioxarray as riox\n",
    "\n",
    "import utils\n",
    "from TrainModelConfig import Config\n",
    "\n",
    "%load_ext autoreload\n",
    "%autoreload 2"
   ]
  },
  {
   "attachments": {},
   "cell_type": "markdown",
   "metadata": {},
   "source": [
    "Load configuration"
   ]
  },
  {
   "cell_type": "code",
   "execution_count": null,
   "metadata": {},
   "outputs": [],
   "source": [
    "config = Config()"
   ]
  },
  {
   "attachments": {},
   "cell_type": "markdown",
   "metadata": {},
   "source": [
    "## Load data"
   ]
  },
  {
   "attachments": {},
   "cell_type": "markdown",
   "metadata": {},
   "source": [
    "### iNaturalist trait maps"
   ]
  },
  {
   "cell_type": "code",
   "execution_count": null,
   "metadata": {},
   "outputs": [],
   "source": [
    "trait_gdfs = []\n",
    "for trait_fn in config.iNat_fns():\n",
    "    gdf = utils.tif2gdf(trait_fn)\n",
    "    trait_gdfs.append(gdf)\n",
    "\n",
    "trait_gdfs = utils.merge_gdfs(trait_gdfs)\n",
    "trait_gdfs.head(2)"
   ]
  },
  {
   "attachments": {},
   "cell_type": "markdown",
   "metadata": {},
   "source": [
    "## WorldClim"
   ]
  },
  {
   "attachments": {},
   "cell_type": "markdown",
   "metadata": {},
   "source": [
    "Load the tifs and resample to 0.5 degrees"
   ]
  },
  {
   "cell_type": "code",
   "execution_count": null,
   "metadata": {},
   "outputs": [],
   "source": [
    "bio_vars = [1, 4, 7, 12, 13, 14, 15]\n",
    "\n",
    "bios = []\n",
    "for bio_fn in config.WC_fns(bio_vars):\n",
    "    name = os.path.splitext(os.path.basename(bio_fn))[0]\n",
    "    bio = riox.open_rasterio(bio_fn, masked=True)\n",
    "    bio.name = name\n",
    "    bios.append(bio)\n",
    "\n",
    "scale_factor = 1/3\n",
    "bios = [utils.resample_raster(bio, scale_factor) for bio in bios]"
   ]
  },
  {
   "cell_type": "markdown",
   "metadata": {},
   "source": [
    "Convert to GeoDataFrames and merge"
   ]
  },
  {
   "cell_type": "code",
   "execution_count": null,
   "metadata": {},
   "outputs": [],
   "source": [
    "bio_gdfs = utils.merge_gdfs([utils.tif2gdf(bio) for bio in bios])\n",
    "bio_gdfs.head(2)"
   ]
  },
  {
   "cell_type": "markdown",
   "metadata": {},
   "source": [
    "Compute Preciptation Annual Range by subtracting BIO14 from BIO13"
   ]
  },
  {
   "cell_type": "code",
   "execution_count": null,
   "metadata": {},
   "outputs": [],
   "source": [
    "bio_13 = bio_gdfs.loc[:, [\"bio_13\" in x for x in bio_gdfs.columns]].values\n",
    "bio_14 = bio_gdfs.loc[:, [\"bio_14\" in x for x in bio_gdfs.columns]].values\n",
    "bio_gdfs[\"wc2.1_10m_bio_13-14\"] = bio_13 - bio_14\n",
    "bio_gdfs.head(2)"
   ]
  },
  {
   "attachments": {},
   "cell_type": "markdown",
   "metadata": {},
   "source": [
    "## XGBoost"
   ]
  }
 ],
 "metadata": {
  "kernelspec": {
   "display_name": "traits",
   "language": "python",
   "name": "python3"
  },
  "language_info": {
   "codemirror_mode": {
    "name": "ipython",
    "version": 3
   },
   "file_extension": ".py",
   "mimetype": "text/x-python",
   "name": "python",
   "nbconvert_exporter": "python",
   "pygments_lexer": "ipython3",
   "version": "3.9.16"
  },
  "orig_nbformat": 4
 },
 "nbformat": 4,
 "nbformat_minor": 2
}
