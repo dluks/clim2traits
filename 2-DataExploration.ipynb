{
 "cells": [
  {
   "cell_type": "markdown",
   "metadata": {},
   "source": [
    "# 2: Data Exploration\n",
    "Author: Daniel Lusk"
   ]
  },
  {
   "cell_type": "code",
   "execution_count": null,
   "metadata": {},
   "outputs": [],
   "source": [
    "import os\n",
    "os.environ['USE_PYGEOS'] = '0'\n",
    "import json\n",
    "\n",
    "from pathlib import Path\n",
    "\n",
    "from utils.datasets import CollectionName, Dataset, GBIFBand\n",
    "from utils.visualize import plot_distributions\n",
    "\n",
    "%load_ext autoreload\n",
    "%autoreload 2"
   ]
  },
  {
   "cell_type": "markdown",
   "metadata": {},
   "source": [
    "## TRY + GBIF/iNaturalist trait maps"
   ]
  },
  {
   "cell_type": "markdown",
   "metadata": {},
   "source": [
    "### Visualize TRY + GBIF/iNaturalist trait maps\n",
    "\n",
    "First, let's look at the trait maps generated from TRY/iNaturalist observations by [Wolf, et al. (2022)](https://doi.org/10.1038/s41559-022-01904-x)."
   ]
  },
  {
   "cell_type": "code",
   "execution_count": null,
   "metadata": {},
   "outputs": [],
   "source": [
    "gbif = Dataset(\n",
    "    res=0.5,\n",
    "    collection_name=CollectionName.GBIF,\n",
    "    band=GBIFBand.MEAN\n",
    ")\n",
    "\n",
    "splot = Dataset(\n",
    "    res=0.5,\n",
    "    collection_name=CollectionName.SPLOT,\n",
    "    band=GBIFBand.MEAN\n",
    ")\n",
    "\n",
    "gbif_ln = Dataset(\n",
    "    res=0.5,\n",
    "    collection_name=CollectionName.GBIF_LN,\n",
    "    band=GBIFBand.MEAN\n",
    ")\n",
    "\n",
    "splot_ln = Dataset(\n",
    "    res=0.5,\n",
    "    collection_name=CollectionName.SPLOT_LN,\n",
    "    band=GBIFBand.MEAN\n",
    ")"
   ]
  },
  {
   "cell_type": "code",
   "execution_count": null,
   "metadata": {},
   "outputs": [],
   "source": [
    "# Map trait IDs to trait names\n",
    "\n",
    "# Rename response variable values according to the trait id -> trait name mapping\n",
    "with open(\"./trait_id_to_trait_name.json\", \"r\") as f:\n",
    "    mapping = json.load(f)\n",
    "\n",
    "# Replace each column in gbif.df and splot.df according to the pattern \"TRYgapfilled_X{trait_id}_\" with {trait_name}\n",
    "for trait_id, trait_name in mapping.items():\n",
    "    gbif.df = gbif.df.rename(columns={f\"GBIF_TRYgapfilled_X{trait_id}_05deg_mean\": f\"GBIF_{trait_name}_05deg_mean\"})\n",
    "    splot.df = splot.df.rename(columns={f\"sPlot_TRYgapfilled_X{trait_id}_05deg_mean\": f\"sPlot_{trait_name}_05deg_mean\"})\n",
    "    gbif_ln.df = gbif_ln.df.rename(columns={f\"GBIF_TRYgapfilled_X{trait_id}_05deg_mean_ln\": f\"GBIF_{trait_name}_05deg_mean_ln\"})\n",
    "    splot_ln.df = splot_ln.df.rename(columns={f\"sPlot_TRYgapfilled_X{trait_id}_05deg_mean_ln\": f\"sPlot_{trait_name}_05deg_mean_ln\"})\n"
   ]
  },
  {
   "cell_type": "markdown",
   "metadata": {},
   "source": [
    "### GBIF trait distributions"
   ]
  },
  {
   "cell_type": "code",
   "execution_count": null,
   "metadata": {},
   "outputs": [],
   "source": [
    "plot_distributions(gbif.df.drop(columns=[\"geometry\"]), pdf=True)\n"
   ]
  },
  {
   "cell_type": "code",
   "execution_count": null,
   "metadata": {},
   "outputs": [],
   "source": [
    "plot_distributions(gbif_ln.df.drop(columns=[\"geometry\"]), pdf=True)"
   ]
  },
  {
   "cell_type": "markdown",
   "metadata": {},
   "source": [
    "### sPlotOpen trait distributions"
   ]
  },
  {
   "cell_type": "code",
   "execution_count": null,
   "metadata": {},
   "outputs": [],
   "source": [
    "plot_distributions(splot.df.drop(columns=[\"geometry\"]), pdf=True)"
   ]
  },
  {
   "cell_type": "markdown",
   "metadata": {},
   "source": [
    "## Predictor data\n",
    "\n",
    "### MODIS surface reflectances"
   ]
  },
  {
   "cell_type": "code",
   "execution_count": null,
   "metadata": {},
   "outputs": [],
   "source": [
    "modis = Dataset(\n",
    "    collection_name=CollectionName.MODIS,\n",
    ")"
   ]
  },
  {
   "cell_type": "markdown",
   "metadata": {},
   "source": [
    "Inspect each feature for anomalies"
   ]
  },
  {
   "cell_type": "code",
   "execution_count": null,
   "metadata": {},
   "outputs": [],
   "source": [
    "modis.plot_rasters()"
   ]
  },
  {
   "cell_type": "markdown",
   "metadata": {},
   "source": [
    "Inspect feature distributions"
   ]
  },
  {
   "cell_type": "code",
   "execution_count": null,
   "metadata": {},
   "outputs": [],
   "source": [
    "modis.plot_distributions(pdf=True)"
   ]
  },
  {
   "cell_type": "markdown",
   "metadata": {},
   "source": [
    "### WorldClim bio variables"
   ]
  },
  {
   "cell_type": "code",
   "execution_count": null,
   "metadata": {},
   "outputs": [],
   "source": [
    "wc = Dataset(\n",
    "    collection_name=CollectionName.WORLDCLIM\n",
    ")"
   ]
  },
  {
   "cell_type": "markdown",
   "metadata": {},
   "source": [
    "Inspect features for anomalies"
   ]
  },
  {
   "cell_type": "code",
   "execution_count": null,
   "metadata": {},
   "outputs": [],
   "source": [
    "wc.plot_rasters()"
   ]
  },
  {
   "cell_type": "markdown",
   "metadata": {},
   "source": [
    "Inspect feature distributions"
   ]
  },
  {
   "cell_type": "code",
   "execution_count": null,
   "metadata": {},
   "outputs": [],
   "source": [
    "wc.plot_distributions(pdf=True)"
   ]
  },
  {
   "cell_type": "markdown",
   "metadata": {},
   "source": [
    "### ISRIC SoilGrids"
   ]
  },
  {
   "cell_type": "code",
   "execution_count": null,
   "metadata": {},
   "outputs": [],
   "source": [
    "soil = Dataset(\n",
    "    collection_name=CollectionName.SOIL\n",
    ")"
   ]
  },
  {
   "cell_type": "code",
   "execution_count": null,
   "metadata": {},
   "outputs": [],
   "source": [
    "soil.plot_rasters()"
   ]
  },
  {
   "cell_type": "code",
   "execution_count": null,
   "metadata": {},
   "outputs": [],
   "source": [
    "soil.plot_distributions(pdf=True)"
   ]
  },
  {
   "cell_type": "markdown",
   "metadata": {},
   "source": [
    "### VODCA"
   ]
  },
  {
   "cell_type": "code",
   "execution_count": null,
   "metadata": {},
   "outputs": [],
   "source": [
    "vodca = Dataset(\n",
    "    collection_name=CollectionName.VODCA,\n",
    ")"
   ]
  },
  {
   "cell_type": "code",
   "execution_count": null,
   "metadata": {},
   "outputs": [],
   "source": [
    "vodca.plot_rasters()"
   ]
  },
  {
   "cell_type": "code",
   "execution_count": null,
   "metadata": {},
   "outputs": [],
   "source": [
    "vodca.plot_distributions(pdf=True)"
   ]
  }
 ],
 "metadata": {
  "kernelspec": {
   "display_name": "traits",
   "language": "python",
   "name": "python3"
  },
  "language_info": {
   "codemirror_mode": {
    "name": "ipython",
    "version": 3
   },
   "file_extension": ".py",
   "mimetype": "text/x-python",
   "name": "python",
   "nbconvert_exporter": "python",
   "pygments_lexer": "ipython3",
   "version": "3.9.16"
  }
 },
 "nbformat": 4,
 "nbformat_minor": 2
}
